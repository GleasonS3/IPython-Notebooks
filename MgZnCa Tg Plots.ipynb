{
 "cells": [
  {
   "cell_type": "code",
   "execution_count": 1,
   "metadata": {
    "collapsed": false
   },
   "outputs": [
    {
     "data": {
      "text/plain": [
       "'Code to plot MgZnCa Temperature Properites from .txt directory\\nCode by Scott Gleason, University of New South Wales (UNSW), Australia \\nS.Gleason@student.unsw.edu.au, June 2015'"
      ]
     },
     "execution_count": 1,
     "metadata": {},
     "output_type": "execute_result"
    }
   ],
   "source": [
    "'''Code to plot MgZnCa Temperature Properites from .txt directory\n",
    "Code by Scott Gleason, University of New South Wales (UNSW), Australia \n",
    "S.Gleason@student.unsw.edu.au, June 2015'''"
   ]
  },
  {
   "cell_type": "code",
   "execution_count": 2,
   "metadata": {
    "collapsed": false
   },
   "outputs": [],
   "source": [
    "'''Imports numpy, matplotlib, and glob libaries \n",
    "numpy & matplotlib allow for complex math\n",
    "glob allows for pattern matching with * and ? wild cards\n",
    "    (note glob's only function is glob (i.e. glob.glob('search critrea')))'''\n",
    "\n",
    "'%matplotlib inline'\n",
    "'Generates plots inline of the notebook. Commit out if want indivudual files'\n",
    "\n",
    "import numpy as np\n",
    "import matplotlib.pyplot as plt\n",
    "from matplotlib.ticker import AutoMinorLocator #Used for minor axis ticks\n",
    "import glob"
   ]
  },
  {
   "cell_type": "code",
   "execution_count": 3,
   "metadata": {
    "collapsed": false
   },
   "outputs": [
    {
     "name": "stdout",
     "output_type": "stream",
     "text": [
      "C:\\Users\\z3492622\\Documents\\PhD Project\\Results\n"
     ]
    }
   ],
   "source": [
    "cd 'C:\\\\Users\\\\z3492622\\\\Documents\\\\PhD Project\\\\Results'"
   ]
  },
  {
   "cell_type": "code",
   "execution_count": 4,
   "metadata": {
    "collapsed": false
   },
   "outputs": [
    {
     "name": "stdout",
     "output_type": "stream",
     "text": [
      "C:\\Users\\z3492622\\Documents\\PhD Project\\Results\\Modelling\n"
     ]
    }
   ],
   "source": [
    "cd 'Modelling\\\\'"
   ]
  },
  {
   "cell_type": "code",
   "execution_count": 5,
   "metadata": {
    "collapsed": false
   },
   "outputs": [
    {
     "name": "stdout",
     "output_type": "stream",
     "text": [
      "Directory to be anaylised:\n",
      "MgZnCa BMG Properites\n"
     ]
    }
   ],
   "source": [
    "'Directs to directory containing files to be anaylised'\n",
    "\n",
    "Folder = 'MgZnCa BMG Properites'\n",
    "\n",
    "print 'Directory to be anaylised:'\n",
    "print Folder"
   ]
  },
  {
   "cell_type": "code",
   "execution_count": 6,
   "metadata": {
    "collapsed": false
   },
   "outputs": [],
   "source": [
    "def dataFilesRange(FileType, StartFile = 0, EndFile = None):\n",
    "    '''Preforms a glob list of *.filetype within directory\n",
    "    FileType = csv, txt, etc\n",
    "    StartFile = Number of first file to be anaylsis from the glob\n",
    "        Defaulted to 0\n",
    "    EndFile = Number of last file to be anaylsis from the glob\n",
    "        Defaulted to None, as to return last value'''\n",
    "    \n",
    "    'assertion test for the function'\n",
    "    assert StartFile > -1, 'First file must be atleast 0'\n",
    "    if EndFile<>None:\n",
    "        assert EndFile > 0, 'Last file must be atleast 1'\n",
    "\n",
    "    dataFiles = glob.glob(Folder + '\\\\*.'+ FileType)\n",
    "\n",
    "    'set range of files to be analysed'\n",
    "    Range = dataFiles[StartFile:EndFile]\n",
    "\n",
    "    return Range"
   ]
  },
  {
   "cell_type": "code",
   "execution_count": 7,
   "metadata": {
    "collapsed": false
   },
   "outputs": [],
   "source": [
    "def dataArray(filename, Delimiter = ',', StartRow = 1, LastColumn = None):\n",
    "    '''Creates an array from an input file, and defines limits of the array\n",
    "    filename = file to anaylisied\n",
    "    Delimiter = data separator (defaulted to ',' for .csv)\n",
    "    StartRow = row data starts on (defaulted to 1)\n",
    "    LastColumn = column data ends on (defaulted to None)\n",
    "    Note: .txt use 'None' as Delimiter'''\n",
    "    \n",
    "    assert StartRow > 0, 'First row must be atleast 1'\n",
    "    \n",
    "    '''If condition determining the last column of the array\n",
    "    also contains assertion to ensure last column is valid'''\n",
    "    if LastColumn<>None:\n",
    "        assert LastColumn > 0, 'Last column must be atleast 1'\n",
    "        Column = range(0, LastColumn, 1)\n",
    "    else:\n",
    "        Column = None\n",
    "\n",
    "    'Returns array of data, do not edit this string'\n",
    "    return np.loadtxt(filename, delimiter = Delimiter,\n",
    "                      skiprows = StartRow - 1, \n",
    "                      usecols = Column)"
   ]
  },
  {
   "cell_type": "code",
   "execution_count": 8,
   "metadata": {
    "collapsed": false
   },
   "outputs": [],
   "source": [
    "def plotFile(filename, title, xAxis=1, yAxis=2):\n",
    "    '''Generates a plot of data from a file, and formates chart layout\n",
    "    filename = file to anaylisied\n",
    "    title = tile of the plot\n",
    "    xAxis = Column of X-Axis Data (defaulted to 1st column)\n",
    "    yAxis = Column of Y-Axis Data (defaulted to 2nd column)'''\n",
    "    \n",
    "    'Assertion to ensure x and y axis are valid'\n",
    "    assert xAxis > 0, 'X Axis must be at least 1'\n",
    "    assert yAxis > 0, 'Y Axis must be at least 1'\n",
    "    \n",
    "    'Defines the columns X & Y axis data come from in filename array'\n",
    "    xAxisData = filename[:, xAxis-1]\n",
    "    Y1 = filename[:, yAxis-1]\n",
    "    Y2 = filename[:, yAxis]\n",
    "    Y3 = filename[:, yAxis+1]\n",
    "    \n",
    "    'Define Plot layout, axis lables, legends, etc'\n",
    "    PlotLayout = {'fileName': title, # Plot filename \n",
    "                  'title': title, # Title lable\n",
    "                  'titleFontSize': 25, # Title lable font size\n",
    "                  'X-Lable': '$X$ $(at\\%)$', # X axis lable\n",
    "                  'Y-Lable': '$T_{g}$  $(^{\\circ}C)$', # Y axis lable\n",
    "                  'axisFontSize': 18, # X & Y axis lable font size\n",
    "                  'xAxisMin': -1, # lower scale limit for x axis\n",
    "                  'xAxisMax': 16, # upper scale limit for X axis\n",
    "                  'yAxisMin': 50, # lower scale limit for y axis\n",
    "                  'yAxisMax': 200, # upper scale limit for y axis\n",
    "                  'lineColourType': 'b', # line colour and style\n",
    "                  'lineWeight': 1.2 # weight of line\n",
    "                  }\n",
    "    \n",
    "    'Add PlotLayout objects to plot'\n",
    "    plt.figure(PlotLayout['fileName'])\n",
    "    plt.title(PlotLayout['title'], fontsize = PlotLayout['titleFontSize'])\n",
    "    plt.xlabel(PlotLayout['X-Lable'], fontsize = PlotLayout['axisFontSize'])\n",
    "    plt.ylabel(PlotLayout['Y-Lable'], fontsize = PlotLayout['axisFontSize'])\n",
    "    \n",
    "    \n",
    "    \n",
    "    'Add Tg Limit Lines'\n",
    "    r = np.linspace(0,50,10000) # linearly spaced numbers\n",
    "    TgL = 93 + r*0 #\n",
    "    TgH = 146 + r*0 #\n",
    "    TgLP = 118 + r*0 #\n",
    "    TgHP = 174 + r*0 #\n",
    "     \n",
    "    TgLimitLines = [\n",
    "    {'xAxis': r, 'yAxis': TgL, 'colour': 'black', 'line': '--'},\n",
    "    {'xAxis': r, 'yAxis': TgH, 'colour': 'black', 'line': '--'},\n",
    "    {'xAxis': r, 'yAxis': TgLP, 'colour': 'purple', 'line': ':'},\n",
    "    {'xAxis': r, 'yAxis': TgHP, 'colour': 'purple', 'line': ':'}]\n",
    "    \n",
    "    for i in TgLimitLines:\n",
    "        plt.plot(i['xAxis'], i['yAxis'], \n",
    "                color=i['colour'], linestyle=i['line'], \n",
    "                linewidth=PlotLayout['lineWeight'])\n",
    "    \n",
    "    \n",
    "    \n",
    "    'Turns on minor axis ticks'\n",
    "    plt.minorticks_on()\n",
    "\n",
    "    'Generates the plot'\n",
    "    plt.hold(True)\n",
    "    plt.plot(xAxisData, Y1, linewidth = PlotLayout['lineWeight'],\n",
    "            label='$Mg_{70-X}Zn_{24+X}Ca_{6}$')\n",
    "    plt.plot(xAxisData, Y2, linewidth = PlotLayout['lineWeight'],\n",
    "            label='$Mg_{72-X}Zn_{24+X}Ca_{4}$')\n",
    "    plt.plot(xAxisData, Y3, linewidth = PlotLayout['lineWeight'],\n",
    "            label='$Mg_{75-X}Zn_{20+X}Ca_{5}$')\n",
    "    plt.axis([PlotLayout['xAxisMin'], PlotLayout['xAxisMax'], \n",
    "             PlotLayout['yAxisMin'], PlotLayout['yAxisMax']])\n",
    "    plt.legend(loc = 2)\n",
    "    plt.show()"
   ]
  },
  {
   "cell_type": "code",
   "execution_count": 9,
   "metadata": {
    "collapsed": false
   },
   "outputs": [
    {
     "name": "stdout",
     "output_type": "stream",
     "text": [
      "['MgZnCa BMG Properites\\\\Z_All_Tgs.txt']\n"
     ]
    }
   ],
   "source": [
    "filesToPlot = dataFilesRange('txt', 4, 5)\n",
    "print filesToPlot"
   ]
  },
  {
   "cell_type": "code",
   "execution_count": 10,
   "metadata": {
    "collapsed": true
   },
   "outputs": [],
   "source": [
    "def PlotFile(filename, title):\n",
    "    '''Plot a .txt or .csv file with a title\n",
    "    Prints filepath of each *.filetype file anaylisied \n",
    "    Uses dataArray() function to print matrix of each file\n",
    "    Uses dataArray() and plotFile() functions to plot each file'''\n",
    "\n",
    "    print filename #Prints files\n",
    "    '''dataArray takes 4 arrguments; filename, Delimiter, StartRow, and LastColumn\n",
    "    Note1: For .csv Delimiter = ',' and for .txt Delimiter = None'''\n",
    "    dataToPlot = dataArray(filename, None, 2, None) #Defines data and limits\n",
    "    print dataToPlot #Prints matrix\n",
    "    'plotfile requires the X & Y axis be specified'\n",
    "    plotFile(dataToPlot, title, 1, 2) #Generates plot"
   ]
  },
  {
   "cell_type": "code",
   "execution_count": 11,
   "metadata": {
    "collapsed": false
   },
   "outputs": [
    {
     "name": "stdout",
     "output_type": "stream",
     "text": [
      "MgZnCa BMG Properites\\Z_All_Tgs.txt\n",
      "[[   0.     84.    120.    114.  ]\n",
      " [   2.     86.    128.    118.  ]\n",
      " [   3.    111.    128.5   120.  ]\n",
      " [   4.     84.    129.    122.  ]\n",
      " [   5.     86.5   130.    124.  ]\n",
      " [   6.     89.    131.    128.  ]\n",
      " [   7.5    89.    136.25  134.  ]\n",
      " [   8.     89.    138.    134.5 ]\n",
      " [  10.     89.    138.    141.5 ]\n",
      " [  15.     89.    138.    169.  ]]\n"
     ]
    }
   ],
   "source": [
    "PlotFile(filesToPlot[0], '$MgZnCa$ System $T_{g}$')"
   ]
  },
  {
   "cell_type": "code",
   "execution_count": null,
   "metadata": {
    "collapsed": true
   },
   "outputs": [],
   "source": []
  }
 ],
 "metadata": {
  "kernelspec": {
   "display_name": "Python 2",
   "language": "python",
   "name": "python2"
  },
  "language_info": {
   "codemirror_mode": {
    "name": "ipython",
    "version": 2
   },
   "file_extension": ".py",
   "mimetype": "text/x-python",
   "name": "python",
   "nbconvert_exporter": "python",
   "pygments_lexer": "ipython2",
   "version": "2.7.8"
  }
 },
 "nbformat": 4,
 "nbformat_minor": 0
}
