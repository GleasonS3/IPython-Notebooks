{
 "cells": [
  {
   "cell_type": "code",
   "execution_count": 1,
   "metadata": {
    "collapsed": false
   },
   "outputs": [
    {
     "data": {
      "text/plain": [
       "'Code for the Volume of Tagets\\nCode by Scott Gleason, University of New South Wales (UNSW), Australia \\nS.Gleason@student.unsw.edu.au, April 2015'"
      ]
     },
     "execution_count": 1,
     "metadata": {},
     "output_type": "execute_result"
    }
   ],
   "source": [
    "'''Code for the Volume of Tagets\n",
    "Code by Scott Gleason, University of New South Wales (UNSW), Australia \n",
    "S.Gleason@student.unsw.edu.au, April 2015'''"
   ]
  },
  {
   "cell_type": "code",
   "execution_count": 2,
   "metadata": {
    "collapsed": false
   },
   "outputs": [],
   "source": [
    "'imports numpy and matplotlib libaries into code'\n",
    "import numpy as np\n",
    "import matplotlib.pyplot as plt"
   ]
  },
  {
   "cell_type": "code",
   "execution_count": 3,
   "metadata": {
    "collapsed": false
   },
   "outputs": [],
   "source": [
    "def CylindarVolume(Diameter = 25.4, Thickness = 4.0):\n",
    "    '''Finds the volume of a cylindar as given by \n",
    "    V = pi * (D/2)^2 * t\n",
    "    Diameter is in mm, default 25.4 mm\n",
    "    Thickness is in mm, default 4 mm'''\n",
    "    \n",
    "    assert Diameter > 0.0, \"Diameter must be a positive value\"\n",
    "    assert Thickness > 0.0, \"Thickness must be a positive value\"\n",
    "    \n",
    "    Radius = Diameter / 2.0\n",
    "    Volume = np.pi * Thickness * Radius**2 #mm^3\n",
    "    VolumeCC = Volume / 1000 #cc #(1000mm^3 per cm^3)\n",
    "    print 'Radius R is', Radius, 'mm'\n",
    "    print 'Thickness t is', Thickness, 'mm'\n",
    "    print 'Volume of cylinder is', round(Volume, 3), 'mm^3'\n",
    "    print 'Volume of cylinder is', round(VolumeCC, 3), 'cc'"
   ]
  },
  {
   "cell_type": "code",
   "execution_count": 4,
   "metadata": {
    "collapsed": false
   },
   "outputs": [],
   "source": [
    "def PlateVolume(Thickness = 4.0, Height = 49.0, Length = 102.0):\n",
    "    '''Finds the volume of a plate as given by \n",
    "    V = L * H * t\n",
    "    Thickness is in mm, default 4 mm\n",
    "    Height is in mm, default 49 mm\n",
    "    Length is in mm, default 102 mm'''\n",
    "    \n",
    "    assert Thickness > 0.0, \"Thickness must be a positive value\"\n",
    "    assert Height > 0.0, \"Height must be a positive value\"\n",
    "    assert Length > 0.0, \"Length must be a positive value\"\n",
    "    \n",
    "    Volume = Length * Height * Thickness #mm^3\n",
    "    VolumeCC = Volume / 1000 #cc #(1000mm^3 per cm^3)\n",
    "    print 'Thickness t is', Thickness, 'mm'\n",
    "    print 'Height H is', Height, 'mm'\n",
    "    print 'Length L is', Length, 'mm'\n",
    "    print 'Volume of plate is', round(Volume, 3), 'mm^3'\n",
    "    print 'Volume of plate is', round(VolumeCC, 3), 'cc'\n",
    "    return round(VolumeCC, 3)"
   ]
  },
  {
   "cell_type": "code",
   "execution_count": 5,
   "metadata": {
    "collapsed": false
   },
   "outputs": [],
   "source": [
    "def PlateRiserVolume(Thickness = 4.0, RiserHeight = 18.0, Length = 102.0):\n",
    "    '''Finds the volume of a plate riser as given by \n",
    "    V = L * Rh/2 * (t0 + Thickness)\n",
    "    Thickness is in mm, default 4 mm\n",
    "    RiserHeight is in mm, default 18 mm\n",
    "    Length is in mm, default 102 mm'''\n",
    "    \n",
    "    assert Thickness > 0.0, \"Thickness must be a positive value\"\n",
    "    assert RiserHeight > 0.0, \"RiserHeight must be a positive value\"\n",
    "    assert Length > 0.0, \"Length must be a positive value\"\n",
    "    \n",
    "    OpeningThickness = 13.0 #Thickness of plate riser opening\n",
    "    Area = RiserHeight/2 * (Thickness + OpeningThickness) #mm^2\n",
    "    Volume = Length * Area #mm^3\n",
    "    VolumeCC = Volume / 1000 #cc #(1000mm^3 per cm^3)\n",
    "    print 'Riser Base Thickness t0 is', Thickness, 'mm'\n",
    "    print 'Riser Opening Thickness t is', Thickness + OpeningThickness, 'mm'\n",
    "    print 'Riser Height Rh is', RiserHeight, 'mm'\n",
    "    print 'Length L is', Length, 'mm'\n",
    "    print 'Volume of riser is', round(Volume, 3), 'mm^3'\n",
    "    print 'Volume of riser is', round(VolumeCC, 3), 'cc'\n",
    "    return round(VolumeCC, 3)"
   ]
  },
  {
   "cell_type": "code",
   "execution_count": 6,
   "metadata": {
    "collapsed": true
   },
   "outputs": [],
   "source": [
    "def VolumeCCToMass(VolumeCC = 8.107, Density = 2.85):\n",
    "    '''Converts cc volume to total mass from density \n",
    "    VolumeCC = volume in cc, default to 8.107 cc\n",
    "    Density = Total alloy density, default to 2.85 g/cm3 (Mg65Zn30Ca5)'''\n",
    "    \n",
    "    assert VolumeCC > 0.0, \"Volume must be a positive value\"\n",
    "    assert Density > 0.0, \"Density must be a positive value\"\n",
    "    \n",
    "    Mass = VolumeCC * Density #cc * g/cm3 = g\n",
    "    print VolumeCC, 'cc of material with a density of', Density, 'g/cm3 is:'\n",
    "    print round(Mass,3), 'g'"
   ]
  },
  {
   "cell_type": "code",
   "execution_count": 7,
   "metadata": {
    "collapsed": true
   },
   "outputs": [],
   "source": [
    "def MassToVolumeCC(Mass = 100.0, Density = 2.85):\n",
    "    '''Converts total mass to cc volume from density \n",
    "    Mass = Total alloy mass, default to 100 g\n",
    "    Density = Total alloy density, default to 2.85 g/cm3 (Mg65Zn30Ca5)'''\n",
    "    \n",
    "    assert Mass > 0.0, \"Mass must be a positive value\"\n",
    "    assert Density > 0.0, \"Density must be a positive value\"\n",
    "    \n",
    "    VolumeCC = Mass / Density #g / (g/cm3) = cm3 = cc\n",
    "    print Mass, 'g of material with a density of', Density, 'g/cm3 is:'\n",
    "    print round(VolumeCC,3), 'cc'"
   ]
  },
  {
   "cell_type": "code",
   "execution_count": 8,
   "metadata": {
    "collapsed": false
   },
   "outputs": [
    {
     "name": "stdout",
     "output_type": "stream",
     "text": [
      "2-Inch Target size:\n",
      "Radius R is 25.4 mm\n",
      "Thickness t is 4 mm\n",
      "Volume of cylinder is 8107.32 mm^3\n",
      "Volume of cylinder is 8.107 cc\n"
     ]
    }
   ],
   "source": [
    "print '2-Inch Target size:'\n",
    "CylindarVolume(50.8, 4)"
   ]
  },
  {
   "cell_type": "code",
   "execution_count": 9,
   "metadata": {
    "collapsed": false
   },
   "outputs": [
    {
     "name": "stdout",
     "output_type": "stream",
     "text": [
      "Small Crucible Size:\n",
      "Radius R is 16.0 mm\n",
      "Thickness t is 85 mm\n",
      "Volume of cylinder is 68361.056 mm^3\n",
      "Volume of cylinder is 68.361 cc\n"
     ]
    }
   ],
   "source": [
    "print 'Small Crucible Size:'\n",
    "CylindarVolume(32, 85)"
   ]
  },
  {
   "cell_type": "code",
   "execution_count": 10,
   "metadata": {
    "collapsed": false
   },
   "outputs": [
    {
     "name": "stdout",
     "output_type": "stream",
     "text": [
      "Large Crucible Size:\n",
      "Radius R is 17.0 mm\n",
      "Thickness t is 85 mm\n",
      "Volume of cylinder is 77173.224 mm^3\n",
      "Volume of cylinder is 77.173 cc\n"
     ]
    }
   ],
   "source": [
    "print 'Large Crucible Size:'\n",
    "CylindarVolume(34, 85)"
   ]
  },
  {
   "cell_type": "code",
   "execution_count": 11,
   "metadata": {
    "collapsed": false
   },
   "outputs": [
    {
     "name": "stdout",
     "output_type": "stream",
     "text": [
      "Full plate casting size:\n",
      "Thickness t is 4 mm\n",
      "Height H is 49.0 mm\n",
      "Length L is 102.0 mm\n",
      "Volume of plate is 19992.0 mm^3\n",
      "Volume of plate is 19.992 cc\n"
     ]
    },
    {
     "data": {
      "text/plain": [
       "19.992"
      ]
     },
     "execution_count": 11,
     "metadata": {},
     "output_type": "execute_result"
    }
   ],
   "source": [
    "print 'Full plate casting size:'\n",
    "PlateVolume(4)"
   ]
  },
  {
   "cell_type": "code",
   "execution_count": 12,
   "metadata": {
    "collapsed": false
   },
   "outputs": [
    {
     "name": "stdout",
     "output_type": "stream",
     "text": [
      "Full riser size:\n",
      "Riser Base Thickness t0 is 4 mm\n",
      "Riser Opening Thickness t is 17.0 mm\n",
      "Riser Height Rh is 18.0 mm\n",
      "Length L is 102.0 mm\n",
      "Volume of riser is 15606.0 mm^3\n",
      "Volume of riser is 15.606 cc\n"
     ]
    },
    {
     "data": {
      "text/plain": [
       "15.606"
      ]
     },
     "execution_count": 12,
     "metadata": {},
     "output_type": "execute_result"
    }
   ],
   "source": [
    "print 'Full riser size:'\n",
    "PlateRiserVolume(4)"
   ]
  },
  {
   "cell_type": "code",
   "execution_count": 13,
   "metadata": {
    "collapsed": false
   },
   "outputs": [
    {
     "name": "stdout",
     "output_type": "stream",
     "text": [
      "Thickness t is 4 mm\n",
      "Height H is 49.0 mm\n",
      "Length L is 102.0 mm\n",
      "Volume of plate is 19992.0 mm^3\n",
      "Volume of plate is 19.992 cc\n",
      "Riser Base Thickness t0 is 4 mm\n",
      "Riser Opening Thickness t is 17.0 mm\n",
      "Riser Height Rh is 18.0 mm\n",
      "Length L is 102.0 mm\n",
      "Volume of riser is 15606.0 mm^3\n",
      "Volume of riser is 15.606 cc\n"
     ]
    },
    {
     "data": {
      "text/plain": [
       "35.598"
      ]
     },
     "execution_count": 13,
     "metadata": {},
     "output_type": "execute_result"
    }
   ],
   "source": [
    "PlateVolume(4) + PlateRiserVolume(4)"
   ]
  },
  {
   "cell_type": "code",
   "execution_count": 14,
   "metadata": {
    "collapsed": false
   },
   "outputs": [
    {
     "name": "stdout",
     "output_type": "stream",
     "text": [
      "35.598 cc of material with a density of 2.85 g/cm3 is:\n",
      "101.454 g\n"
     ]
    }
   ],
   "source": [
    "VolumeCCToMass(35.598)"
   ]
  },
  {
   "cell_type": "code",
   "execution_count": 15,
   "metadata": {
    "collapsed": false
   },
   "outputs": [
    {
     "name": "stdout",
     "output_type": "stream",
     "text": [
      "500 g of material with a density of 2.85 g/cm3 is:\n",
      "175.439 cc\n"
     ]
    }
   ],
   "source": [
    "MassToVolumeCC(500)"
   ]
  },
  {
   "cell_type": "code",
   "execution_count": 16,
   "metadata": {
    "collapsed": false
   },
   "outputs": [
    {
     "name": "stdout",
     "output_type": "stream",
     "text": [
      "Full cylindar casting Size:\n",
      "Radius R is 12.7 mm\n",
      "Thickness t is 60 mm\n",
      "Volume of cylinder is 30402.449 mm^3\n",
      "Volume of cylinder is 30.402 cc\n"
     ]
    }
   ],
   "source": [
    "print 'Full cylindar casting Size:'\n",
    "CylindarVolume(25.4, 60)"
   ]
  },
  {
   "cell_type": "code",
   "execution_count": 17,
   "metadata": {
    "collapsed": false
   },
   "outputs": [
    {
     "name": "stdout",
     "output_type": "stream",
     "text": [
      "Thickness t is 2 mm\n",
      "Height H is 49.0 mm\n",
      "Length L is 102.0 mm\n",
      "Volume of plate is 9996.0 mm^3\n",
      "Volume of plate is 9.996 cc\n",
      "Riser Base Thickness t0 is 2 mm\n",
      "Riser Opening Thickness t is 15.0 mm\n",
      "Riser Height Rh is 18.0 mm\n",
      "Length L is 102.0 mm\n",
      "Volume of riser is 13770.0 mm^3\n",
      "Volume of riser is 13.77 cc\n"
     ]
    },
    {
     "data": {
      "text/plain": [
       "23.766"
      ]
     },
     "execution_count": 17,
     "metadata": {},
     "output_type": "execute_result"
    }
   ],
   "source": [
    "PlateVolume(2) + PlateRiserVolume(2)"
   ]
  },
  {
   "cell_type": "code",
   "execution_count": null,
   "metadata": {
    "collapsed": true
   },
   "outputs": [],
   "source": []
  }
 ],
 "metadata": {
  "kernelspec": {
   "display_name": "Python 2",
   "language": "python",
   "name": "python2"
  },
  "language_info": {
   "codemirror_mode": {
    "name": "ipython",
    "version": 2
   },
   "file_extension": ".py",
   "mimetype": "text/x-python",
   "name": "python",
   "nbconvert_exporter": "python",
   "pygments_lexer": "ipython2",
   "version": "2.7.10"
  }
 },
 "nbformat": 4,
 "nbformat_minor": 0
}
