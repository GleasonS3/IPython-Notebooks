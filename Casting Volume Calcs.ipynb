{
 "metadata": {
  "name": "",
  "signature": "sha256:545857f14bb5d89d0f89bf3dc0cc63358d4b8540ef8387d8712465d746548e3c"
 },
 "nbformat": 3,
 "nbformat_minor": 0,
 "worksheets": [
  {
   "cells": [
    {
     "cell_type": "code",
     "collapsed": false,
     "input": [
      "'''Code for the Volume of Tagets\n",
      "Code by Scott Gleason, University of New South Wales (UNSW), Australia \n",
      "S.Gleason@student.unsw.edu.au, April 2015'''"
     ],
     "language": "python",
     "metadata": {},
     "outputs": [
      {
       "metadata": {},
       "output_type": "pyout",
       "prompt_number": 1,
       "text": [
        "'Code for the Volume of Tagets\\nCode by Scott Gleason, University of New South Wales (UNSW), Australia \\nS.Gleason@student.unsw.edu.au, April 2015'"
       ]
      }
     ],
     "prompt_number": 1
    },
    {
     "cell_type": "code",
     "collapsed": false,
     "input": [
      "'imports numpy and matplotlib libaries into code'\n",
      "import numpy as np\n",
      "import matplotlib.pyplot as plt"
     ],
     "language": "python",
     "metadata": {},
     "outputs": [],
     "prompt_number": 2
    },
    {
     "cell_type": "code",
     "collapsed": false,
     "input": [
      "def CylindarVolume(Diameter = 25.4, Thickness = 4.0):\n",
      "    '''Finds the volume of a cylindar as given by \n",
      "    V = pi * (D/2)^2 * t\n",
      "    Diameter is in mm, default 25.4 mm\n",
      "    Thickness is in mm, default 4 mm'''\n",
      "    \n",
      "    assert Diameter > 0.0, \"Radius must be a positive value\"\n",
      "    assert Thickness > 0.0, \"Thickness must be a positive value\"\n",
      "    \n",
      "    Radius = Diameter/2.0\n",
      "    Volume = np.pi * Thickness * Radius**2 #mm^3\n",
      "    VolumeCC = Volume / 1000 #cc #(1000mm^3 per cm^3)\n",
      "    print 'Radius R is', Radius, 'mm'\n",
      "    print 'Thickness t is', Thickness, 'mm'\n",
      "    print 'Volume of cylinder is', round(Volume, 3), 'mm^3'\n",
      "    print 'Volume of cylinder is', round(VolumeCC, 3), 'cc'"
     ],
     "language": "python",
     "metadata": {},
     "outputs": [],
     "prompt_number": 3
    },
    {
     "cell_type": "code",
     "collapsed": false,
     "input": [
      "def PlateVolume(Length = 102.0, Height = 49.0, Thickness = 4.0):\n",
      "    '''Finds the volume of a plate as given by \n",
      "    V = L * H * t\n",
      "    Length is in mm, default 102 mm\n",
      "    Height is in mm, default 49 mm\n",
      "    Thickness is in mm, default 4 mm'''\n",
      "    \n",
      "    assert Length > 0.0, \"Length must be a positive value\"\n",
      "    assert Height > 0.0, \"Height must be a positive value\"\n",
      "    assert Thickness > 0.0, \"Thickness must be a positive value\"\n",
      "    \n",
      "    Volume = Length * Height * Thickness #mm^3\n",
      "    VolumeCC = Volume / 1000 #cc #(1000mm^3 per cm^3)\n",
      "    print 'Length L is', Length, 'mm'\n",
      "    print 'Height H is', Height, 'mm'\n",
      "    print 'Thickness t is', Thickness, 'mm'\n",
      "    print 'Volume of plate is', round(Volume, 3), 'mm^3'\n",
      "    print 'Volume of plate is', round(VolumeCC, 3), 'cc'"
     ],
     "language": "python",
     "metadata": {},
     "outputs": [],
     "prompt_number": 4
    },
    {
     "cell_type": "code",
     "collapsed": false,
     "input": [
      "def PlateRiserVolume(Length = 102.0, RiserHeight = 18.0, Thickness = 4.0):\n",
      "    '''Finds the volume of a plate riser as given by \n",
      "    V = L * h/2 * (t0 + 2 * Thickness)\n",
      "    Length is in mm, default 102 mm\n",
      "    RiserHeight is in mm, default 18 mm\n",
      "    Thickness is in mm, default 4 mm'''\n",
      "    \n",
      "    assert Length > 0.0, \"Length must be a positive value\"\n",
      "    assert RiserHeight > 0.0, \"RiserHeight must be a positive value\"\n",
      "    assert Thickness > 0.0, \"Thickness must be a positive value\"\n",
      "    \n",
      "    OpeningThickness = 13.0 #Thickness of plate riser opening\n",
      "    Area = RiserHeight/2 * (Thickness + OpeningThickness)\n",
      "    Volume = Length * Area #mm^3\n",
      "    VolumeCC = Volume / 1000 #cc #(1000mm^3 per cm^3)\n",
      "    print 'Length L is', Length, 'mm'\n",
      "    print 'Riser Height Rh is', RiserHeight, 'mm'\n",
      "    print 'Thickness t is', Thickness, 'mm'\n",
      "    print 'Volume of plate is', round(Volume, 3), 'mm^3'\n",
      "    print 'Volume of plate is', round(VolumeCC, 3), 'cc'"
     ],
     "language": "python",
     "metadata": {},
     "outputs": [],
     "prompt_number": 5
    },
    {
     "cell_type": "code",
     "collapsed": false,
     "input": [
      "print '2 Inch Target'\n",
      "CylindarVolume(50.8, 4)"
     ],
     "language": "python",
     "metadata": {},
     "outputs": [
      {
       "output_type": "stream",
       "stream": "stdout",
       "text": [
        "2 Inch Target\n",
        "Radius R is 25.4 mm\n",
        "Thickness t is 4 mm\n",
        "Volume of cylinder is 8107.32 mm^3\n",
        "Volume of cylinder is 8.107 cc\n"
       ]
      }
     ],
     "prompt_number": 6
    },
    {
     "cell_type": "code",
     "collapsed": false,
     "input": [
      "print 'Small Crucible Size'\n",
      "CylindarVolume(32, 85)"
     ],
     "language": "python",
     "metadata": {},
     "outputs": [
      {
       "output_type": "stream",
       "stream": "stdout",
       "text": [
        "Small Crucible Size\n",
        "Radius R is 16.0 mm\n",
        "Thickness t is 85 mm\n",
        "Volume of cylinder is 68361.056 mm^3\n",
        "Volume of cylinder is 68.361 cc\n"
       ]
      }
     ],
     "prompt_number": 7
    },
    {
     "cell_type": "code",
     "collapsed": false,
     "input": [
      "print 'Large Crucible Size'\n",
      "CylindarVolume(34, 85)"
     ],
     "language": "python",
     "metadata": {},
     "outputs": [
      {
       "output_type": "stream",
       "stream": "stdout",
       "text": [
        "Large Crucible Size\n",
        "Radius R is 17.0 mm\n",
        "Thickness t is 85 mm\n",
        "Volume of cylinder is 77173.224 mm^3\n",
        "Volume of cylinder is 77.173 cc\n"
       ]
      }
     ],
     "prompt_number": 8
    },
    {
     "cell_type": "code",
     "collapsed": false,
     "input": [
      "PlateVolume()"
     ],
     "language": "python",
     "metadata": {},
     "outputs": [
      {
       "output_type": "stream",
       "stream": "stdout",
       "text": [
        "Length L is 102.0 mm\n",
        "Height H is 49.0 mm\n",
        "Thickness t is 4.0 mm\n",
        "Volume of plate is 19992.0 mm^3\n",
        "Volume of plate is 19.992 cc\n"
       ]
      }
     ],
     "prompt_number": 9
    },
    {
     "cell_type": "code",
     "collapsed": false,
     "input": [
      "PlateRiserVolume()"
     ],
     "language": "python",
     "metadata": {},
     "outputs": [
      {
       "output_type": "stream",
       "stream": "stdout",
       "text": [
        "Length L is 102.0 mm\n",
        "Riser Height Rh is 18.0 mm\n",
        "Thickness t is 4.0 mm\n",
        "Volume of plate is 15606.0 mm^3\n",
        "Volume of plate is 15.606 cc\n"
       ]
      }
     ],
     "prompt_number": 10
    },
    {
     "cell_type": "code",
     "collapsed": false,
     "input": [],
     "language": "python",
     "metadata": {},
     "outputs": []
    }
   ],
   "metadata": {}
  }
 ]
}