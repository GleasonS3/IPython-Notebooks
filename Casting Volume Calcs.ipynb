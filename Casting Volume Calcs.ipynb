{
 "metadata": {
  "name": "",
  "signature": "sha256:5f7e3b5c127e032d044b5b7c7b7be01696f51932f2308bedb42d036546cbf803"
 },
 "nbformat": 3,
 "nbformat_minor": 0,
 "worksheets": [
  {
   "cells": [
    {
     "cell_type": "code",
     "collapsed": false,
     "input": [
      "'''Code for the Volume of Tagets\n",
      "Code by Scott Gleason, University of New South Wales (UNSW), Australia \n",
      "S.Gleason@student.unsw.edu.au, April 2015'''"
     ],
     "language": "python",
     "metadata": {},
     "outputs": [
      {
       "metadata": {},
       "output_type": "pyout",
       "prompt_number": 1,
       "text": [
        "'Code for the Volume of Tagets\\nCode by Scott Gleason, University of New South Wales (UNSW), Australia \\nS.Gleason@student.unsw.edu.au, April 2015'"
       ]
      }
     ],
     "prompt_number": 1
    },
    {
     "cell_type": "code",
     "collapsed": false,
     "input": [
      "'imports numpy and matplotlib libaries into code'\n",
      "import numpy as np\n",
      "import matplotlib.pyplot as plt"
     ],
     "language": "python",
     "metadata": {},
     "outputs": [],
     "prompt_number": 2
    },
    {
     "cell_type": "code",
     "collapsed": false,
     "input": [
      "def CylindarVolume(Diameter = 25.4, Thickness = 4.0):\n",
      "    '''Finds the volume of a cylindar as given by \n",
      "    V = pi * (D/2)^2 * t\n",
      "    Diameter is in mm, default 25.4 mm\n",
      "    Thickness is in mm, default 4 mm'''\n",
      "    \n",
      "    assert Diameter > 0.0, \"Radius must be a positive value\"\n",
      "    assert Thickness > 0.0, \"Thickness must be a positive value\"\n",
      "    \n",
      "    Radius = Diameter/2.0\n",
      "    Volume = np.pi * Thickness * Radius**2 #mm^3\n",
      "    VolumeCC = Volume / 1000 #cc #(1000mm^3 per cm^3)\n",
      "    print 'Radius R is', Radius, 'mm'\n",
      "    print 'Thickness t is', Thickness, 'mm'\n",
      "    print 'Volume of cylinder is', round(Volume, 3), 'mm^3'\n",
      "    print 'Volume of cylinder is', round(VolumeCC, 3), 'cc'"
     ],
     "language": "python",
     "metadata": {},
     "outputs": [],
     "prompt_number": 3
    },
    {
     "cell_type": "code",
     "collapsed": false,
     "input": [
      "CylindarVolume(50.8, 4)"
     ],
     "language": "python",
     "metadata": {},
     "outputs": [
      {
       "output_type": "stream",
       "stream": "stdout",
       "text": [
        "Radius R is 25.4 mm\n",
        "Thickness t is 4 mm\n",
        "Volume of cylinder is 8107.32 mm^3\n",
        "Volume of cylinder is 8.107 cc\n"
       ]
      }
     ],
     "prompt_number": 4
    },
    {
     "cell_type": "code",
     "collapsed": false,
     "input": [],
     "language": "python",
     "metadata": {},
     "outputs": []
    }
   ],
   "metadata": {}
  }
 ]
}