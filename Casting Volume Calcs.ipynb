{
 "metadata": {
  "name": "",
  "signature": "sha256:3e04847740b7121d5d1621c51cd72f15ea0d3fb715808b2d90ac74f96c9dffc7"
 },
 "nbformat": 3,
 "nbformat_minor": 0,
 "worksheets": [
  {
   "cells": [
    {
     "cell_type": "code",
     "collapsed": false,
     "input": [
      "'''Code for Volume and weight calculations for Tagets\n",
      "Code by Scott Gleason, University of New South Wales (UNSW), Australia \n",
      "S.Gleason@student.unsw.edu.au, April 2015'''"
     ],
     "language": "python",
     "metadata": {},
     "outputs": [
      {
       "metadata": {},
       "output_type": "pyout",
       "prompt_number": 1,
       "text": [
        "'Code for Volume and weight calculations for Tagets\\nCode by Scott Gleason, University of New South Wales (UNSW), Australia \\nS.Gleason@student.unsw.edu.au, April 2015'"
       ]
      }
     ],
     "prompt_number": 1
    },
    {
     "cell_type": "code",
     "collapsed": false,
     "input": [
      "'imports numpy and matplotlib libaries into code'\n",
      "import numpy as np\n",
      "import matplotlib.pyplot as plt"
     ],
     "language": "python",
     "metadata": {},
     "outputs": [],
     "prompt_number": 2
    },
    {
     "cell_type": "code",
     "collapsed": false,
     "input": [
      "'Volume of cylindar is given by V = pi * t * R^2 '\n",
      "R = 25.4 #mm, Radius\n",
      "t = 4 #mm, Length\n",
      "V = np.pi * t * R**2 #mm^3\n",
      "Vcc = V / 1000 #cc #(1000mm^3 per cm^3)\n",
      "print 'Radius R is', R, 'mm'\n",
      "print 'Thickness t is', t, 'mm'\n",
      "print 'Volume of cylinder is', round(V, 3), 'mm^3'\n",
      "print 'Volume of cylinder is', round(Vcc, 3), 'cc'"
     ],
     "language": "python",
     "metadata": {},
     "outputs": [
      {
       "output_type": "stream",
       "stream": "stdout",
       "text": [
        "Radius R is 25.4 mm\n",
        "Thickness t is 4 mm\n",
        "Volume of cylinder is 8107.32 mm^3\n",
        "Volume of cylinder is 8.107 cc\n"
       ]
      }
     ],
     "prompt_number": 3
    },
    {
     "cell_type": "code",
     "collapsed": false,
     "input": [],
     "language": "python",
     "metadata": {},
     "outputs": []
    }
   ],
   "metadata": {}
  }
 ]
}