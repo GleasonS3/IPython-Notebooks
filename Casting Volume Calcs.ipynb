{
 "metadata": {
  "name": "",
  "signature": "sha256:c3db93c415100fbd4f676de74dc86d0811996f1c53895e5f4fa6aa1d3e73b937"
 },
 "nbformat": 3,
 "nbformat_minor": 0,
 "worksheets": [
  {
   "cells": [
    {
     "cell_type": "code",
     "collapsed": false,
     "input": [
      "'''Code for Volume and weight calculations for Tagets\n",
      "Code by Scott Gleason, University of New South Wales (UNSW), Australia \n",
      "S.Gleason@student.unsw.edu.au, April 2015'''"
     ],
     "language": "python",
     "metadata": {},
     "outputs": [
      {
       "metadata": {},
       "output_type": "pyout",
       "prompt_number": 20,
       "text": [
        "'Code for Volume and weight calculations for Tagets\\nCode by Scott Gleason, University of New South Wales (UNSW), Australia \\nS.Gleason@student.unsw.edu.au, April 2015'"
       ]
      }
     ],
     "prompt_number": 20
    },
    {
     "cell_type": "code",
     "collapsed": false,
     "input": [
      "'imports numpy and matplotlib libaries into code'\n",
      "import numpy as np\n",
      "import matplotlib.pyplot as plt"
     ],
     "language": "python",
     "metadata": {},
     "outputs": [],
     "prompt_number": 21
    },
    {
     "cell_type": "code",
     "collapsed": false,
     "input": [
      "'Volume of cylindar is given by V = pi * t * R^2 '\n",
      "R = 25.4 #mm, Radius\n",
      "t = 4 #mm, Length\n",
      "V = np.pi * t * R**2 #mm^3\n",
      "Vcc = V / 1000 #cc #(1000mm^3 per cm^3)\n",
      "print 'Radius R is', R, 'mm'\n",
      "print 'Thickness t is', t, 'mm'\n",
      "print 'Volume of cylinder is', round(V, 3), 'mm^3'\n",
      "print 'Volume of cylinder is', round(Vcc, 3), 'cc'"
     ],
     "language": "python",
     "metadata": {},
     "outputs": [
      {
       "output_type": "stream",
       "stream": "stdout",
       "text": [
        "Radius R is 25.4 mm\n",
        "Thickness t is 4 mm\n",
        "Volume of cylinder is 8107.32 mm^3\n",
        "Volume of cylinder is 8.107 cc\n"
       ]
      }
     ],
     "prompt_number": 22
    },
    {
     "cell_type": "code",
     "collapsed": false,
     "input": [
      "'''Convert wt% to at%\n",
      "C1' = C1*A2*A3 / (C1*A2*A3 + C2*A1*A3 + C3*A1*A2)\n",
      "\n",
      "Convert at% to wt% \n",
      "C1 = C1'*A1 / (C1'*A1 + ... + Cn'*An)\n",
      "\n",
      "Where Cn = wt%, Cn' = at%, An = atomic weight'''"
     ],
     "language": "python",
     "metadata": {},
     "outputs": [
      {
       "metadata": {},
       "output_type": "pyout",
       "prompt_number": 23,
       "text": [
        "\"Convert wt% to at%\\nC1' = C1*A2*A3 / (C1*A2*A3 + C2*A1*A3 + C3*A1*A2)\\n\\nConvert at% to wt% \\nC1 = C1'*A1 / (C1'*A1 + ... + Cn'*An)\\n\\nWhere Cn = wt%, Cn' = at%, An = atomic weight\""
       ]
      }
     ],
     "prompt_number": 23
    },
    {
     "cell_type": "code",
     "collapsed": false,
     "input": [
      "'Mg65Zn30Ca5 atomic precent alloy'\n",
      "'Mg45.727 Zn56.773 Ca5.8 weight precent alloy'\n",
      "MgD = 1.738 #g/cm^3\n",
      "ZnD = 7.14 #g/cm^3\n",
      "CaD = 1.55 #g/cm^3"
     ],
     "language": "python",
     "metadata": {},
     "outputs": [],
     "prompt_number": 24
    },
    {
     "cell_type": "code",
     "collapsed": false,
     "input": [
      "'''Stores periodic elements as an array \n",
      "containings an object of each element'''\n",
      "elements = [\n",
      "    {'name': 'Mg', \n",
      "    'atomicPercent': 65, #alloy atomic percent\n",
      "    'atomicWeight': 24.305, #amu\n",
      "    'density': 1.738}, #g/cm3\n",
      "    \n",
      "    {'name': 'Zn', \n",
      "    'atomicPercent': 30, #alloy atomic percent\n",
      "    'atomicWeight': 65.382, #amu\n",
      "    'density': 7.14}, #g/cm3\n",
      "    \n",
      "    {'name': 'Ca', \n",
      "    'atomicPercent': 5, #alloy atomic percent\n",
      "    'atomicWeight': 40.078, #amu\n",
      "    'density': 1.55} #g/cm3\n",
      "]"
     ],
     "language": "python",
     "metadata": {},
     "outputs": [],
     "prompt_number": 25
    },
    {
     "cell_type": "code",
     "collapsed": false,
     "input": [
      "'Test print of an object within the array'\n",
      "print elements[1]['density']"
     ],
     "language": "python",
     "metadata": {},
     "outputs": [
      {
       "output_type": "stream",
       "stream": "stdout",
       "text": [
        "7.14\n"
       ]
      }
     ],
     "prompt_number": 33
    },
    {
     "cell_type": "code",
     "collapsed": false,
     "input": [],
     "language": "python",
     "metadata": {},
     "outputs": []
    }
   ],
   "metadata": {}
  }
 ]
}