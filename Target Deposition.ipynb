{
 "cells": [
  {
   "cell_type": "code",
   "execution_count": 1,
   "metadata": {
    "collapsed": false
   },
   "outputs": [
    {
     "data": {
      "text/plain": [
       "'Code for the Volume of Tagets\\nCode by Scott Gleason, University of New South Wales (UNSW), Australia \\nS.Gleason@student.unsw.edu.au, May 2015'"
      ]
     },
     "execution_count": 1,
     "metadata": {},
     "output_type": "execute_result"
    }
   ],
   "source": [
    "'''Code for the Deposition of Targets\n",
    "Code by Scott Gleason, University of New South Wales (UNSW), Australia \n",
    "S.Gleason@student.unsw.edu.au, May 2015'''"
   ]
  },
  {
   "cell_type": "code",
   "execution_count": 2,
   "metadata": {
    "collapsed": false
   },
   "outputs": [],
   "source": [
    "'imports numpy and matplotlib libaries into code'\n",
    "import numpy as np\n",
    "import matplotlib.pyplot as plt"
   ]
  },
  {
   "cell_type": "code",
   "execution_count": 3,
   "metadata": {
    "collapsed": false
   },
   "outputs": [],
   "source": [
    "def DepositionTime(Rate = 1.5, Thickness = 1000):\n",
    "    '''Finds the deposition time for a desidered film thickness \n",
    "    time = Thickness / Rate\n",
    "    Rate is in nm/s, default 1.5 nm/s\n",
    "    Thickness is in nm, default 1000 nm'''\n",
    "    \n",
    "    assert (Rate and Thickness) > 0.0, \"Rate/Thickness must be greater than 0.0\"\n",
    "    \n",
    "    TimeSeconds = Thickness / Rate #seconds\n",
    "    TimeMinutes = TimeSeconds / 60. #minutes\n",
    "    print 'Deposition Rate is', Rate, 'nm/s'\n",
    "    print 'Film Thickness T is', Thickness, 'nm'\n",
    "    print 'Time to deposite thin film', round(TimeSeconds, 3), 'seconds'\n",
    "    print 'Time to deposite thin film', round(TimeMinutes, 3), 'minutes'"
   ]
  },
  {
   "cell_type": "code",
   "execution_count": 4,
   "metadata": {
    "collapsed": true
   },
   "outputs": [],
   "source": [
    "def SubstrateTemp(GlassTransition = 132, LowerTsub = 0.7, UpperTsub = 0.8):\n",
    "    '''Finds the USG deposition temperatures \n",
    "    Tsub = GlassTransition * LowerTsub OR UpperTsub\n",
    "    GlassTransition is in C, default 132 C\n",
    "    LowerTsub & UpperTsub are unitless, default is 0.7 and 0.8'''\n",
    "    \n",
    "    assert (GlassTransition and LowerTsub and UpperTsub) > 0.0, \"Parameters must be greater than 0.0\"\n",
    "    \n",
    "    TempKelvin = GlassTransition + 273.15 #kelvin\n",
    "    LowerTsubKelvin = LowerTsub * TempKelvin #kelvin\n",
    "    UpperTsubKelvin = UpperTsub * TempKelvin #kelvin\n",
    "    LowerTsubCelius = LowerTsubKelvin - 273.15 #celious\n",
    "    UpperTsubCelius = UpperTsubKelvin - 273.15 #celious\n",
    "\n",
    "    print 'The glass transition temperature (Tg) is', GlassTransition, 'C,  or', TempKelvin, 'K'\n",
    "    print 'The lower Tsub limit is', LowerTsub, 'of Tg'\n",
    "    print 'The upper Tsub limit is', UpperTsub, 'of Tg'\n",
    "    print 'The lower Tsub temperature is', LowerTsubCelius, 'C,  or', LowerTsubKelvin, 'K'\n",
    "    print 'The upper Tsub temperature is', UpperTsubCelius, 'C,  or', UpperTsubKelvin, 'K'"
   ]
  },
  {
   "cell_type": "code",
   "execution_count": 5,
   "metadata": {
    "collapsed": false
   },
   "outputs": [
    {
     "name": "stdout",
     "output_type": "stream",
     "text": [
      "Deposition Rate is 1.4 nm/s\n",
      "Film Thickness T is 1000 nm\n",
      "Time to deposite thin film 714.286 seconds\n",
      "Time to deposite thin film 11.905 minutes\n"
     ]
    }
   ],
   "source": [
    "DepositionTime(1.4, 1000)"
   ]
  },
  {
   "cell_type": "code",
   "execution_count": 6,
   "metadata": {
    "collapsed": false
   },
   "outputs": [
    {
     "name": "stdout",
     "output_type": "stream",
     "text": [
      "The glass transition temperature (Tg) is 132 C,  or 405.15 K\n",
      "The lower Tsub limit is 0.7 of Tg\n",
      "The upper Tsub limit is 0.8 of Tg\n",
      "The lower Tsub temperature is 10.455 C,  or 283.605 K\n",
      "The upper Tsub temperature is 50.97 C,  or 324.12 K\n"
     ]
    }
   ],
   "source": [
    "SubstrateTemp(132, 0.7, 0.8)"
   ]
  },
  {
   "cell_type": "code",
   "execution_count": null,
   "metadata": {
    "collapsed": true
   },
   "outputs": [],
   "source": []
  }
 ],
 "metadata": {
  "kernelspec": {
   "display_name": "Python 2",
   "language": "python",
   "name": "python2"
  },
  "language_info": {
   "codemirror_mode": {
    "name": "ipython",
    "version": 2
   },
   "file_extension": ".py",
   "mimetype": "text/x-python",
   "name": "python",
   "nbconvert_exporter": "python",
   "pygments_lexer": "ipython2",
   "version": "2.7.8"
  }
 },
 "nbformat": 4,
 "nbformat_minor": 0
}
