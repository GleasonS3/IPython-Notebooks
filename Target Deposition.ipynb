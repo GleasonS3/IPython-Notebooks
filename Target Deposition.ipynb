{
 "cells": [
  {
   "cell_type": "code",
   "execution_count": 1,
   "metadata": {
    "collapsed": false
   },
   "outputs": [
    {
     "data": {
      "text/plain": [
       "'Code for the Volume of Tagets\\nCode by Scott Gleason, University of New South Wales (UNSW), Australia \\nS.Gleason@student.unsw.edu.au, April 2015'"
      ]
     },
     "execution_count": 1,
     "metadata": {},
     "output_type": "execute_result"
    }
   ],
   "source": [
    "'''Code for the Volume of Tagets\n",
    "Code by Scott Gleason, University of New South Wales (UNSW), Australia \n",
    "S.Gleason@student.unsw.edu.au, April 2015'''"
   ]
  },
  {
   "cell_type": "code",
   "execution_count": 2,
   "metadata": {
    "collapsed": false
   },
   "outputs": [],
   "source": [
    "'imports numpy and matplotlib libaries into code'\n",
    "import numpy as np\n",
    "import matplotlib.pyplot as plt"
   ]
  },
  {
   "cell_type": "code",
   "execution_count": 5,
   "metadata": {
    "collapsed": false
   },
   "outputs": [],
   "source": [
    "def DepositionTime(Rate = 1.5, Thickness = 1000):\n",
    "    '''Finds time for desisered thickness \n",
    "    t = Thickness / Rate\n",
    "    Rate is in nm/s, default 1.5 nm/s\n",
    "    Thickness is in nm, default 1000 nm'''\n",
    "    \n",
    "    assert (Rate and Thickness) > 0.0, \"Rate/Thickness must be a positive value\"\n",
    "    \n",
    "    TimeSeconds = Thickness / Rate #seconds\n",
    "    TimeMinutes = TimeSeconds / 60. #minutes\n",
    "    print 'Deposition Rate is', Rate, 'nm/s'\n",
    "    print 'Film Thickness T is', Thickness, 'nm'\n",
    "    print 'Time to deposite thin film', round(TimeSeconds, 3), 'seconds'\n",
    "    print 'Time to deposite thin film', round(TimeMinutes, 3), 'minutes'"
   ]
  },
  {
   "cell_type": "code",
   "execution_count": 6,
   "metadata": {
    "collapsed": false
   },
   "outputs": [
    {
     "name": "stdout",
     "output_type": "stream",
     "text": [
      "Deposition Rate is 1.5 nm/s\n",
      "Film Thickness T is 1000 nm\n",
      "Time to deposite thin film 666.667 seconds\n",
      "Time to deposite thin film 11.111 minutes\n"
     ]
    }
   ],
   "source": [
    "DepositionTime()"
   ]
  },
  {
   "cell_type": "code",
   "execution_count": null,
   "metadata": {
    "collapsed": true
   },
   "outputs": [],
   "source": []
  }
 ],
 "metadata": {
  "kernelspec": {
   "display_name": "Python 2",
   "language": "python",
   "name": "python2"
  },
  "language_info": {
   "codemirror_mode": {
    "name": "ipython",
    "version": 2
   },
   "file_extension": ".py",
   "mimetype": "text/x-python",
   "name": "python",
   "nbconvert_exporter": "python",
   "pygments_lexer": "ipython2",
   "version": "2.7.9"
  }
 },
 "nbformat": 4,
 "nbformat_minor": 0
}
