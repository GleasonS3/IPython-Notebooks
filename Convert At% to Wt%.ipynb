{
 "cells": [
  {
   "cell_type": "code",
   "execution_count": 1,
   "metadata": {
    "collapsed": false
   },
   "outputs": [
    {
     "data": {
      "text/plain": [
       "'Takes an At% alloy and converts to Wt% for constituent elements\\nElement properties are entered as an object array\\nPrints alloy in At%, Wt%, total alloy wt, and wt of each con element.\\n\\nFrom weights of con elements calcs Wt%, and returns At% / expected density'"
      ]
     },
     "execution_count": 1,
     "metadata": {},
     "output_type": "execute_result"
    }
   ],
   "source": [
    "'''Code for converting from At% to Wt% of an alloy\n",
    "Code by Scott Gleason, University of New South Wales (UNSW), Australia \n",
    "S.Gleason@student.unsw.edu.au, April 2015'''\n",
    "\n",
    "'''Takes an At% alloy and converts to Wt% for constituent elements\n",
    "Element properties are entered as an object array\n",
    "Prints alloy in At%, Wt%, total alloy wt, and wt of each con element.\n",
    "\n",
    "From weights of con elements calcs Wt%, and returns At% / expected density'''"
   ]
  },
  {
   "cell_type": "code",
   "execution_count": 2,
   "metadata": {
    "collapsed": false
   },
   "outputs": [
    {
     "data": {
      "text/plain": [
       "\"Convert at% to wt% \\nC1 = C1'*A1 / (C1'*A1 + ... + Cn'*An)\\n\\nConvert wt% to at%\\nC1' = C1*A2*A3 / (C1*A2*A3 + C2*A1*A3 + C3*A1*A2)\\n\\nOR\\n\\nC1' = (C1 / A1) / (C1 / A1 + ... + Cn / An)\\n\\nWhere Cn = wt%, Cn' = at%, An = atomic weight\""
      ]
     },
     "execution_count": 2,
     "metadata": {},
     "output_type": "execute_result"
    }
   ],
   "source": [
    "'''Convert at% to wt% \n",
    "C1 = C1'*A1 / (C1'*A1 + ... + Cn'*An)\n",
    "\n",
    "Convert wt% to at%\n",
    "C1' = C1*A2*A3 / (C1*A2*A3 + C2*A1*A3 + C3*A1*A2)\n",
    "\n",
    "OR\n",
    "\n",
    "C1' = (C1 / A1) / (C1 / A1 + ... + Cn / An)\n",
    "\n",
    "Where Cn = wt%, Cn' = at%, An = atomic weight'''"
   ]
  },
  {
   "cell_type": "code",
   "execution_count": 3,
   "metadata": {
    "collapsed": false
   },
   "outputs": [],
   "source": [
    "'''Imports numpy, and matplotlib libaries \n",
    "numpy & matplotlib allow for complex math'''\n",
    "\n",
    "import numpy as np\n",
    "import matplotlib.pyplot as plt"
   ]
  },
  {
   "cell_type": "code",
   "execution_count": 4,
   "metadata": {
    "collapsed": false
   },
   "outputs": [],
   "source": [
    "def MgZnCaAtToWt(MgAt = 65., ZnAt = 30.):\n",
    "    '''Creates an object array of a Mg, Zn, Ca alloy\n",
    "    At% of Mg and Zn are inputs\n",
    "    Defaults are Mg 65, Zn 30, which gives Ca 5'''\n",
    "    \n",
    "    'assertion test for invalid inputs'\n",
    "    assert MgAt + ZnAt < 100.0, 'At% of Mg plus Zn must be less than 100%'\n",
    "    assert (MgAt and ZnAt) > 0.0, 'At% of Mg and Zn must be greater than 0'\n",
    "    \n",
    "    return [\n",
    "        {'name': 'Mg', \n",
    "        'atomicPercent': MgAt, #alloy atomic percent\n",
    "        'atomicWeight': 24.305, #amu\n",
    "        'density': 1.738}, #g/cm3\n",
    "\n",
    "        {'name': 'Zn', \n",
    "        'atomicPercent': ZnAt, #alloy atomic percent\n",
    "        'atomicWeight': 65.382, #amu\n",
    "        'density': 7.14}, #g/cm3\n",
    "\n",
    "        {'name': 'Ca', \n",
    "        'atomicPercent': (100. - MgAt - ZnAt), #alloy atomic percent\n",
    "        'atomicWeight': 40.078, #amu\n",
    "        'density': 1.55} #g/cm3\n",
    "    ]"
   ]
  },
  {
   "cell_type": "code",
   "execution_count": 5,
   "metadata": {
    "collapsed": false
   },
   "outputs": [
    {
     "name": "stdout",
     "output_type": "stream",
     "text": [
      "[{'density': 1.738, 'atomicWeight': 24.305, 'name': 'Mg', 'atomicPercent': 65}, {'density': 7.14, 'atomicWeight': 65.382, 'name': 'Zn', 'atomicPercent': 30}, {'density': 1.55, 'atomicWeight': 40.078, 'name': 'Ca', 'atomicPercent': 5.0}]\n"
     ]
    }
   ],
   "source": [
    "'Alloy At% composition, and total charge mass are entered here'\n",
    "\n",
    "elements = MgZnCaAtToWt(65, 30)\n",
    "totalAlloyMass = 98.3 #grams\n",
    "print elements"
   ]
  },
  {
   "cell_type": "code",
   "execution_count": 6,
   "metadata": {
    "collapsed": false
   },
   "outputs": [
    {
     "name": "stdout",
     "output_type": "stream",
     "text": [
      "Analysing an alloy of  ('Mg', 65, 'Zn', 30, 'Ca', 5.0)  at%\n"
     ]
    }
   ],
   "source": [
    "'Returns alloy name and atomic percent.'\n",
    "Ele1At = elements[0]['name'], elements[0]['atomicPercent']\n",
    "Ele2At = elements[1]['name'], elements[1]['atomicPercent']\n",
    "Ele3At = elements[2]['name'], elements[2]['atomicPercent']\n",
    "AlloyAt = Ele1At + Ele2At + Ele3At\n",
    "\n",
    "print 'Analysing an alloy of ', AlloyAt, ' at%'"
   ]
  },
  {
   "cell_type": "code",
   "execution_count": 7,
   "metadata": {
    "collapsed": false
   },
   "outputs": [],
   "source": [
    "'''Returns At% to Wt% denominator of \n",
    "total sum of atomic percent (at%) times atomic weight (AMU) of alloy\n",
    "i.e. C1'*A1 + ... + Cn'*An'''\n",
    "\n",
    "C11 = elements[0]['atomicPercent']\n",
    "C21 = elements[1]['atomicPercent']\n",
    "C31 = elements[2]['atomicPercent']\n",
    "A1 = elements[0]['atomicWeight']\n",
    "A2 = elements[1]['atomicWeight']\n",
    "A3 = elements[2]['atomicWeight'] \n",
    "\n",
    "totalAtxAMU = (C11*A1 + C21*A2 + C31*A3)"
   ]
  },
  {
   "cell_type": "code",
   "execution_count": 8,
   "metadata": {
    "collapsed": false
   },
   "outputs": [
    {
     "name": "stdout",
     "output_type": "stream",
     "text": [
      "For an alloy of ('Mg', 65, 'Zn', 30, 'Ca', 5.0) at%\n",
      "\n",
      "Mg 65 at% is  42.222 wt%\n",
      "A total charge of 98.3 grams would contain\n",
      "41.505 grams of Mg\n",
      "\n",
      "Zn 30 at% is  52.422 wt%\n",
      "A total charge of 98.3 grams would contain\n",
      "51.531 grams of Zn\n",
      "\n",
      "Ca 5.0 at% is  5.356 wt%\n",
      "A total charge of 98.3 grams would contain\n",
      "5.265 grams of Ca\n",
      "\n"
     ]
    }
   ],
   "source": [
    "'Loop to calculate weight percent of alloy elements from atomic percent'\n",
    "print 'For an alloy of', AlloyAt, 'at%'\n",
    "print\n",
    "\n",
    "for i in elements:\n",
    "    AtxAMU = i['atomicPercent'] * i['atomicWeight']\n",
    "    wt = AtxAMU / totalAtxAMU\n",
    "    wt100 = 100 * wt\n",
    "    wtRound = round(wt100, 3)\n",
    "    print i['name'], i['atomicPercent'], 'at% is ', wtRound, 'wt%'\n",
    "    \n",
    "    'Alloy weight calcs happen here'\n",
    "    AlloyMass = totalAlloyMass * wt\n",
    "    AlloyMassRound = round(AlloyMass, 3)\n",
    "    print 'A total charge of', totalAlloyMass, 'grams would contain' \n",
    "    print AlloyMassRound, 'grams of', i['name']\n",
    "    print "
   ]
  },
  {
   "cell_type": "code",
   "execution_count": 9,
   "metadata": {
    "collapsed": false
   },
   "outputs": [],
   "source": [
    "def MgZnCaMass(MgW = 42.222, ZnW = 52.422, CaW = 5.356):\n",
    "    '''Calculate Wt% of given masses of Mg, Zn, and C\n",
    "    Creates an object array of those Mg, Zn, Ca Wt%\n",
    "    Mass of Mg, Zn, and Ca are inputs\n",
    "    Defaults are the masses for a Mg65Zn30Ca5 At% alloy'''\n",
    "    \n",
    "    'assertion test for invalid inputs'\n",
    "    assert (MgW and ZnW and CaW) > 0.0, 'Wt of elements must be greater than 0'\n",
    "    \n",
    "    'Works out wt% of alloy from componet input masses'\n",
    "    TotalWeight = float(MgW + ZnW + CaW)\n",
    "    MgWtPer = 100 * (MgW / TotalWeight)\n",
    "    ZnWtPer = 100 * (ZnW / TotalWeight)\n",
    "    CaWtPer = 100 * (CaW / TotalWeight)\n",
    "    \n",
    "    return [\n",
    "        {'name': 'Mg', \n",
    "        'WeightPercent': round(MgWtPer, 3), #alloy atomic percent\n",
    "        'atomicWeight': 24.305}, #amu\n",
    "\n",
    "        {'name': 'Zn', \n",
    "        'WeightPercent': round(ZnWtPer, 3), #alloy atomic percent\n",
    "        'atomicWeight': 65.382}, #amu\n",
    "\n",
    "        {'name': 'Ca', \n",
    "        'WeightPercent': round(CaWtPer, 3), #alloy atomic percent\n",
    "        'atomicWeight': 40.078}, #amu\n",
    "    ]"
   ]
  },
  {
   "cell_type": "code",
   "execution_count": 10,
   "metadata": {
    "collapsed": false
   },
   "outputs": [
    {
     "name": "stdout",
     "output_type": "stream",
     "text": [
      "[{'atomicWeight': 24.305, 'name': 'Mg', 'WeightPercent': 42.254}, {'atomicWeight': 65.382, 'name': 'Zn', 'WeightPercent': 52.314}, {'atomicWeight': 40.078, 'name': 'Ca', 'WeightPercent': 5.433}]\n"
     ]
    }
   ],
   "source": [
    "'Alloy componet mass of the alloy are entered here'\n",
    "WtElements = MgZnCaMass(42, 52, 5.4)\n",
    "print WtElements"
   ]
  },
  {
   "cell_type": "code",
   "execution_count": 11,
   "metadata": {
    "collapsed": false
   },
   "outputs": [
    {
     "name": "stdout",
     "output_type": "stream",
     "text": [
      "Analysing an alloy of  ('Mg', 42.254, 'Zn', 52.314, 'Ca', 5.433)  wt%\n"
     ]
    }
   ],
   "source": [
    "'Returns alloy name in weight percent.'\n",
    "Ele1Wt = WtElements[0]['name'], WtElements[0]['WeightPercent']\n",
    "Ele2Wt = WtElements[1]['name'], WtElements[1]['WeightPercent']\n",
    "Ele3Wt = WtElements[2]['name'], WtElements[2]['WeightPercent']\n",
    "AlloyWt = Ele1Wt + Ele2Wt + Ele3Wt\n",
    "\n",
    "print 'Analysing an alloy of ', AlloyWt, ' wt%'"
   ]
  },
  {
   "cell_type": "code",
   "execution_count": 12,
   "metadata": {
    "collapsed": false
   },
   "outputs": [],
   "source": [
    "'''Returns Wt% to At% denominator of \n",
    "total sum of weight percent (wt%) times atomic weight (AMU)\n",
    "of all other alloy constuients\n",
    "i.e. C1*A2*A3 + C2*A1*A2 + C3*A1*A2'''\n",
    "\n",
    "C1 = WtElements[0]['WeightPercent']\n",
    "C2 = WtElements[1]['WeightPercent']\n",
    "C3 = WtElements[2]['WeightPercent']\n",
    "\n",
    "totalWtxAMU = (C1*A2*A3 + C2*A1*A3 + C3*A1*A2)"
   ]
  },
  {
   "cell_type": "code",
   "execution_count": 13,
   "metadata": {
    "collapsed": false
   },
   "outputs": [],
   "source": [
    "'''Returns Theorecity crystalline density of alloy\n",
    "i.e. C1*D1 + ... + Cn*Dn'''\n",
    "\n",
    "D1 = elements[0]['density']\n",
    "D2 = elements[1]['density']\n",
    "D3 = elements[2]['density']\n",
    "\n",
    "alloyDensity = (C1 * D1 + C2 * D2 + C3 * D3)/100"
   ]
  },
  {
   "cell_type": "code",
   "execution_count": 14,
   "metadata": {
    "collapsed": false
   },
   "outputs": [
    {
     "name": "stdout",
     "output_type": "stream",
     "text": [
      "For an alloy of ('Mg', 42.254, 'Zn', 52.314, 'Ca', 5.433) wt%\n",
      "The theorecity crystalline density is 4.554 g/cm^3\n",
      "\n",
      "Mg 42.254 wt% is  65.01 at%\n",
      "Zn 52.314 wt% is  29.921 at%\n",
      "Ca 5.433 wt% is  5.069 at%\n"
     ]
    }
   ],
   "source": [
    "'Loop to calculate atomic percent of alloy elements from weight percent'\n",
    "print 'For an alloy of', AlloyWt, 'wt%'\n",
    "print 'The theorecity crystalline density is', round(alloyDensity, 3), 'g/cm^3'\n",
    "print\n",
    "\n",
    "for i in WtElements:\n",
    "    WtxAMU = i['WeightPercent'] * (A1 * A2 * A3) / i['atomicWeight']\n",
    "    at = WtxAMU / totalWtxAMU\n",
    "    at100 = 100 * at\n",
    "    atRound = round(at100, 3)\n",
    "    print i['name'], i['WeightPercent'], 'wt% is ', atRound, 'at%'"
   ]
  },
  {
   "cell_type": "code",
   "execution_count": null,
   "metadata": {
    "collapsed": true
   },
   "outputs": [],
   "source": []
  }
 ],
 "metadata": {
  "kernelspec": {
   "display_name": "Python 2",
   "language": "python",
   "name": "python2"
  },
  "language_info": {
   "codemirror_mode": {
    "name": "ipython",
    "version": 2
   },
   "file_extension": ".py",
   "mimetype": "text/x-python",
   "name": "python",
   "nbconvert_exporter": "python",
   "pygments_lexer": "ipython2",
   "version": "2.7.8"
  }
 },
 "nbformat": 4,
 "nbformat_minor": 0
}
