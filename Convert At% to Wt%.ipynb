{
 "metadata": {
  "name": "",
  "signature": "sha256:3671a4af1f8bb7eb996f46dbcd2a7c75a9d021333bc666e701dffed56d024908"
 },
 "nbformat": 3,
 "nbformat_minor": 0,
 "worksheets": [
  {
   "cells": [
    {
     "cell_type": "code",
     "collapsed": false,
     "input": [
      "'''Code for converting from At% to Wt% of an alloy\n",
      "Code by Scott Gleason, University of New South Wales (UNSW), Australia \n",
      "S.Gleason@student.unsw.edu.au, April 2015'''\n",
      "\n",
      "'''Takes an At% alloy and converts to Wt% for elements\n",
      "Element properties are entered as an array object\n",
      "Creat function that takes total weight as an input\n",
      "Print alloy in At%, Wt%, wt of each element, and total wt.'''"
     ],
     "language": "python",
     "metadata": {},
     "outputs": [
      {
       "metadata": {},
       "output_type": "pyout",
       "prompt_number": 1,
       "text": [
        "'Takes an At% alloy and converts to Wt% for elements\\nElement properties are entered as an array object\\nCreat function that takes total weight as an input\\nPrint alloy in At%, Wt%, wt of each element, and total wt.'"
       ]
      }
     ],
     "prompt_number": 1
    },
    {
     "cell_type": "code",
     "collapsed": false,
     "input": [
      "'''Convert at% to wt% \n",
      "C1 = C1'*A1 / (C1'*A1 + ... + Cn'*An)\n",
      "\n",
      "Convert wt% to at%\n",
      "C1' = C1*A2*A3 / (C1*A2*A3 + C2*A1*A3 + C3*A1*A2)\n",
      "\n",
      "Where Cn = wt%, Cn' = at%, An = atomic weight'''"
     ],
     "language": "python",
     "metadata": {},
     "outputs": [
      {
       "metadata": {},
       "output_type": "pyout",
       "prompt_number": 2,
       "text": [
        "\"Convert at% to wt% \\nC1 = C1'*A1 / (C1'*A1 + ... + Cn'*An)\\n\\nConvert wt% to at%\\nC1' = C1*A2*A3 / (C1*A2*A3 + C2*A1*A3 + C3*A1*A2)\\n\\nWhere Cn = wt%, Cn' = at%, An = atomic weight\""
       ]
      }
     ],
     "prompt_number": 2
    },
    {
     "cell_type": "code",
     "collapsed": false,
     "input": [
      "'''Imports numpy, matplotlib, and glob libaries \n",
      "numpy & matplotlib allow for complex math\n",
      "glob allows for pattern matching with * and ? wild cards'''\n",
      "\n",
      "import numpy as np\n",
      "import matplotlib.pyplot as plt\n",
      "import glob"
     ],
     "language": "python",
     "metadata": {},
     "outputs": [],
     "prompt_number": 3
    },
    {
     "cell_type": "code",
     "collapsed": false,
     "input": [
      "def MgZnCaAlloy(MgAt = 65., ZnAt = 30.):\n",
      "    '''Creates an object array of a Mg, Zn, Ca alloy\n",
      "    At% of Mg and Zn are inputs\n",
      "    Defaults are Mg 65, Zn 30, which gives Ca 5'''\n",
      "    \n",
      "    'assertion test for invalid inputs'\n",
      "    assert MgAt + ZnAt < 100.0, 'At% of Mg plus Zn must be less than 100%'\n",
      "    assert MgAt > 0.0, 'Alloy element amounts must be greater than 0'\n",
      "    assert ZnAt > 0.0, 'Alloy element amounts must be greater than 0'\n",
      "    \n",
      "    return [\n",
      "        {'name': 'Mg', \n",
      "        'atomicPercent': MgAt, #alloy atomic percent\n",
      "        'atomicWeight': 24.305, #amu\n",
      "        'density': 1.738}, #g/cm3\n",
      "\n",
      "        {'name': 'Zn', \n",
      "        'atomicPercent': ZnAt, #alloy atomic percent\n",
      "        'atomicWeight': 65.382, #amu\n",
      "        'density': 7.14}, #g/cm3\n",
      "\n",
      "        {'name': 'Ca', \n",
      "        'atomicPercent': (100 - MgAt - ZnAt), #alloy atomic percent\n",
      "        'atomicWeight': 40.078, #amu\n",
      "        'density': 1.55} #g/cm3\n",
      "    ]"
     ],
     "language": "python",
     "metadata": {},
     "outputs": [],
     "prompt_number": 4
    },
    {
     "cell_type": "code",
     "collapsed": false,
     "input": [
      "'Returns alloy name and atomic composition.'\n",
      "Com1 = MgZnCaAlloy()[0]['name'], MgZnCaAlloy()[0]['atomicPercent']\n",
      "Com2 = MgZnCaAlloy()[1]['name'], MgZnCaAlloy()[1]['atomicPercent']\n",
      "Com3 = MgZnCaAlloy()[2]['name'], MgZnCaAlloy()[2]['atomicPercent']\n",
      "Alloy = Com1 + Com2 + Com3\n",
      "\n",
      "print 'For an at% alloy of ', Alloy, ' the weight percent of:'"
     ],
     "language": "python",
     "metadata": {},
     "outputs": [
      {
       "output_type": "stream",
       "stream": "stdout",
       "text": [
        "For an at% alloy of  ('Mg', 65.0, 'Zn', 30.0, 'Ca', 5.0)  the weight percent of:\n"
       ]
      }
     ],
     "prompt_number": 5
    },
    {
     "cell_type": "code",
     "collapsed": false,
     "input": [
      "'''Returns At% to Wt% denominator of \n",
      "total sum of atomic percent times atomic weight of alloy\n",
      "i.e. C1'*A1 + ... + Cn'*An'''\n",
      "\n",
      "totalAtxAMU = (MgZnCaAlloy()[0]['atomicPercent'] * MgZnCaAlloy()[0]['atomicWeight'] + \n",
      "MgZnCaAlloy()[1]['atomicPercent'] * MgZnCaAlloy()[1]['atomicWeight'] + \n",
      "MgZnCaAlloy()[2]['atomicPercent'] * MgZnCaAlloy()[2]['atomicWeight'])"
     ],
     "language": "python",
     "metadata": {},
     "outputs": [],
     "prompt_number": 6
    },
    {
     "cell_type": "code",
     "collapsed": false,
     "input": [
      "'Loop to calculate weight percent of alloy elements from atomic percent'\n",
      "print 'For an alloy of', Alloy, 'at%'\n",
      "print\n",
      "\n",
      "for i in MgZnCaAlloy():\n",
      "    AtxAMU = i['atomicPercent'] * i['atomicWeight']\n",
      "    wt = AtxAMU / totalAtxAMU\n",
      "    wt100 = 100 * wt\n",
      "    wtRound = round(wt100, 3)\n",
      "    print i['name'], i['atomicPercent'], 'at% is ', wtRound, 'wt%'\n",
      "    \n",
      "    'Enter check alloy weight here'\n",
      "    totalAlloyMass = 98.673 #grams\n",
      "    AlloyMass = totalAlloyMass * wt\n",
      "    AlloyMassRound = round(AlloyMass, 3)\n",
      "    print 'A total charge of', totalAlloyMass, 'grams would contain' \n",
      "    print AlloyMassRound, 'grams of', i['name']\n",
      "    print "
     ],
     "language": "python",
     "metadata": {},
     "outputs": [
      {
       "output_type": "stream",
       "stream": "stdout",
       "text": [
        "For an alloy of ('Mg', 65.0, 'Zn', 30.0, 'Ca', 5.0) at%\n",
        "\n",
        "Mg 65.0 at% is  42.222 wt%\n",
        "A total charge of 98.673 grams would contain\n",
        "41.662 grams of Mg\n",
        "\n",
        "Zn 30.0 at% is  52.422 wt%\n",
        "A total charge of 98.673 grams would contain\n",
        "51.726 grams of Zn\n",
        "\n",
        "Ca 5.0 at% is  5.356 wt%\n",
        "A total charge of 98.673 grams would contain\n",
        "5.285 grams of Ca\n",
        "\n"
       ]
      }
     ],
     "prompt_number": 7
    },
    {
     "cell_type": "code",
     "collapsed": false,
     "input": [],
     "language": "python",
     "metadata": {},
     "outputs": []
    }
   ],
   "metadata": {}
  }
 ]
}