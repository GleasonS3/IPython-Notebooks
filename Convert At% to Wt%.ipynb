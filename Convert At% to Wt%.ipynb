{
 "metadata": {
  "name": "",
  "signature": "sha256:8afcc1ad201ef6922faee8db178af68440c554b8c818a6bb3c78c302914ac748"
 },
 "nbformat": 3,
 "nbformat_minor": 0,
 "worksheets": [
  {
   "cells": [
    {
     "cell_type": "code",
     "collapsed": false,
     "input": [
      "'''Code for converting from At% to Wt% of an alloy\n",
      "Code by Scott Gleason, University of New South Wales (UNSW), Australia \n",
      "S.Gleason@student.unsw.edu.au, April 2015'''\n",
      "\n",
      "'''Takes an At% alloy and converts to Wt% for elements\n",
      "Element properties are entered as an array object\n",
      "Creat function that takes total weight as an input\n",
      "Print alloy in At%, Wt%, wt of each element, and total wt.'''"
     ],
     "language": "python",
     "metadata": {},
     "outputs": [
      {
       "metadata": {},
       "output_type": "pyout",
       "prompt_number": 1,
       "text": [
        "'Takes an At% alloy and converts to Wt% for elements\\nElement properties are entered as an array object\\nCreat function that takes total weight as an input\\nPrint alloy in At%, Wt%, wt of each element, and total wt.'"
       ]
      }
     ],
     "prompt_number": 1
    },
    {
     "cell_type": "code",
     "collapsed": false,
     "input": [
      "'''Convert at% to wt% \n",
      "C1 = C1'*A1 / (C1'*A1 + ... + Cn'*An)\n",
      "\n",
      "Convert wt% to at%\n",
      "C1' = C1*A2*A3 / (C1*A2*A3 + C2*A1*A3 + C3*A1*A2)\n",
      "\n",
      "Where Cn = wt%, Cn' = at%, An = atomic weight'''"
     ],
     "language": "python",
     "metadata": {},
     "outputs": [
      {
       "metadata": {},
       "output_type": "pyout",
       "prompt_number": 2,
       "text": [
        "\"Convert at% to wt% \\nC1 = C1'*A1 / (C1'*A1 + ... + Cn'*An)\\n\\nConvert wt% to at%\\nC1' = C1*A2*A3 / (C1*A2*A3 + C2*A1*A3 + C3*A1*A2)\\n\\nWhere Cn = wt%, Cn' = at%, An = atomic weight\""
       ]
      }
     ],
     "prompt_number": 2
    },
    {
     "cell_type": "code",
     "collapsed": false,
     "input": [
      "'''Imports numpy, matplotlib, and glob libaries \n",
      "numpy & matplotlib allow for complex math\n",
      "glob allows for pattern matching with * and ? wild cards'''\n",
      "\n",
      "import numpy as np\n",
      "import matplotlib.pyplot as plt\n",
      "import glob"
     ],
     "language": "python",
     "metadata": {},
     "outputs": [],
     "prompt_number": 3
    },
    {
     "cell_type": "code",
     "collapsed": false,
     "input": [
      "def MgZnCaAtToWt(MgAt = 65., ZnAt = 30.):\n",
      "    '''Creates an object array of a Mg, Zn, Ca alloy\n",
      "    At% of Mg and Zn are inputs\n",
      "    Defaults are Mg 65, Zn 30, which gives Ca 5'''\n",
      "    \n",
      "    'assertion test for invalid inputs'\n",
      "    assert MgAt + ZnAt < 100.0, 'At% of Mg plus Zn must be less than 100%'\n",
      "    assert (MgAt and ZnAt) > 0.0, 'At% of Mg and Zn must be greater than 0'\n",
      "    \n",
      "    return [\n",
      "        {'name': 'Mg', \n",
      "        'atomicPercent': MgAt, #alloy atomic percent\n",
      "        'atomicWeight': 24.305, #amu\n",
      "        'density': 1.738}, #g/cm3\n",
      "\n",
      "        {'name': 'Zn', \n",
      "        'atomicPercent': ZnAt, #alloy atomic percent\n",
      "        'atomicWeight': 65.382, #amu\n",
      "        'density': 7.14}, #g/cm3\n",
      "\n",
      "        {'name': 'Ca', \n",
      "        'atomicPercent': (100 - MgAt - ZnAt), #alloy atomic percent\n",
      "        'atomicWeight': 40.078, #amu\n",
      "        'density': 1.55} #g/cm3\n",
      "    ]"
     ],
     "language": "python",
     "metadata": {},
     "outputs": [],
     "prompt_number": 4
    },
    {
     "cell_type": "code",
     "collapsed": false,
     "input": [
      "'Alloy At% composition, and total mass are entered here'\n",
      "elements = MgZnCaAtToWt(65, 30)\n",
      "totalAlloyMass = 105.35 #grams\n",
      "print elements"
     ],
     "language": "python",
     "metadata": {},
     "outputs": [
      {
       "output_type": "stream",
       "stream": "stdout",
       "text": [
        "[{'density': 1.738, 'atomicWeight': 24.305, 'name': 'Mg', 'atomicPercent': 65}, {'density': 7.14, 'atomicWeight': 65.382, 'name': 'Zn', 'atomicPercent': 30}, {'density': 1.55, 'atomicWeight': 40.078, 'name': 'Ca', 'atomicPercent': 5}]\n"
       ]
      }
     ],
     "prompt_number": 5
    },
    {
     "cell_type": "code",
     "collapsed": false,
     "input": [
      "'Returns alloy name and atomic percent.'\n",
      "Ele1At = elements[0]['name'], elements[0]['atomicPercent']\n",
      "Ele2At = elements[1]['name'], elements[1]['atomicPercent']\n",
      "Ele3At = elements[2]['name'], elements[2]['atomicPercent']\n",
      "AlloyAt = Ele1At + Ele2At + Ele3At\n",
      "\n",
      "print 'Analysing an alloy of ', AlloyAt, ' at%'"
     ],
     "language": "python",
     "metadata": {},
     "outputs": [
      {
       "output_type": "stream",
       "stream": "stdout",
       "text": [
        "Analysing an alloy of  ('Mg', 65, 'Zn', 30, 'Ca', 5)  at%\n"
       ]
      }
     ],
     "prompt_number": 6
    },
    {
     "cell_type": "code",
     "collapsed": false,
     "input": [
      "'''Returns At% to Wt% denominator of \n",
      "total sum of atomic percent times atomic weight of alloy\n",
      "i.e. C1'*A1 + ... + Cn'*An'''\n",
      "\n",
      "C11 = elements[0]['atomicPercent']\n",
      "C21 = elements[1]['atomicPercent']\n",
      "C31 = elements[2]['atomicPercent']\n",
      "A1 = elements[0]['atomicWeight']\n",
      "A2 = elements[1]['atomicWeight']\n",
      "A3 = elements[2]['atomicWeight'] \n",
      "\n",
      "totalAtxAMU = (C11*A1 + C21*A2 + C31*A3)"
     ],
     "language": "python",
     "metadata": {},
     "outputs": [],
     "prompt_number": 7
    },
    {
     "cell_type": "code",
     "collapsed": false,
     "input": [
      "'Loop to calculate weight percent of alloy elements from atomic percent'\n",
      "print 'For an alloy of', AlloyAt, 'at%'\n",
      "print\n",
      "\n",
      "for i in elements:\n",
      "    AtxAMU = i['atomicPercent'] * i['atomicWeight']\n",
      "    wt = AtxAMU / totalAtxAMU\n",
      "    wt100 = 100 * wt\n",
      "    wtRound = round(wt100, 3)\n",
      "    print i['name'], i['atomicPercent'], 'at% is ', wtRound, 'wt%'\n",
      "    \n",
      "    'Alloy weight calcs happen here'\n",
      "    AlloyMass = totalAlloyMass * wt\n",
      "    AlloyMassRound = round(AlloyMass, 3)\n",
      "    print 'A total charge of', totalAlloyMass, 'grams would contain' \n",
      "    print AlloyMassRound, 'grams of', i['name']\n",
      "    print "
     ],
     "language": "python",
     "metadata": {},
     "outputs": [
      {
       "output_type": "stream",
       "stream": "stdout",
       "text": [
        "For an alloy of ('Mg', 65, 'Zn', 30, 'Ca', 5) at%\n",
        "\n",
        "Mg 65 at% is  42.222 wt%\n",
        "A total charge of 105.35 grams would contain\n",
        "44.481 grams of Mg\n",
        "\n",
        "Zn 30 at% is  52.422 wt%\n",
        "A total charge of 105.35 grams would contain\n",
        "55.227 grams of Zn\n",
        "\n",
        "Ca 5 at% is  5.356 wt%\n",
        "A total charge of 105.35 grams would contain\n",
        "5.642 grams of Ca\n",
        "\n"
       ]
      }
     ],
     "prompt_number": 8
    },
    {
     "cell_type": "code",
     "collapsed": false,
     "input": [
      "def MgZnCaWtToAt(MgWt = 42.222, ZnWt = 52.422):\n",
      "    '''Creates an object array of a Mg, Zn, Ca alloy\n",
      "    Wt% of Mg and Zn are inputs\n",
      "    Defaults are Mg 42.222, Zn 52.422, which gives Ca 5.356'''\n",
      "    \n",
      "    'assertion test for invalid inputs'\n",
      "    assert MgWt + ZnWt < 100.0, 'Wt% of Mg plus Zn must be less than 100%'\n",
      "    assert (MgWt and ZnWt) > 0.0, 'Wt% of Mg and Zn must be greater than 0'\n",
      "    \n",
      "    return [\n",
      "        {'name': 'Mg', \n",
      "        'WeightPercent': MgWt, #alloy atomic percent\n",
      "        'atomicWeight': 24.305}, #amu\n",
      "\n",
      "        {'name': 'Zn', \n",
      "        'WeightPercent': ZnWt, #alloy atomic percent\n",
      "        'atomicWeight': 65.382}, #amu\n",
      "\n",
      "        {'name': 'Ca', \n",
      "        'WeightPercent': round((100 - MgWt - ZnWt), 3), #alloy atomic percent\n",
      "        'atomicWeight': 40.078}, #amu\n",
      "    ]"
     ],
     "language": "python",
     "metadata": {},
     "outputs": [],
     "prompt_number": 9
    },
    {
     "cell_type": "code",
     "collapsed": false,
     "input": [
      "def MgZnCaMass(MgW, ZnW, CaW):\n",
      "    '''Calculate Wt% of given masses of Mg, Zn, and C\n",
      "    Creates an object array of those Mg, Zn, Ca Wt%\n",
      "    Mass of Mg, Zn, and Ca are inputs'''\n",
      "    \n",
      "    'assertion test for invalid inputs'\n",
      "    assert (MgW and ZnW and CaW) > 0.0, 'Wt of elements must be greater than 0'\n",
      "    \n",
      "    'Works out wt% of alloy from componet input masses'\n",
      "    TotalWeight = MgW + ZnW + CaW\n",
      "    MgWtPer = 100 * (MgW / TotalWeight)\n",
      "    ZnWtPer = 100 * (ZnW / TotalWeight)\n",
      "    CaWtPer = 100 * (CaW / TotalWeight)\n",
      "    \n",
      "    return [\n",
      "        {'name': 'Mg', \n",
      "        'WeightPercent': round(MgWtPer, 3), #alloy atomic percent\n",
      "        'atomicWeight': 24.305}, #amu\n",
      "\n",
      "        {'name': 'Zn', \n",
      "        'WeightPercent': round(ZnWtPer, 3), #alloy atomic percent\n",
      "        'atomicWeight': 65.382}, #amu\n",
      "\n",
      "        {'name': 'Ca', \n",
      "        'WeightPercent': round(CaWtPer, 3), #alloy atomic percent\n",
      "        'atomicWeight': 40.078}, #amu\n",
      "    ]"
     ],
     "language": "python",
     "metadata": {},
     "outputs": [],
     "prompt_number": 10
    },
    {
     "cell_type": "code",
     "collapsed": false,
     "input": [
      "'Alloy At% composition, and total mass are entered here'\n",
      "WtElements = MgZnCaMass(44., 55., 5.5)\n",
      "print WtElements"
     ],
     "language": "python",
     "metadata": {},
     "outputs": [
      {
       "output_type": "stream",
       "stream": "stdout",
       "text": [
        "[{'atomicWeight': 24.305, 'name': 'Mg', 'WeightPercent': 42.105}, {'atomicWeight': 65.382, 'name': 'Zn', 'WeightPercent': 52.632}, {'atomicWeight': 40.078, 'name': 'Ca', 'WeightPercent': 5.263}]\n"
       ]
      }
     ],
     "prompt_number": 11
    },
    {
     "cell_type": "code",
     "collapsed": false,
     "input": [
      "'Returns alloy name and weight percent.'\n",
      "Ele1Wt = WtElements[0]['name'], WtElements[0]['WeightPercent']\n",
      "Ele2Wt = WtElements[1]['name'], WtElements[1]['WeightPercent']\n",
      "Ele3Wt = WtElements[2]['name'], WtElements[2]['WeightPercent']\n",
      "AlloyWt = Ele1Wt + Ele2Wt + Ele3Wt\n",
      "\n",
      "print 'Analysing an alloy of ', AlloyWt, ' wt%'"
     ],
     "language": "python",
     "metadata": {},
     "outputs": [
      {
       "output_type": "stream",
       "stream": "stdout",
       "text": [
        "Analysing an alloy of  ('Mg', 42.105, 'Zn', 52.632, 'Ca', 5.263)  wt%\n"
       ]
      }
     ],
     "prompt_number": 12
    },
    {
     "cell_type": "code",
     "collapsed": false,
     "input": [
      "'''Returns Wt% to At% denominator of \n",
      "total sum of atomic weight times atomic weight of all other alloy constuients\n",
      "i.e. C1*A2*A3 + C2*A1*A2 + C3*A1*A2'''\n",
      "\n",
      "C1 = WtElements[0]['WeightPercent']\n",
      "C2 = WtElements[1]['WeightPercent']\n",
      "C3 = WtElements[2]['WeightPercent']\n",
      "\n",
      "totalWtxAMU = (C1*A2*A3 + C2*A1*A3 + C3*A1*A2)"
     ],
     "language": "python",
     "metadata": {},
     "outputs": [],
     "prompt_number": 13
    },
    {
     "cell_type": "code",
     "collapsed": false,
     "input": [
      "'Loop to calculate atomic percent of alloy elements from weight percent'\n",
      "print 'For an alloy of', AlloyWt, 'wt%'\n",
      "print\n",
      "\n",
      "for i in WtElements:\n",
      "    WtxAMU = i['WeightPercent'] * (A1 * A2 * A3) / i['atomicWeight']\n",
      "    at = WtxAMU / totalWtxAMU\n",
      "    at100 = 100 * at\n",
      "    atRound = round(at100, 3)\n",
      "    print i['name'], i['WeightPercent'], 'wt% is ', atRound, 'at%'"
     ],
     "language": "python",
     "metadata": {},
     "outputs": [
      {
       "output_type": "stream",
       "stream": "stdout",
       "text": [
        "For an alloy of ('Mg', 42.105, 'Zn', 52.632, 'Ca', 5.263) wt%\n",
        "\n",
        "Mg 42.105 wt% is  64.915 at%\n",
        "Zn 52.632 wt% is  30.165 at%\n",
        "Ca 5.263 wt% is  4.921 at%\n"
       ]
      }
     ],
     "prompt_number": 14
    },
    {
     "cell_type": "code",
     "collapsed": false,
     "input": [],
     "language": "python",
     "metadata": {},
     "outputs": []
    }
   ],
   "metadata": {}
  }
 ]
}