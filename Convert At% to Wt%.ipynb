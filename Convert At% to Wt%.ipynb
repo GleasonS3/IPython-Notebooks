{
 "metadata": {
  "name": "",
  "signature": "sha256:85c52c39ce45a11acf7b91f6232315f2b4c02bec874b31c86859413281b30ba9"
 },
 "nbformat": 3,
 "nbformat_minor": 0,
 "worksheets": [
  {
   "cells": [
    {
     "cell_type": "code",
     "collapsed": false,
     "input": [
      "'''Code for converting from At% to Wt% of an alloy\n",
      "Code by Scott Gleason, University of New South Wales (UNSW), Australia \n",
      "S.Gleason@student.unsw.edu.au, April 2015'''\n",
      "\n",
      "'''Takes an At% alloy and converts to Wt% for elements\n",
      "Element properties are entered as an array object\n",
      "Creat function that takes total weight as an input\n",
      "Print alloy in At%, Wt%, wt of each element, and total wt.'''"
     ],
     "language": "python",
     "metadata": {},
     "outputs": [
      {
       "metadata": {},
       "output_type": "pyout",
       "prompt_number": 1,
       "text": [
        "'Takes an At% alloy and converts to Wt% for elements\\nElement properties are entered as an array object\\nCreat function that takes total weight as an input\\nPrint alloy in At%, Wt%, wt of each element, and total wt.'"
       ]
      }
     ],
     "prompt_number": 1
    },
    {
     "cell_type": "code",
     "collapsed": false,
     "input": [
      "'''Convert at% to wt% \n",
      "C1 = C1'*A1 / (C1'*A1 + ... + Cn'*An)\n",
      "\n",
      "Convert wt% to at%\n",
      "C1' = C1*A2*A3 / (C1*A2*A3 + C2*A1*A3 + C3*A1*A2)\n",
      "\n",
      "Where Cn = wt%, Cn' = at%, An = atomic weight'''"
     ],
     "language": "python",
     "metadata": {},
     "outputs": [
      {
       "metadata": {},
       "output_type": "pyout",
       "prompt_number": 2,
       "text": [
        "\"Convert at% to wt% \\nC1 = C1'*A1 / (C1'*A1 + ... + Cn'*An)\\n\\nConvert wt% to at%\\nC1' = C1*A2*A3 / (C1*A2*A3 + C2*A1*A3 + C3*A1*A2)\\n\\nWhere Cn = wt%, Cn' = at%, An = atomic weight\""
       ]
      }
     ],
     "prompt_number": 2
    },
    {
     "cell_type": "code",
     "collapsed": false,
     "input": [
      "'''Imports numpy, matplotlib, and glob libaries \n",
      "numpy & matplotlib allow for complex math\n",
      "glob allows for pattern matching with * and ? wild cards'''\n",
      "\n",
      "import numpy as np\n",
      "import matplotlib.pyplot as plt\n",
      "import glob"
     ],
     "language": "python",
     "metadata": {},
     "outputs": [],
     "prompt_number": 3
    },
    {
     "cell_type": "code",
     "collapsed": false,
     "input": [
      "def MgZnCaAlloy(MgAt = 65., ZnAt = 30.):\n",
      "    '''Creates an object array of a Mg, Zn, Ca alloy\n",
      "    At% of Mg and Zn are inputs\n",
      "    Defaults are Mg 65, Zn 30, which gives Ca 5'''\n",
      "    \n",
      "    'assertion test for invalid inputs'\n",
      "    assert MgAt + ZnAt < 100.0, 'At% of Mg plus Zn must be less than 100%'\n",
      "    assert MgAt > 0.0, 'Alloy element amounts must be greater than 0'\n",
      "    assert ZnAt > 0.0, 'Alloy element amounts must be greater than 0'\n",
      "    \n",
      "    return [\n",
      "        {'name': 'Mg', \n",
      "        'atomicPercent': MgAt, #alloy atomic percent\n",
      "        'atomicWeight': 24.305, #amu\n",
      "        'density': 1.738}, #g/cm3\n",
      "\n",
      "        {'name': 'Zn', \n",
      "        'atomicPercent': ZnAt, #alloy atomic percent\n",
      "        'atomicWeight': 65.382, #amu\n",
      "        'density': 7.14}, #g/cm3\n",
      "\n",
      "        {'name': 'Ca', \n",
      "        'atomicPercent': (100 - MgAt - ZnAt), #alloy atomic percent\n",
      "        'atomicWeight': 40.078, #amu\n",
      "        'density': 1.55} #g/cm3\n",
      "    ]"
     ],
     "language": "python",
     "metadata": {},
     "outputs": [],
     "prompt_number": 4
    },
    {
     "cell_type": "code",
     "collapsed": false,
     "input": [
      "'Alloy At% composition, and total mass are entered here'\n",
      "elements = MgZnCaAlloy()\n",
      "totalAlloyMass = 105.35 #grams\n",
      "print elements"
     ],
     "language": "python",
     "metadata": {},
     "outputs": [
      {
       "output_type": "stream",
       "stream": "stdout",
       "text": [
        "[{'density': 1.738, 'atomicWeight': 24.305, 'name': 'Mg', 'atomicPercent': 65.0}, {'density': 7.14, 'atomicWeight': 65.382, 'name': 'Zn', 'atomicPercent': 30.0}, {'density': 1.55, 'atomicWeight': 40.078, 'name': 'Ca', 'atomicPercent': 5.0}]\n"
       ]
      }
     ],
     "prompt_number": 5
    },
    {
     "cell_type": "code",
     "collapsed": false,
     "input": [
      "'Returns alloy name and atomic composition.'\n",
      "Com1 = elements[0]['name'], elements[0]['atomicPercent']\n",
      "Com2 = elements[1]['name'], elements[1]['atomicPercent']\n",
      "Com3 = elements[2]['name'], elements[2]['atomicPercent']\n",
      "Alloy = Com1 + Com2 + Com3\n",
      "\n",
      "print 'For an at% alloy of ', Alloy, ' the weight percent of:'"
     ],
     "language": "python",
     "metadata": {},
     "outputs": [
      {
       "output_type": "stream",
       "stream": "stdout",
       "text": [
        "For an at% alloy of  ('Mg', 65.0, 'Zn', 30.0, 'Ca', 5.0)  the weight percent of:\n"
       ]
      }
     ],
     "prompt_number": 6
    },
    {
     "cell_type": "code",
     "collapsed": false,
     "input": [
      "'''Returns At% to Wt% denominator of \n",
      "total sum of atomic percent times atomic weight of alloy\n",
      "i.e. C1'*A1 + ... + Cn'*An'''\n",
      "\n",
      "totalAtxAMU = (elements[0]['atomicPercent'] * elements[0]['atomicWeight'] + \n",
      "elements[1]['atomicPercent'] * elements[1]['atomicWeight'] + \n",
      "elements[2]['atomicPercent'] * elements[2]['atomicWeight'])"
     ],
     "language": "python",
     "metadata": {},
     "outputs": [],
     "prompt_number": 7
    },
    {
     "cell_type": "code",
     "collapsed": false,
     "input": [
      "'Loop to calculate weight percent of alloy elements from atomic percent'\n",
      "print 'For an alloy of', Alloy, 'at%'\n",
      "print\n",
      "\n",
      "for i in elements:\n",
      "    AtxAMU = i['atomicPercent'] * i['atomicWeight']\n",
      "    wt = AtxAMU / totalAtxAMU\n",
      "    wt100 = 100 * wt\n",
      "    wtRound = round(wt100, 3)\n",
      "    print i['name'], i['atomicPercent'], 'at% is ', wtRound, 'wt%'\n",
      "    \n",
      "    'Enter check alloy weight here'\n",
      "    AlloyMass = totalAlloyMass * wt\n",
      "    AlloyMassRound = round(AlloyMass, 3)\n",
      "    print 'A total charge of', totalAlloyMass, 'grams would contain' \n",
      "    print AlloyMassRound, 'grams of', i['name']\n",
      "    print "
     ],
     "language": "python",
     "metadata": {},
     "outputs": [
      {
       "output_type": "stream",
       "stream": "stdout",
       "text": [
        "For an alloy of ('Mg', 65.0, 'Zn', 30.0, 'Ca', 5.0) at%\n",
        "\n",
        "Mg 65.0 at% is  42.222 wt%\n",
        "A total charge of 105.35 grams would contain\n",
        "44.481 grams of Mg\n",
        "\n",
        "Zn 30.0 at% is  52.422 wt%\n",
        "A total charge of 105.35 grams would contain\n",
        "55.227 grams of Zn\n",
        "\n",
        "Ca 5.0 at% is  5.356 wt%\n",
        "A total charge of 105.35 grams would contain\n",
        "5.642 grams of Ca\n",
        "\n"
       ]
      }
     ],
     "prompt_number": 8
    },
    {
     "cell_type": "code",
     "collapsed": false,
     "input": [],
     "language": "python",
     "metadata": {},
     "outputs": []
    }
   ],
   "metadata": {}
  }
 ]
}