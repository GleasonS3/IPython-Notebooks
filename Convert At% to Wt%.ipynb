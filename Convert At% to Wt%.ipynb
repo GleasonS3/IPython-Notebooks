{
 "cells": [
  {
   "cell_type": "code",
   "execution_count": 1,
   "metadata": {
    "collapsed": false
   },
   "outputs": [
    {
     "data": {
      "text/plain": [
       "'Takes an At% alloy and converts to Wt% for constituent elements\\nElement properties are entered as an object array\\nPrints alloy in At%, Wt%, expected density, \\nand weight of each con element and total alloy wt.\\n\\nFrom weights of con elements calcs Wt%, and returns At% & expected density'"
      ]
     },
     "execution_count": 1,
     "metadata": {},
     "output_type": "execute_result"
    }
   ],
   "source": [
    "'''Code for converting from At% to Wt% of an alloy\n",
    "Code by Scott Gleason, University of New South Wales (UNSW), Australia \n",
    "S.Gleason@student.unsw.edu.au, April 2015'''\n",
    "\n",
    "'''Takes an At% alloy and converts to Wt% for constituent elements\n",
    "Element properties are entered as an object array\n",
    "Prints alloy in At%, Wt%, expected density, \n",
    "and weight of each con element and total alloy wt.\n",
    "\n",
    "From weights of con elements calcs Wt%, and returns At% & expected density'''"
   ]
  },
  {
   "cell_type": "code",
   "execution_count": 2,
   "metadata": {
    "collapsed": false
   },
   "outputs": [
    {
     "data": {
      "text/plain": [
       "\"Convert at% to wt% \\nC1 = C1' * A1 / (C1' * A1 + ... + Cn' * An)\\n\\nConvert wt% to at%\\nC1' = C1 / A1 / (C1 / A1 + ... + Cn / An)\\n\\nDensity from wt%\\n1 / D = C1 / D1 + ... + Cn / Dn\\n\\nWhere Cn = wt%, Cn' = at%, An = atomic weight, Dn = density\""
      ]
     },
     "execution_count": 2,
     "metadata": {},
     "output_type": "execute_result"
    }
   ],
   "source": [
    "'''Convert at% to wt% \n",
    "C1 = C1' * A1 / (C1' * A1 + ... + Cn' * An)\n",
    "\n",
    "Convert wt% to at%\n",
    "C1' = C1 / A1 / (C1 / A1 + ... + Cn / An)\n",
    "\n",
    "Density from wt%\n",
    "1 / D = C1 / D1 + ... + Cn / Dn\n",
    "\n",
    "Where Cn = wt%, Cn' = at%, An = atomic weight, Dn = density'''"
   ]
  },
  {
   "cell_type": "code",
   "execution_count": 3,
   "metadata": {
    "collapsed": false
   },
   "outputs": [],
   "source": [
    "'''Imports numpy, and matplotlib libaries \n",
    "numpy & matplotlib allow for complex math'''\n",
    "\n",
    "import numpy as np\n",
    "import matplotlib.pyplot as plt"
   ]
  },
  {
   "cell_type": "code",
   "execution_count": 4,
   "metadata": {
    "collapsed": false
   },
   "outputs": [],
   "source": [
    "def MgZnCaAtToWt(MgAt = 65., ZnAt = 30.):\n",
    "    '''Creates an object array of a Mg, Zn, Ca alloy\n",
    "    At% of Mg and Zn are inputs\n",
    "    Defaults are Mg 65, Zn 30, which gives Ca 5'''\n",
    "    \n",
    "    'assertion test for invalid inputs'\n",
    "    assert MgAt + ZnAt < 100.0, 'At% of Mg plus Zn must be less than 100%'\n",
    "    assert (MgAt and ZnAt) > 0.0, 'At% of Mg and Zn must be greater than 0'\n",
    "    \n",
    "    return [\n",
    "        {'name': 'Mg', \n",
    "        'atomicPercent': round(MgAt, 3), #alloy atomic percent\n",
    "        'atomicWeight': 24.305, #amu\n",
    "        'density': 1.738}, #g/cm3\n",
    "\n",
    "        {'name': 'Zn', \n",
    "        'atomicPercent': round(ZnAt, 3), #alloy atomic percent\n",
    "        'atomicWeight': 65.382, #amu\n",
    "        'density': 7.14}, #g/cm3\n",
    "\n",
    "        {'name': 'Ca', \n",
    "        'atomicPercent': round((100. - MgAt - ZnAt), 3), #alloy atomic percent\n",
    "        'atomicWeight': 40.078, #amu\n",
    "        'density': 1.55} #g/cm3\n",
    "    ]"
   ]
  },
  {
   "cell_type": "code",
   "execution_count": 5,
   "metadata": {
    "collapsed": false
   },
   "outputs": [],
   "source": [
    "def AtToWtCalc(Mg = 65, Zn = 30, totalAlloyMass = 100.0):\n",
    "    '''Loop to calculate MgZnCa Wt% of alloy elements from At%\n",
    "    Mg = At% of Mg, default 65 at%\n",
    "    Zn = At% of Zn, default 30 at%\n",
    "    totalAlloyMass = total mass of the charge, default 100 grams'''\n",
    "    \n",
    "    'assertion test for invalid inputs'\n",
    "    assert Mg + Zn < 100.0, 'At% of Mg plus Zn must be less than 100%'\n",
    "    assert (Mg and Zn) > 0.0, 'At% of Mg and Zn must be greater than 0'\n",
    "    assert totalAlloyMass > 0.0, 'The total alloy charge mass must be greater than 0.0 grams'\n",
    "\n",
    "    'Stores the analysis alloy within the Object Array function'\n",
    "    elements = MgZnCaAtToWt(Mg, Zn)\n",
    "        \n",
    "    '''Loops through to returns alloy name and atomic percent.\n",
    "    AlloyArray creates an array of element name+At% strings\n",
    "    %s%.2f tells it first element a str, second a number of x floats'''\n",
    "    AlloyArray = [\"%s%.1f\" % (i['name'],i['atomicPercent']) for i in elements]\n",
    "    'join combines AlloyArray into a single string, seperatred by the Delimiter'\n",
    "    Delimiter = ' '\n",
    "    AlloyAt = Delimiter.join(AlloyArray)  \n",
    "\n",
    "    print 'For an alloy of', AlloyAt, 'at%'\n",
    "    \n",
    "    '''Loop to return At% to Wt% denominator of \n",
    "    total sum of atomic percent (at%) times atomic weight (AMU) of alloy\n",
    "    i.e. C1'*A1 + ... + Cn'*An\n",
    "    Where Cn = wt%, Cn' = at%, An = atomic weight'''\n",
    "    totalAtxAMU = 0\n",
    "    for i in elements:\n",
    "        totalAtxAMU += i['atomicPercent'] * i['atomicWeight']\n",
    "\n",
    "    '''Loop to return alloy density\n",
    "    Uses start of main loop to computer Wt% for use in calculation\n",
    "    i.e. 1/D = C1/D1 + ... + Cn/Dn'''\n",
    "    OneOnDensity = 0\n",
    "    for i in elements:\n",
    "        AtxAMU = i['atomicPercent'] * i['atomicWeight']\n",
    "        wt = AtxAMU / totalAtxAMU\n",
    "        OneOnDensity += (wt / i['density'])\n",
    "    alloyDensity = 1. / OneOnDensity\n",
    "    print 'The expected alloy density is', round(alloyDensity, 3), 'g/cm^3'\n",
    "    print\n",
    "    \n",
    "    '''Main loop to computer Wt%, mass of each element, and alloy density\n",
    "    i.e. C1 = C1' * A1 / (C1' * A1 + ... + Cn' * An)'''\n",
    "    OneOnDensity = 0\n",
    "    for i in elements:\n",
    "        AtxAMU = i['atomicPercent'] * i['atomicWeight']\n",
    "        wt = AtxAMU / totalAtxAMU\n",
    "        wt100 = 100 * wt\n",
    "        wtRound = round(wt100, 3)\n",
    "        print i['name'], i['atomicPercent'], 'at% is ', wtRound, 'wt%'\n",
    "\n",
    "        'Alloy weight calcs happen here'\n",
    "        AlloyMass = totalAlloyMass * wt\n",
    "        AlloyMassRound = round(AlloyMass, 3) \n",
    "        print AlloyMassRound, 'grams', i['name'], 'per', totalAlloyMass, 'gram charge'\n",
    "        print "
   ]
  },
  {
   "cell_type": "code",
   "execution_count": 6,
   "metadata": {
    "collapsed": false
   },
   "outputs": [],
   "source": [
    "def MgZnCaMass(MgWt = 42.222, ZnWt = 52.422, CaWt = 5.356):\n",
    "    '''Calculate Wt% of given masses of Mg, Zn, and C\n",
    "    Creates an object array of those Mg, Zn, Ca Wt%\n",
    "    Mass of Mg, Zn, and Ca are inputs\n",
    "    Defaults are the masses for a Mg65Zn30Ca5 At% alloy'''\n",
    "    \n",
    "    'assertion test for invalid inputs'\n",
    "    assert (MgWt and ZnWt and CaWt) > 0.0, 'Wt of elements must be greater than 0'\n",
    "    \n",
    "    'Works out wt% of alloy from componet input masses'\n",
    "    TotalWeight = float(MgWt + ZnWt + CaWt)\n",
    "    MgWtPer = 100 * (MgWt / TotalWeight)\n",
    "    ZnWtPer = 100 * (ZnWt / TotalWeight)\n",
    "    CaWtPer = 100 * (CaWt / TotalWeight)\n",
    "    \n",
    "    return [\n",
    "        {'name': 'Mg', \n",
    "        'WeightPercent': round(MgWtPer, 3), #alloy atomic percent\n",
    "        'atomicWeight': 24.305, #amu\n",
    "        'density': 1.738}, #g/cm3\n",
    "\n",
    "        {'name': 'Zn', \n",
    "        'WeightPercent': round(ZnWtPer, 3), #alloy atomic percent\n",
    "        'atomicWeight': 65.382, #amu\n",
    "        'density': 7.14}, #g/cm3\n",
    "        \n",
    "        {'name': 'Ca', \n",
    "        'WeightPercent': round(CaWtPer, 3), #alloy atomic percent\n",
    "        'atomicWeight': 40.078, #amu\n",
    "        'density': 1.55} #g/cm3\n",
    "    ]"
   ]
  },
  {
   "cell_type": "code",
   "execution_count": 7,
   "metadata": {
    "collapsed": false
   },
   "outputs": [],
   "source": [
    "def WtToAtCalc(Mg = 42.222, Zn = 52.422, Ca = 5.356):\n",
    "    '''Loop to calculate MgZnCa at% of alloy elements from charge Wts\n",
    "    Mg = Wt of Mg, default 65 at%\n",
    "    Zn = Wt of Zn, default 30 at%\n",
    "    Ca = Wt of Ca, default 5 at%'''\n",
    "    \n",
    "    'assertion test for invalid inputs'\n",
    "    assert (Mg and Zn and Ca) > 0.0, 'Wt of elements must be greater than 0'\n",
    "    \n",
    "    'Stores the analysis alloy within the Object Array function'\n",
    "    WtElements = MgZnCaMass(Mg, Zn, Ca)\n",
    "    \n",
    "    '''Loops through to returns alloy name and atomic percent.\n",
    "    AlloyArray creates an array of element name+At% strings\n",
    "    %s%.2f tells it first element a str, second a number of x floats'''\n",
    "    AlloyArray = [\"%s%.3f\" % (i['name'],i['WeightPercent']) for i in WtElements]\n",
    "    'join combines AlloyArray into a single string, seperatred by the Delimiter'\n",
    "    Delimiter = ' '\n",
    "    AlloyWt = Delimiter.join(AlloyArray)\n",
    "    \n",
    "    '''Loop returns expected alloy density\n",
    "    i.e. 1/D = C1/D1 + ... + Cn/Dn\n",
    "    Where Cn = wt%, Dn = density'''\n",
    "    OneOnDensity = 0\n",
    "    for i in WtElements:\n",
    "        OneOnDensity += (i['WeightPercent'] / i['density']) / 100\n",
    "    alloyDensity = 1. / OneOnDensity\n",
    "\n",
    "    print 'For an alloy of', AlloyWt, 'wt%'\n",
    "    print 'The expected alloy density is', round(alloyDensity, 3), 'g/cm^3'\n",
    "    print\n",
    "    \n",
    "    '''Loop to Return Wt% to At% denominator of \n",
    "    total sum of weight percent (wt%) / atomic weight (AMU)\n",
    "    i.e. C1/A1 + C2/A2 + C3/A3\n",
    "    Where Cn = wt%, Cn' = at%, An = atomic weight''' \n",
    "    totalWtOnAMU = 0\n",
    "    for i in WtElements:\n",
    "        totalWtOnAMU += i['WeightPercent'] / i['atomicWeight']\n",
    "\n",
    "    '''Main loop to computer At% of each element\n",
    "    i.e. C1' = C1 / A1 / (C1 / A1 + ... + Cn / An)'''\n",
    "    for i in WtElements:\n",
    "        WtOnAMU = i['WeightPercent'] / i['atomicWeight']\n",
    "        at = WtOnAMU / totalWtOnAMU\n",
    "        at100 = 100 * at\n",
    "        atRound = round(at100, 3)\n",
    "        print i['name'], i['WeightPercent'], 'wt% is ', atRound, 'at%'"
   ]
  },
  {
   "cell_type": "code",
   "execution_count": 8,
   "metadata": {
    "collapsed": false
   },
   "outputs": [
    {
     "name": "stdout",
     "output_type": "stream",
     "text": [
      "For an alloy of Mg65.0 Zn30.0 Ca5.0 at%\n",
      "The expected alloy density is 2.85 g/cm^3\n",
      "\n",
      "Mg 65.0 at% is  42.222 wt%\n",
      "44.334 grams Mg per 105 gram charge\n",
      "\n",
      "Zn 30.0 at% is  52.422 wt%\n",
      "55.043 grams Zn per 105 gram charge\n",
      "\n",
      "Ca 5.0 at% is  5.356 wt%\n",
      "5.623 grams Ca per 105 gram charge\n",
      "\n"
     ]
    }
   ],
   "source": [
    "AtToWtCalc(65, 30, 105)"
   ]
  },
  {
   "cell_type": "code",
   "execution_count": 9,
   "metadata": {
    "collapsed": false
   },
   "outputs": [
    {
     "name": "stdout",
     "output_type": "stream",
     "text": [
      "For an alloy of Mg41.745 Zn52.808 Ca5.447 wt%\n",
      "The expected alloy density is 2.863 g/cm^3\n",
      "\n",
      "Mg 41.745 wt% is  64.542 at%\n",
      "Zn 52.808 wt% is  30.351 at%\n",
      "Ca 5.447 wt% is  5.107 at%\n"
     ]
    }
   ],
   "source": [
    "WtToAtCalc(42.15, 53.32, 5.5)"
   ]
  },
  {
   "cell_type": "code",
   "execution_count": 10,
   "metadata": {
    "collapsed": false
   },
   "outputs": [
    {
     "data": {
      "text/plain": [
       "'Cystalline Mg65Zn30Ca5 forms intermetallics of \\nMg6Zn3Ca2 (T1) = Mg(6/6+3+2)*100, etc. \\nand Mg5Zn13Ca2 (T2) = Mg(5/5+13+2)*100, etc.\\nin a Mg matrix'"
      ]
     },
     "execution_count": 10,
     "metadata": {},
     "output_type": "execute_result"
    }
   ],
   "source": [
    "'''Cystalline Mg65Zn30Ca5 forms intermetallics of \n",
    "Mg6Zn3Ca2 (T1) = Mg(6/6+3+2)*100, etc. \n",
    "and Mg5Zn13Ca2 (T2) = Mg(5/5+13+2)*100, etc.\n",
    "in a Mg matrix'''"
   ]
  },
  {
   "cell_type": "code",
   "execution_count": 11,
   "metadata": {
    "collapsed": false
   },
   "outputs": [
    {
     "name": "stdout",
     "output_type": "stream",
     "text": [
      "T1 Mg6Zn3Ca2\n",
      "For an alloy of Mg54.5 Zn27.3 Ca18.2 at%\n",
      "The expected alloy density is 2.588 g/cm^3\n",
      "\n",
      "Mg 54.545 at% is  34.546 wt%\n",
      "36.273 grams Mg per 105 gram charge\n",
      "\n",
      "Zn 27.273 at% is  46.466 wt%\n",
      "48.789 grams Zn per 105 gram charge\n",
      "\n",
      "Ca 18.182 at% is  18.988 wt%\n",
      "19.938 grams Ca per 105 gram charge\n",
      "\n"
     ]
    }
   ],
   "source": [
    "print 'T1 Mg6Zn3Ca2'\n",
    "AtToWtCalc(6./11*100, 3./11*100, 105)"
   ]
  },
  {
   "cell_type": "code",
   "execution_count": 12,
   "metadata": {
    "collapsed": false
   },
   "outputs": [
    {
     "name": "stdout",
     "output_type": "stream",
     "text": [
      "T2 Mg5Zn13Ca2\n",
      "For an alloy of Mg25.0 Zn65.0 Ca10.0 at%\n",
      "The expected alloy density is 4.37 g/cm^3\n",
      "\n",
      "Mg 25.0 at% is  11.556 wt%\n",
      "12.133 grams Mg per 105 gram charge\n",
      "\n",
      "Zn 65.0 at% is  80.822 wt%\n",
      "84.863 grams Zn per 105 gram charge\n",
      "\n",
      "Ca 10.0 at% is  7.622 wt%\n",
      "8.003 grams Ca per 105 gram charge\n",
      "\n"
     ]
    }
   ],
   "source": [
    "print 'T2 Mg5Zn13Ca2'\n",
    "AtToWtCalc(5./20*100, 13./20*100, 105)"
   ]
  },
  {
   "cell_type": "code",
   "execution_count": null,
   "metadata": {
    "collapsed": true
   },
   "outputs": [],
   "source": []
  }
 ],
 "metadata": {
  "kernelspec": {
   "display_name": "Python 2",
   "language": "python",
   "name": "python2"
  },
  "language_info": {
   "codemirror_mode": {
    "name": "ipython",
    "version": 2
   },
   "file_extension": ".py",
   "mimetype": "text/x-python",
   "name": "python",
   "nbconvert_exporter": "python",
   "pygments_lexer": "ipython2",
   "version": "2.7.8"
  }
 },
 "nbformat": 4,
 "nbformat_minor": 0
}
