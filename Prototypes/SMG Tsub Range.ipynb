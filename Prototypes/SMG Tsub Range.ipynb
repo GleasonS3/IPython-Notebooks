{
 "cells": [
  {
   "cell_type": "code",
   "execution_count": 54,
   "metadata": {
    "collapsed": false
   },
   "outputs": [
    {
     "data": {
      "text/plain": [
       "'Code to plot Tsub range for USG\\nCode by Scott Gleason, University of New South Wales (UNSW), Australia \\nS.Gleason@student.unsw.edu.au, June 2015'"
      ]
     },
     "execution_count": 54,
     "metadata": {},
     "output_type": "execute_result"
    }
   ],
   "source": [
    "'''Code to plot Tsub range for USG\n",
    "Code by Scott Gleason, University of New South Wales (UNSW), Australia \n",
    "S.Gleason@student.unsw.edu.au, June 2015'''"
   ]
  },
  {
   "cell_type": "code",
   "execution_count": 55,
   "metadata": {
    "collapsed": false
   },
   "outputs": [],
   "source": [
    "'''Imports numpy, matplotlib, and glob libaries \n",
    "numpy & matplotlib allow for complex math'''\n",
    "\n",
    "%matplotlib inline\n",
    "'Generates plots inline of the notebook. Commit out if want indivudual files'\n",
    "\n",
    "import numpy as np\n",
    "import matplotlib.pyplot as plt\n",
    "from matplotlib.ticker import AutoMinorLocator #Used for minor axis ticks"
   ]
  },
  {
   "cell_type": "code",
   "execution_count": 56,
   "metadata": {
    "collapsed": false
   },
   "outputs": [],
   "source": [
    "def USGTsub():\n",
    "    '''Plot of idea Tsub range for USG'''\n",
    "\n",
    "    'Define Plot layout, axis lables, legends, etc'\n",
    "    PlotLayout = {'fileName': 'Tsub for USG', # Plot filename \n",
    "                  'title': '', # Title lable\n",
    "                  'titleFontSize': 20, # Title lable font size\n",
    "                  'X-Lable': '$Temperature$', # X axis lable\n",
    "                  'Y-Lable': '$Potential Energy$', # Y axis lable\n",
    "                  'axisFontSize': 25, # X & Y axis lable font size\n",
    "                  'xAxisMax': 80, # upper scale limit for X axis\n",
    "                  'yAxisMax': 100, # upper scale limit for y axis\n",
    "                  'lineWeight': 2.5 # weight of line\n",
    "                  }\n",
    "    \n",
    "    'Add PlotLayout objects to plot'\n",
    "    plt.figure(PlotLayout['fileName'])\n",
    "    plt.title(PlotLayout['title'], fontsize = PlotLayout['titleFontSize'])\n",
    "    plt.xlabel(PlotLayout['X-Lable'], fontsize = PlotLayout['axisFontSize'])\n",
    "    plt.ylabel(PlotLayout['Y-Lable'], fontsize = PlotLayout['axisFontSize'])\n",
    "\n",
    "    '''Add Energy Lines''' \n",
    "    EnergyLine = [\n",
    "        {'x0': 100, 'x1': 40, 'y0': 100, 'y1': 0, \n",
    "         'colour': 'r', 'line': '-', 'label': 'Liquid'},\n",
    "        {'x0': 90, 'x1': 15, 'y0': 65, 'y1': 0,\n",
    "         'colour': 'b', 'line': '--', 'label': 'Glass'}]\n",
    "    \n",
    "    for i in EnergyLine:\n",
    "        plt.plot([i['x0'], i['x1']], [i['y0'], i['y1']],\n",
    "                 color=i['colour'], linestyle=i['line'], \n",
    "                 linewidth=PlotLayout['lineWeight'],\n",
    "                 label=i['label'])\n",
    "        \n",
    "    'Add Tsub Function'\n",
    "    T = np.linspace(0,100,1000) # linearly spaced numbers\n",
    "    PE = T**2 #Tsub\n",
    "     \n",
    "    Tsub = [\n",
    "    {'xAxis': T, 'yAxis': PE, 'colour': 'g', 'line': '-',\n",
    "     'label': '$T_{sub}$'}]\n",
    "        \n",
    "    for i in Tsub:\n",
    "        plt.plot(i['xAxis'], i['yAxis'], \n",
    "                 color=i['colour'], linestyle=i['line'], \n",
    "                 linewidth=PlotLayout['lineWeight'],\n",
    "                 label=i['label'])\n",
    "\n",
    "    'Add annotations to the plot'\n",
    "    PlotAnnotate = [\n",
    "        {'label': '$T_{g}$', 'xPos': 67, 'yPos1': 25, 'yPos2': 55, 'colour': 'k'}]\n",
    "    \n",
    "    for i in PlotAnnotate:\n",
    "        plt.annotate(i['label'], size = 20, xy=(i['xPos'], i['yPos2']),\n",
    "                     xytext=(i['xPos'], i['yPos1']),\n",
    "                     arrowprops=dict(arrowstyle=\"-\", linewidth=1,\n",
    "                                     color=i['colour']),\n",
    "                     horizontalalignment='center')\n",
    "    \n",
    "    'Generates the plot'\n",
    "    plt.axis([0, PlotLayout['xAxisMax'], 0, PlotLayout['yAxisMax']])\n",
    "    ax = plt.subplot(1, 1, 1)\n",
    "    ax.set_xticklabels([]) #Removes xAxis numbers\n",
    "    ax.set_yticklabels([]) #Removes yAxis numbers\n",
    "    plt.legend() #Add legend\n",
    "    plt.show()"
   ]
  },
  {
   "cell_type": "code",
   "execution_count": 57,
   "metadata": {
    "collapsed": false
   },
   "outputs": [
    {
     "data": {
      "image/png": "[encoded data removed]",
      "text/plain": [
       "<matplotlib.figure.Figure at 0xdae7c50>"
      ]
     },
     "metadata": {},
     "output_type": "display_data"
    }
   ],
   "source": [
    "USGTsub()"
   ]
  },
  {
   "cell_type": "code",
   "execution_count": null,
   "metadata": {
    "collapsed": true
   },
   "outputs": [],
   "source": []
  }
 ],
 "metadata": {
  "kernelspec": {
   "display_name": "Python 2",
   "language": "python",
   "name": "python2"
  },
  "language_info": {
   "codemirror_mode": {
    "name": "ipython",
    "version": 2
   },
   "file_extension": ".py",
   "mimetype": "text/x-python",
   "name": "python",
   "nbconvert_exporter": "python",
   "pygments_lexer": "ipython2",
   "version": "2.7.8"
  }
 },
 "nbformat": 4,
 "nbformat_minor": 0
}
