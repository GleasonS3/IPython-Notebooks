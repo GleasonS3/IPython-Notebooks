{
 "cells": [
  {
   "cell_type": "code",
   "execution_count": 1,
   "metadata": {
    "collapsed": false
   },
   "outputs": [
    {
     "data": {
      "text/plain": [
       "'Code to computer tangential velocity from angular velocity\\nCode by Scott Gleason, University of New South Wales (UNSW), Australia \\nS.Gleason@student.unsw.edu.au, June 2015'"
      ]
     },
     "execution_count": 1,
     "metadata": {},
     "output_type": "execute_result"
    }
   ],
   "source": [
    "'''Code to computer tangential velocity from angular velocity\n",
    "Code by Scott Gleason, University of New South Wales (UNSW), Australia \n",
    "S.Gleason@student.unsw.edu.au, June 2015'''"
   ]
  },
  {
   "cell_type": "code",
   "execution_count": 2,
   "metadata": {
    "collapsed": true
   },
   "outputs": [],
   "source": [
    "'''Imports numpy, matplotlib, and glob libaries \n",
    "numpy & matplotlib allow for complex math'''\n",
    "\n",
    "import numpy as np\n",
    "import matplotlib.pyplot as plt"
   ]
  },
  {
   "cell_type": "code",
   "execution_count": 3,
   "metadata": {
    "collapsed": false
   },
   "outputs": [
    {
     "data": {
      "text/plain": [
       "'Tangential velocity to Angular velocity\\nVt = R W\\n\\nWhere Vt = Tangential Velocity, R = Radius, W = Angular Velocity'"
      ]
     },
     "execution_count": 3,
     "metadata": {},
     "output_type": "execute_result"
    }
   ],
   "source": [
    "'''Tangential velocity to Angular velocity\n",
    "Vt = R W\n",
    "\n",
    "Where Vt = Tangential Velocity, R = Radius, W = Angular Velocity'''"
   ]
  },
  {
   "cell_type": "code",
   "execution_count": 4,
   "metadata": {
    "collapsed": true
   },
   "outputs": [],
   "source": [
    "def TanVelocity(RPM = 300., Radius = 100.):\n",
    "    '''Converts Angular Velocity at a given Radius to Tangential Velocity\n",
    "    RPM = Rotations per Minute, default 300 RPM\n",
    "    Radius = Radius of well, default 100 mm'''\n",
    "    \n",
    "    'assertion test for invalid inputs'\n",
    "    assert Radius > 0.0, 'Radius must be a positive value'\n",
    "    assert RPM != 0.0, 'RPM cannot be 0.0'\n",
    "    \n",
    "    RPS = RPM / 60 #R/min * 1 min/60sec = R/sec\n",
    "    Vt = RPS * Radius / 1000 #R/sec * mm * m/1000mm = mR/sec\n",
    "    \n",
    "    print RPM, 'RPM at a Radius of', Radius, 'mm'\n",
    "    print 'Is a Tangential Velocity of'\n",
    "    print Vt, 'm/s'\n",
    "    return Vt"
   ]
  },
  {
   "cell_type": "code",
   "execution_count": 5,
   "metadata": {
    "collapsed": true
   },
   "outputs": [],
   "source": [
    "RWheel = 100. #mm\n",
    "RStage = 40. #mm\n",
    "WWheel = 300. #RPM\n",
    "WStage = 150. #RPM"
   ]
  },
  {
   "cell_type": "code",
   "execution_count": 6,
   "metadata": {
    "collapsed": false
   },
   "outputs": [
    {
     "name": "stdout",
     "output_type": "stream",
     "text": [
      "300.0 RPM at a Radius of 100.0 mm\n",
      "Is a Tangential Velocity of\n",
      "0.5 m/s\n"
     ]
    }
   ],
   "source": [
    "TW = TanVelocity(WWheel, RWheel)"
   ]
  },
  {
   "cell_type": "code",
   "execution_count": 7,
   "metadata": {
    "collapsed": false
   },
   "outputs": [
    {
     "name": "stdout",
     "output_type": "stream",
     "text": [
      "150.0 RPM at a Radius of 40.0 mm\n",
      "Is a Tangential Velocity of\n",
      "0.1 m/s\n"
     ]
    }
   ],
   "source": [
    "TS = TanVelocity(WStage, RStage)"
   ]
  },
  {
   "cell_type": "code",
   "execution_count": 8,
   "metadata": {
    "collapsed": false
   },
   "outputs": [
    {
     "name": "stdout",
     "output_type": "stream",
     "text": [
      "300.0 RPM at a Radius of 20.0 mm\n",
      "Is a Tangential Velocity of\n",
      "0.1 m/s\n"
     ]
    }
   ],
   "source": [
    "TWI = TanVelocity(WWheel, RWheel-2*RStage)"
   ]
  },
  {
   "cell_type": "code",
   "execution_count": 9,
   "metadata": {
    "collapsed": false
   },
   "outputs": [
    {
     "data": {
      "text/plain": [
       "0.4"
      ]
     },
     "execution_count": 9,
     "metadata": {},
     "output_type": "execute_result"
    }
   ],
   "source": [
    "TW - TS"
   ]
  },
  {
   "cell_type": "code",
   "execution_count": 10,
   "metadata": {
    "collapsed": false
   },
   "outputs": [
    {
     "data": {
      "text/plain": [
       "0.2"
      ]
     },
     "execution_count": 10,
     "metadata": {},
     "output_type": "execute_result"
    }
   ],
   "source": [
    "TWI + TS"
   ]
  },
  {
   "cell_type": "code",
   "execution_count": null,
   "metadata": {
    "collapsed": true
   },
   "outputs": [],
   "source": []
  }
 ],
 "metadata": {
  "kernelspec": {
   "display_name": "Python 2",
   "language": "python",
   "name": "python2"
  },
  "language_info": {
   "codemirror_mode": {
    "name": "ipython",
    "version": 2
   },
   "file_extension": ".py",
   "mimetype": "text/x-python",
   "name": "python",
   "nbconvert_exporter": "python",
   "pygments_lexer": "ipython2",
   "version": "2.7.8"
  }
 },
 "nbformat": 4,
 "nbformat_minor": 0
}
