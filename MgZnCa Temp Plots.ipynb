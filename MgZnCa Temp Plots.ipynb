{
 "cells": [
  {
   "cell_type": "code",
   "execution_count": 1,
   "metadata": {
    "collapsed": false
   },
   "outputs": [
    {
     "data": {
      "text/plain": [
       "'Code to plot MgZnCa Temperature Properites from .txt directory\\nCode by Scott Gleason, University of New South Wales (UNSW), Australia \\nS.Gleason@student.unsw.edu.au, June 2015'"
      ]
     },
     "execution_count": 1,
     "metadata": {},
     "output_type": "execute_result"
    }
   ],
   "source": [
    "'''Code to plot MgZnCa Temperature Properites from .txt directory\n",
    "Code by Scott Gleason, University of New South Wales (UNSW), Australia \n",
    "S.Gleason@student.unsw.edu.au, June 2015'''"
   ]
  },
  {
   "cell_type": "code",
   "execution_count": 2,
   "metadata": {
    "collapsed": false
   },
   "outputs": [],
   "source": [
    "'''Imports numpy, matplotlib, and glob libaries \n",
    "numpy & matplotlib allow for complex math\n",
    "glob allows for pattern matching with * and ? wild cards\n",
    "    (note glob's only function is glob (i.e. glob.glob('search critrea')))'''\n",
    "\n",
    "%matplotlib inline\n",
    "'Generates plots inline of the notebook. Commit out if want indivudual files'\n",
    "\n",
    "import numpy as np\n",
    "import matplotlib.pyplot as plt\n",
    "from matplotlib.ticker import AutoMinorLocator #Used for minor axis ticks\n",
    "import glob"
   ]
  },
  {
   "cell_type": "code",
   "execution_count": 3,
   "metadata": {
    "collapsed": false
   },
   "outputs": [
    {
     "name": "stdout",
     "output_type": "stream",
     "text": [
      "C:\\Users\\z3492622\\Documents\\PhD Project\\Results\n"
     ]
    }
   ],
   "source": [
    "cd 'C:\\\\Users\\\\z3492622\\\\Documents\\\\PhD Project\\\\Results'"
   ]
  },
  {
   "cell_type": "code",
   "execution_count": 4,
   "metadata": {
    "collapsed": false
   },
   "outputs": [
    {
     "name": "stdout",
     "output_type": "stream",
     "text": [
      "C:\\Users\\z3492622\\Documents\\PhD Project\\Results\\Modelling\n"
     ]
    }
   ],
   "source": [
    "cd 'Modelling\\\\'"
   ]
  },
  {
   "cell_type": "code",
   "execution_count": 5,
   "metadata": {
    "collapsed": false
   },
   "outputs": [
    {
     "name": "stdout",
     "output_type": "stream",
     "text": [
      "Directory to be anaylised:\n",
      "MgZnCa BMG Properites\n"
     ]
    }
   ],
   "source": [
    "'Directs to directory containing files to be anaylised'\n",
    "\n",
    "Folder = 'MgZnCa BMG Properites'\n",
    "\n",
    "print 'Directory to be anaylised:'\n",
    "print Folder"
   ]
  },
  {
   "cell_type": "code",
   "execution_count": 6,
   "metadata": {
    "collapsed": false
   },
   "outputs": [],
   "source": [
    "def dataFilesRange(FileType, StartFile = 0, EndFile = None):\n",
    "    '''Preforms a glob list of *.filetype within directory\n",
    "    FileType = csv, txt, etc\n",
    "    StartFile = Number of first file to be anaylsis from the glob\n",
    "        Defaulted to 0\n",
    "    EndFile = Number of last file to be anaylsis from the glob\n",
    "        Defaulted to None, as to return last value'''\n",
    "    \n",
    "    'assertion test for the function'\n",
    "    assert StartFile > -1, 'First file must be atleast 0'\n",
    "    if EndFile<>None:\n",
    "        assert EndFile > 0, 'Last file must be atleast 1'\n",
    "\n",
    "    dataFiles = glob.glob(Folder + '\\\\*.'+ FileType)\n",
    "\n",
    "    'set range of files to be analysed'\n",
    "    Range = dataFiles[StartFile:EndFile]\n",
    "\n",
    "    return Range"
   ]
  },
  {
   "cell_type": "code",
   "execution_count": 7,
   "metadata": {
    "collapsed": false
   },
   "outputs": [],
   "source": [
    "def dataArray(filename, Delimiter = ',', StartRow = 1, LastColumn = None):\n",
    "    '''Creates an array from an input file, and defines limits of the array\n",
    "    filename = file to anaylisied\n",
    "    Delimiter = data separator (defaulted to ',' for .csv)\n",
    "    StartRow = row data starts on (defaulted to 1)\n",
    "    LastColumn = column data ends on (defaulted to None)\n",
    "    Note: .txt use 'None' as Delimiter'''\n",
    "    \n",
    "    assert StartRow > 0, 'First row must be atleast 1'\n",
    "    \n",
    "    '''If condition determining the last column of the array\n",
    "    also contains assertion to ensure last column is valid'''\n",
    "    if LastColumn<>None:\n",
    "        assert LastColumn > 0, 'Last column must be atleast 1'\n",
    "        Column = range(0, LastColumn, 1)\n",
    "    else:\n",
    "        Column = None\n",
    "\n",
    "    'Returns array of data, do not edit this string'\n",
    "    return np.loadtxt(filename, delimiter = Delimiter,\n",
    "                      skiprows = StartRow - 1, \n",
    "                      usecols = Column)"
   ]
  },
  {
   "cell_type": "code",
   "execution_count": 8,
   "metadata": {
    "collapsed": false
   },
   "outputs": [],
   "source": [
    "def plotFile(filename, xAxis=1, yAxis=2):\n",
    "    '''Generates a plot of data from a file, and formates chart layout\n",
    "    filename = file to anaylisied\n",
    "    xAxis = Column of X-Axis Data (defaulted to 1st column)\n",
    "    yAxis = Column of Y-Axis Data (defaulted to 2nd column)'''\n",
    "    \n",
    "    'Assertion to ensure x and y axis are valid'\n",
    "    assert xAxis > 0, 'X Axis must be at least 1'\n",
    "    assert yAxis > 0, 'Y Axis must be at least 1'\n",
    "    \n",
    "    'Defines the columns X & Y axis data come from in filename array'\n",
    "    xAxisData = filename[:, xAxis-1]\n",
    "    yAxisData = filename[:, yAxis-1]\n",
    "\n",
    "    'Define Plot layout, axis lables, legends, etc'\n",
    "    PlotLayout = {'fileName': 'MgZnCa Temps', # Plot filename \n",
    "                  'title': '', # Title lable\n",
    "                  'titleFontSize': 20, # Title lable font size\n",
    "                  'X-Lable': '$X$', # X axis lable\n",
    "                  'Y-Lable': '$^{\\circ}C$', # Y axis lable\n",
    "                  'axisFontSize': 16, # X & Y axis lable font size\n",
    "                  'xAxisMax': 20, # upper scale limit for X axis\n",
    "                  'yAxisMax': 500, # upper scale limit for y axis\n",
    "                  'lineColourType': 'k', # line colour and style\n",
    "                  'lineWeight': 1 # weight of line\n",
    "                  }\n",
    "    \n",
    "    'Add PlotLayout objects to plot'\n",
    "    plt.figure(PlotLayout['fileName'])\n",
    "    plt.title(PlotLayout['title'], fontsize = PlotLayout['titleFontSize'])\n",
    "    plt.xlabel(PlotLayout['X-Lable'], fontsize = PlotLayout['axisFontSize'])\n",
    "    plt.ylabel(PlotLayout['Y-Lable'], fontsize = PlotLayout['axisFontSize'])\n",
    "    \n",
    "    'Turns on minor axis ticks'\n",
    "    plt.minorticks_on()\n",
    "    \n",
    "    'Generates the plot'\n",
    "    plt.plot(xAxisData, yAxisData,\n",
    "             PlotLayout['lineColourType'], \n",
    "             linewidth = PlotLayout['lineWeight'])\n",
    "    plt.axis([0, PlotLayout['xAxisMax'], 0, PlotLayout['yAxisMax']])\n",
    "    plt.show()"
   ]
  },
  {
   "cell_type": "code",
   "execution_count": 9,
   "metadata": {
    "collapsed": false
   },
   "outputs": [
    {
     "name": "stdout",
     "output_type": "stream",
     "text": [
      "['MgZnCa BMG Properites\\\\Mg70-XZn24+XCa6.txt', 'MgZnCa BMG Properites\\\\Mg72-XZn24+XCa4.txt', 'MgZnCa BMG Properites\\\\Mg75-XZn20+XCa5.txt']\n"
     ]
    }
   ],
   "source": [
    "filesToPlot = dataFilesRange('txt', 0, None)\n",
    "print filesToPlot"
   ]
  },
  {
   "cell_type": "code",
   "execution_count": 10,
   "metadata": {
    "collapsed": false
   },
   "outputs": [],
   "source": [
    "def PlotFilesLoop():\n",
    "    '''For loop to print dataFileRange\n",
    "    Prints filepath of each *.filetype file anaylisied \n",
    "    Uses dataArray() function to print matrix of each file\n",
    "    Uses dataArray() and plotFile() functions to plot each file'''\n",
    "    \n",
    "    for files in filesToPlot:\n",
    "        print files #Prints files\n",
    "\n",
    "        '''dataArray takes 4 arrguments; filename, Delimiter, StartRow, and LastColumn\n",
    "        Note1: For .csv Delimiter = ',' and for .txt Delimiter = None'''\n",
    "        dataToPlot = dataArray(files, None, 2, None) #Defines data and limits\n",
    "        print dataToPlot #Prints matrix\n",
    "        'plotfile requires the X & Y axis be specified'\n",
    "        plotFile(dataToPlot, 1, 2) #Generates plot"
   ]
  },
  {
   "cell_type": "code",
   "execution_count": 11,
   "metadata": {
    "collapsed": false,
    "scrolled": true
   },
   "outputs": [
    {
     "name": "stdout",
     "output_type": "stream",
     "text": [
      "MgZnCa BMG Properites\\Mg70-XZn24+XCa6.txt\n",
      "[[   0.     120.     141.     352.     442.      21.       0.629    0.55\n",
      "     3.   ]\n",
      " [   2.     128.     151.     336.     406.      23.       0.658    0.591\n",
      "     3.3  ]\n",
      " [   4.     129.     155.     334.     410.      26.       0.662    0.589\n",
      "     2.8  ]\n",
      " [   6.     131.     160.     335.     412.      29.       0.664    0.59\n",
      "     2.7  ]\n",
      " [   8.     138.     169.     338.     424.      31.       0.673    0.59\n",
      "     1.5  ]]\n"
     ]
    },
    {
     "data": {
      "image/png": "[encoded data removed]",
      "text/plain": [
       "<matplotlib.figure.Figure at 0xa492198>"
      ]
     },
     "metadata": {},
     "output_type": "display_data"
    },
    {
     "name": "stdout",
     "output_type": "stream",
     "text": [
      "MgZnCa BMG Properites\\Mg72-XZn24+XCa4.txt\n",
      "[[   0.      84.     115.     335.     420.      31.       0.587    0.515\n",
      "     1.1  ]\n",
      " [   2.      86.     126.     335.     398.      40.       0.59     0.535\n",
      "     2.8  ]\n",
      " [   3.     111.     139.     339.     378.      28.       0.627    0.59\n",
      "     0.   ]\n",
      " [   4.      84.     135.     331.     393.      51.       0.591    0.536\n",
      "     4.   ]\n",
      " [   6.      89.     140.     336.     391.      51.       0.594    0.545\n",
      "     3.5  ]\n",
      " [   8.      89.     142.     335.     436.      53.       0.595    0.511\n",
      "     0.7  ]]\n"
     ]
    },
    {
     "data": {
      "image/png": "[encoded data removed]",
      "text/plain": [
       "<matplotlib.figure.Figure at 0xaa302e8>"
      ]
     },
     "metadata": {},
     "output_type": "display_data"
    },
    {
     "name": "stdout",
     "output_type": "stream",
     "text": [
      "MgZnCa BMG Properites\\Mg75-XZn20+XCa5.txt\n",
      "[[   0.     114.     122.     353.     452.5      8.       0.618    0.533\n",
      "     1.   ]\n",
      " [   5.     124.     136.     351.     398.      12.       0.636    0.592\n",
      "     3.   ]\n",
      " [   7.5    134.     146.     336.     375.      12.       0.668    0.628\n",
      "     4.   ]\n",
      " [   8.     134.5    145.5    333.     374.5     11.       0.672    0.629\n",
      "     4.   ]\n",
      " [  10.     141.5    155.     336.     387.      13.5      0.681    0.628\n",
      "     3.   ]\n",
      " [  15.     169.     174.     336.     432.5      5.       0.726    0.627\n",
      "     2.   ]]\n"
     ]
    },
    {
     "data": {
      "image/png": "[encoded data removed]",
      "text/plain": [
       "<matplotlib.figure.Figure at 0xabe8c88>"
      ]
     },
     "metadata": {},
     "output_type": "display_data"
    }
   ],
   "source": [
    "PlotFilesLoop()"
   ]
  },
  {
   "cell_type": "code",
   "execution_count": null,
   "metadata": {
    "collapsed": true
   },
   "outputs": [],
   "source": []
  }
 ],
 "metadata": {
  "kernelspec": {
   "display_name": "Python 2",
   "language": "python",
   "name": "python2"
  },
  "language_info": {
   "codemirror_mode": {
    "name": "ipython",
    "version": 2
   },
   "file_extension": ".py",
   "mimetype": "text/x-python",
   "name": "python",
   "nbconvert_exporter": "python",
   "pygments_lexer": "ipython2",
   "version": "2.7.8"
  }
 },
 "nbformat": 4,
 "nbformat_minor": 0
}
