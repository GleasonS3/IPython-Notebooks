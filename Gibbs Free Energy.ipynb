{
 "cells": [
  {
   "cell_type": "code",
   "execution_count": 1,
   "metadata": {
    "collapsed": false
   },
   "outputs": [
    {
     "data": {
      "text/plain": [
       "'Code to plot Gibbs Free Energy Schematic Plot\\nCode by Scott Gleason, University of New South Wales (UNSW), Australia \\nS.Gleason@student.unsw.edu.au, May 2015'"
      ]
     },
     "execution_count": 1,
     "metadata": {},
     "output_type": "execute_result"
    }
   ],
   "source": [
    "'''Code to plot Gibbs Free Energy Schematic Plot\n",
    "Code by Scott Gleason, University of New South Wales (UNSW), Australia \n",
    "S.Gleason@student.unsw.edu.au, May 2015'''"
   ]
  },
  {
   "cell_type": "code",
   "execution_count": 2,
   "metadata": {
    "collapsed": false
   },
   "outputs": [],
   "source": [
    "'''Imports numpy, matplotlib, and glob libaries \n",
    "numpy & matplotlib allow for complex math\n",
    "glob allows for pattern matching with * and ? wild cards\n",
    "    (note glob's only function is glob (i.e. glob.glob('search critrea')))'''\n",
    "\n",
    "%matplotlib inline\n",
    "'Generates plots inline of the notebook. Commit out if want indivudual files'\n",
    "\n",
    "import numpy as np\n",
    "import matplotlib.pyplot as plt\n",
    "from matplotlib.ticker import AutoMinorLocator #Used for minor axis ticks\n",
    "import glob"
   ]
  },
  {
   "cell_type": "code",
   "execution_count": 3,
   "metadata": {
    "collapsed": false
   },
   "outputs": [],
   "source": [
    "def plotFile():\n",
    "    '''Generates a plot of data from a file, and formates chart layout\n",
    "    filename = file to anaylisied\n",
    "    xAxis = Column of X-Axis Data (defaulted to 1st column)\n",
    "    yAxis = Column of Y-Axis Data (defaulted to 2nd column)'''\n",
    "\n",
    "    'Define Plot layout, axis lables, legends, etc'\n",
    "    PlotLayout = {'fileName': 'Gibbs Free Energy', # Plot filename \n",
    "                  'title': 'Gibbs Free Energy', # Title lable\n",
    "                  'titleFontSize': 20, # Title lable font size\n",
    "                  'X-Lable': '$Temperature$', # X axis lable\n",
    "                  'Y-Lable': '$G$', # Y axis lable\n",
    "                  'axisFontSize': 16, # X & Y axis lable font size\n",
    "                  'xAxisMax': 100, # upper scale limit for X axis\n",
    "                  'yAxisMax': 100, # upper scale limit for y axis\n",
    "                  'lineWeight': 1 # weight of line\n",
    "                  }\n",
    "    \n",
    "    'Add PlotLayout objects to plot'\n",
    "    plt.figure(PlotLayout['fileName'])\n",
    "    plt.title(PlotLayout['title'], fontsize = PlotLayout['titleFontSize'])\n",
    "    plt.xlabel(PlotLayout['X-Lable'], fontsize = PlotLayout['axisFontSize'])\n",
    "    plt.ylabel(PlotLayout['Y-Lable'], fontsize = PlotLayout['axisFontSize'])\n",
    "    \n",
    "    'Add annotations to the plot'\n",
    "    PlotAnnotate = [\n",
    "        {'label': 'Tm', 'xPos': 50, 'yPos': 90, 'colour': 'k'},\n",
    "        {'label': 'Tg', 'xPos': 16.5, 'yPos': 90, 'colour': 'k'}]\n",
    "    \n",
    "    for i in PlotAnnotate:\n",
    "        plt.annotate(i['label'], xy=(i['xPos'], 0),\n",
    "                     xytext=(i['xPos'], i['yPos']),\n",
    "                     arrowprops=dict(arrowstyle=\"-\", linewidth = 0.75,\n",
    "                                     color=i['colour']),\n",
    "                     horizontalalignment='center')\n",
    "    \n",
    "    'Turns on minor axis ticks'\n",
    "    #plt.minorticks_on()\n",
    "    ax = plt.subplot(1, 1, 1)\n",
    "    ax.xaxis.set_minor_locator(AutoMinorLocator(5))\n",
    "    \n",
    "    'Generates the plot'\n",
    "    plt.plot([0, 100], [90, 10], color='r', linestyle='-', \n",
    "             linewidth=PlotLayout['lineWeight']) #Liquid\n",
    "    plt.plot([0, 100], [70, 30], color='g', linestyle='-',\n",
    "             linewidth=PlotLayout['lineWeight']) #Solid\n",
    "    plt.plot([0, 100], [80, 60], color='b', linestyle='-',\n",
    "             linewidth=PlotLayout['lineWeight']) #Glass\n",
    "    plt.axis([0, PlotLayout['xAxisMax'], 0, PlotLayout['yAxisMax']])\n",
    "    plt.show()"
   ]
  },
  {
   "cell_type": "code",
   "execution_count": 4,
   "metadata": {
    "collapsed": false
   },
   "outputs": [
    {
     "data": {
      "image/png": "[encoded data removed]",
      "text/plain": [
       "<matplotlib.figure.Figure at 0xa4721d0>"
      ]
     },
     "metadata": {},
     "output_type": "display_data"
    }
   ],
   "source": [
    "plotFile()"
   ]
  },
  {
   "cell_type": "code",
   "execution_count": null,
   "metadata": {
    "collapsed": true
   },
   "outputs": [],
   "source": []
  }
 ],
 "metadata": {
  "kernelspec": {
   "display_name": "Python 2",
   "language": "python",
   "name": "python2"
  },
  "language_info": {
   "codemirror_mode": {
    "name": "ipython",
    "version": 2
   },
   "file_extension": ".py",
   "mimetype": "text/x-python",
   "name": "python",
   "nbconvert_exporter": "python",
   "pygments_lexer": "ipython2",
   "version": "2.7.8"
  }
 },
 "nbformat": 4,
 "nbformat_minor": 0
}
