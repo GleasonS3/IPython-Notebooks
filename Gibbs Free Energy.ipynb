{
 "cells": [
  {
   "cell_type": "code",
   "execution_count": 1,
   "metadata": {
    "collapsed": false
   },
   "outputs": [
    {
     "data": {
      "text/plain": [
       "'Code to plot Gibbs Free Energy Schematic Plot\\nCode by Scott Gleason, University of New South Wales (UNSW), Australia \\nS.Gleason@student.unsw.edu.au, May 2015'"
      ]
     },
     "execution_count": 1,
     "metadata": {},
     "output_type": "execute_result"
    }
   ],
   "source": [
    "'''Code to plot Gibbs Free Energy Schematic Plot\n",
    "Code by Scott Gleason, University of New South Wales (UNSW), Australia \n",
    "S.Gleason@student.unsw.edu.au, May 2015'''"
   ]
  },
  {
   "cell_type": "code",
   "execution_count": 2,
   "metadata": {
    "collapsed": false
   },
   "outputs": [],
   "source": [
    "'''Imports numpy, matplotlib, and glob libaries \n",
    "numpy & matplotlib allow for complex math'''\n",
    "\n",
    "'%matplotlib inline'\n",
    "'Generates plots inline of the notebook. Commit out if want indivudual files'\n",
    "\n",
    "import numpy as np\n",
    "import matplotlib.pyplot as plt\n",
    "from matplotlib.ticker import AutoMinorLocator #Used for minor axis ticks"
   ]
  },
  {
   "cell_type": "code",
   "execution_count": 3,
   "metadata": {
    "collapsed": false
   },
   "outputs": [],
   "source": [
    "def plotFile():\n",
    "    '''Generates a plot of data from a file, and formates chart layout\n",
    "    filename = file to anaylisied\n",
    "    xAxis = Column of X-Axis Data (defaulted to 1st column)\n",
    "    yAxis = Column of Y-Axis Data (defaulted to 2nd column)'''\n",
    "\n",
    "    'Define Plot layout, axis lables, legends, etc'\n",
    "    PlotLayout = {'fileName': 'Gibbs Free Energy', # Plot filename \n",
    "                  'title': '', # Title lable\n",
    "                  'titleFontSize': 20, # Title lable font size\n",
    "                  'X-Lable': '$Temperature$', # X axis lable\n",
    "                  'Y-Lable': '$G$', # Y axis lable\n",
    "                  'axisFontSize': 16, # X & Y axis lable font size\n",
    "                  'xAxisMax': 60, # upper scale limit for X axis\n",
    "                  'yAxisMax': 100, # upper scale limit for y axis\n",
    "                  'lineWeight': 1.5 # weight of line\n",
    "                  }\n",
    "    \n",
    "    'Add PlotLayout objects to plot'\n",
    "    plt.figure(PlotLayout['fileName'])\n",
    "    plt.title(PlotLayout['title'], fontsize = PlotLayout['titleFontSize'])\n",
    "    plt.xlabel(PlotLayout['X-Lable'], fontsize = PlotLayout['axisFontSize'])\n",
    "    plt.ylabel(PlotLayout['Y-Lable'], fontsize = PlotLayout['axisFontSize'])\n",
    "\n",
    "    '''Add Free Energy Lines\n",
    "    Note: Weakly bonded structures have greater slopes (large Cp/T dT value)\n",
    "    Assume typical glass bonding Ionic \n",
    "    Assume typical solid bonding Covalent\n",
    "    Covalent > Ionic bond strength. Thus solid slope < glass''' \n",
    "    FreeEnergy = [\n",
    "        {'x0': 0, 'x1': 100, 'y0': 80, 'y1': 0, \n",
    "         'colour': 'r', 'line': '-', 'label': 'Liquid'},\n",
    "        {'x0': 0, 'x1': 100, 'y0': 58, 'y1': 33,\n",
    "         'colour': 'g', 'line': '-', 'label': 'Solid'},\n",
    "        {'x0': 0, 'x1': 100, 'y0': 70, 'y1': 40,\n",
    "         'colour': 'b', 'line': '--', 'label': 'Glass'}]\n",
    "    \n",
    "    for i in FreeEnergy:\n",
    "        plt.plot([i['x0'], i['x1']], [i['y0'], i['y1']],\n",
    "                 color=i['colour'], linestyle=i['line'], \n",
    "                 linewidth=PlotLayout['lineWeight'],\n",
    "                 label=i['label'])\n",
    "\n",
    "    'Add annotations to the plot'\n",
    "    PlotAnnotate = [\n",
    "        {'label': 'Tm', 'xPos': 40, 'yPos': 70, 'colour': 'k'},\n",
    "        {'label': 'Tg', 'xPos': 20, 'yPos': 80, 'colour': 'k'}]\n",
    "    \n",
    "    for i in PlotAnnotate:\n",
    "        plt.annotate(i['label'], xy=(i['xPos'], 10),\n",
    "                     xytext=(i['xPos'], i['yPos']),\n",
    "                     arrowprops=dict(arrowstyle=\"-\", linewidth=0.75,\n",
    "                                     color=i['colour']),\n",
    "                     horizontalalignment='center')\n",
    "    \n",
    "    'Generates the plot'\n",
    "    plt.axis([0, PlotLayout['xAxisMax'], 0, PlotLayout['yAxisMax']])\n",
    "    ax = plt.subplot(1, 1, 1)\n",
    "    ax.set_xticklabels([]) #Removes xAxis numbers\n",
    "    ax.set_yticklabels([]) #Removes yAxis numbers\n",
    "    plt.legend() #Add legend\n",
    "    plt.show()"
   ]
  },
  {
   "cell_type": "code",
   "execution_count": 4,
   "metadata": {
    "collapsed": false
   },
   "outputs": [],
   "source": [
    "plotFile()"
   ]
  },
  {
   "cell_type": "code",
   "execution_count": null,
   "metadata": {
    "collapsed": true
   },
   "outputs": [],
   "source": []
  }
 ],
 "metadata": {
  "kernelspec": {
   "display_name": "Python 2",
   "language": "python",
   "name": "python2"
  },
  "language_info": {
   "codemirror_mode": {
    "name": "ipython",
    "version": 2
   },
   "file_extension": ".py",
   "mimetype": "text/x-python",
   "name": "python",
   "nbconvert_exporter": "python",
   "pygments_lexer": "ipython2",
   "version": "2.7.8"
  }
 },
 "nbformat": 4,
 "nbformat_minor": 0
}
