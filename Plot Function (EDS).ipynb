{
 "metadata": {
  "name": "",
  "signature": "sha256:f7e1ed813569d8e34be186316eee75580f147f16b7cdb5e63749e69ecdd7c240"
 },
 "nbformat": 3,
 "nbformat_minor": 0,
 "worksheets": [
  {
   "cells": [
    {
     "cell_type": "code",
     "collapsed": false,
     "input": [
      "'''Code to plot EDS spectra anaylsis from a master .csv directory\n",
      "Code by Scott Gleason, University of New South Wales (UNSW), Australia \n",
      "S.Gleason@student.unsw.edu.au, April 2015'''"
     ],
     "language": "python",
     "metadata": {},
     "outputs": [
      {
       "metadata": {},
       "output_type": "pyout",
       "prompt_number": 54,
       "text": [
        "'Code to plot EDS spectra anaylsis from a master .csv directory\\nCode by Scott Gleason, University of New South Wales (UNSW), Australia \\nS.Gleason@student.unsw.edu.au, April 2015'"
       ]
      }
     ],
     "prompt_number": 54
    },
    {
     "cell_type": "code",
     "collapsed": false,
     "input": [
      "'''Imports numpy, matplotlib, and glob libaries \n",
      "numpy & matplotlib allow for complex math\n",
      "glob allows for pattern matching with * and ? wild cards\n",
      "    (note glob's only function is glob (i.e. glob.glob('search critrea')))'''\n",
      "\n",
      "import numpy as np\n",
      "import matplotlib.pyplot as plt\n",
      "import glob"
     ],
     "language": "python",
     "metadata": {},
     "outputs": [],
     "prompt_number": 55
    },
    {
     "cell_type": "code",
     "collapsed": false,
     "input": [
      "cd 'C:\\Users\\z3492622\\Documents\\PhD Project\\Results'"
     ],
     "language": "python",
     "metadata": {},
     "outputs": [
      {
       "output_type": "stream",
       "stream": "stdout",
       "text": [
        "C:\\Users\\z3492622\\Documents\\PhD Project\\Results\n"
       ]
      }
     ],
     "prompt_number": 56
    },
    {
     "cell_type": "code",
     "collapsed": false,
     "input": [
      "cd 'SEM\\\\2015-04-04 (T2 3 5)\\EDS Anaylsis'"
     ],
     "language": "python",
     "metadata": {},
     "outputs": [
      {
       "output_type": "stream",
       "stream": "stdout",
       "text": [
        "C:\\Users\\z3492622\\Documents\\PhD Project\\Results\\SEM\\2015-04-04 (T2 3 5)\\EDS Anaylsis\n"
       ]
      }
     ],
     "prompt_number": 57
    },
    {
     "cell_type": "code",
     "collapsed": false,
     "input": [
      "'Directs to directory containing files to be anaylised'\n",
      "\n",
      "Folder = 'Python Code Test'\n",
      "\n",
      "print 'Directory to be anaylised:'\n",
      "print Folder"
     ],
     "language": "python",
     "metadata": {},
     "outputs": [
      {
       "output_type": "stream",
       "stream": "stdout",
       "text": [
        "Directory to be anaylised:\n",
        "Python Code Test\n"
       ]
      }
     ],
     "prompt_number": 58
    },
    {
     "cell_type": "code",
     "collapsed": false,
     "input": [
      "'glob list of *.filetype within directory'\n",
      "\n",
      "dataFiles = glob.glob(Folder + '\\*.csv')\n",
      "\n",
      "'set range of files to be analysed'\n",
      "dataFilesRange = dataFiles[0:2]\n",
      "\n",
      "print 'Files to be analysed:'\n",
      "print dataFilesRange"
     ],
     "language": "python",
     "metadata": {},
     "outputs": [
      {
       "output_type": "stream",
       "stream": "stdout",
       "text": [
        "Files to be analysed:\n",
        "['Python Code Test\\\\TestCodeFile.csv', 'Python Code Test\\\\TestCodeFile2.csv']\n"
       ]
      }
     ],
     "prompt_number": 59
    },
    {
     "cell_type": "code",
     "collapsed": false,
     "input": [
      "def dataArray(filename, StartRow, LastColumn):\n",
      "    '''Creates an array from an input file, and defines limits of the array\n",
      "    filename = file to anaylisied\n",
      "    StartRow = row data starts on\n",
      "    LastColumn = column data ends on'''\n",
      "\n",
      "    'Returns array of data, do not edit this string'\n",
      "    return np.loadtxt(filename, delimiter = ',',\n",
      "                      skiprows = StartRow - 1, \n",
      "                      usecols = range(0, LastColumn, 1))"
     ],
     "language": "python",
     "metadata": {},
     "outputs": [],
     "prompt_number": 60
    },
    {
     "cell_type": "code",
     "collapsed": false,
     "input": [
      "def getColumn(filename, column):\n",
      "    '''Specifes a column within a file\n",
      "    filename = file to anaylisied\n",
      "    column = specified column'''\n",
      "    \n",
      "    '''Returns column from the dataArray() function above\n",
      "    This is done by storing dataArray() as a variable in loop further down'''\n",
      "    return [result[column] for result in dataToPlot]"
     ],
     "language": "python",
     "metadata": {},
     "outputs": [],
     "prompt_number": 61
    },
    {
     "cell_type": "code",
     "collapsed": false,
     "input": [
      "def plotFile(filename, xAxis, yAxis):\n",
      "    '''Generates a plot of data from a file, and formates chart layout\n",
      "    filename = file to anaylisied\n",
      "    xAxis = Column of X-Axis Data\n",
      "    yAxis = Column of Y-Axis Data'''\n",
      "\n",
      "    'Define X & Y axis data to be ploted'\n",
      "    xAxisData = getColumn(filename, xAxis-1)\n",
      "    yAxisData = getColumn(filename, yAxis-1)\n",
      "\n",
      "    'Define Plot layout, axis lables, legends, etc'\n",
      "    PlotLayout = {'fileName': 'Spectra Counts', # Plot filename \n",
      "                  'title': 'Counts/keV', # Title lable\n",
      "                  'titleFontSize': 22, # Title lable font size\n",
      "                  'X-Lable': 'keV', # X axis lable\n",
      "                  'Y-Lable': 'Counts', # Y axis lable\n",
      "                  'axisFontSize': 14, # X & Y axis lable font size\n",
      "                  'xAxisMax': 20, # upper scale limit for X axis\n",
      "                  'yAxisMax': 7000, # upper scale limit for y axis\n",
      "                  'lineColourType': 'r', # line colour and style\n",
      "                  'lineWeight': 1.8 # weight of line\n",
      "                  }\n",
      "    \n",
      "    'Add PlotLayout objects to plot'\n",
      "    plt.figure(PlotLayout['fileName'])\n",
      "    plt.title(PlotLayout['title'], fontsize = PlotLayout['titleFontSize'])\n",
      "    plt.xlabel(PlotLayout['X-Lable'], fontsize = PlotLayout['axisFontSize'])\n",
      "    plt.ylabel(PlotLayout['Y-Lable'], fontsize = PlotLayout['axisFontSize'])\n",
      "\n",
      "    'Generates the plot'\n",
      "    plt.plot(xAxisData, yAxisData,\n",
      "             PlotLayout['lineColourType'], \n",
      "             linewidth = PlotLayout['lineWeight'])\n",
      "    plt.axis([0, PlotLayout['xAxisMax'], 0, PlotLayout['yAxisMax']])\n",
      "    plt.show()"
     ],
     "language": "python",
     "metadata": {},
     "outputs": [],
     "prompt_number": 62
    },
    {
     "cell_type": "code",
     "collapsed": false,
     "input": [
      "'''For loop to print dataFileRange\n",
      "Prints filepath of each .csv file anaylisied \n",
      "Uses dataArray() function to print matrix of each file\n",
      "Uses dataArray() and plotFile() functions to print each file'''\n",
      "\n",
      "for files in dataFilesRange:\n",
      "    print files #Prints fill path\n",
      "    \n",
      "    '''dataArray takes 3 arrguments; filename, StartRow, and LastColumn\n",
      "    The variable dataArray is stored as, MUST match the getColumn Function'''\n",
      "    dataToPlot = dataArray(files, 26, 3) #Defines data and limits\n",
      "    print dataToPlot #Prints matrix\n",
      "    plotFile(dataToPlot, 2, 3) #Generates plot"
     ],
     "language": "python",
     "metadata": {},
     "outputs": [
      {
       "output_type": "stream",
       "stream": "stdout",
       "text": [
        "Python Code Test\\TestCodeFile.csv\n",
        "[[  2.50000000e+01  -3.50000000e-01   2.60000000e+01]\n",
        " [  2.60000000e+01  -3.40000000e-01   2.70000000e+01]\n",
        " [  2.70000000e+01  -3.40000000e-01   2.80000000e+01]\n",
        " ..., \n",
        " [  4.09300000e+03   1.99900000e+01   4.09400000e+03]\n",
        " [  4.09400000e+03   2.00000000e+01   4.09500000e+03]\n",
        " [  4.09500000e+03   2.00000000e+01   4.09600000e+03]]\n",
        "Python Code Test\\TestCodeFile2.csv"
       ]
      },
      {
       "output_type": "stream",
       "stream": "stdout",
       "text": [
        "\n",
        "[[  0.00000000e+00  -4.74997495e-01   0.00000000e+00]\n",
        " [  1.00000000e+00  -4.69996995e-01   0.00000000e+00]\n",
        " [  2.00000000e+00  -4.64996495e-01   0.00000000e+00]\n",
        " ..., \n",
        " [  4.09300000e+03   1.99920490e+01   0.00000000e+00]\n",
        " [  4.09400000e+03   1.99970495e+01   0.00000000e+00]\n",
        " [  4.09500000e+03   2.00020500e+01   0.00000000e+00]]"
       ]
      },
      {
       "output_type": "stream",
       "stream": "stdout",
       "text": [
        "\n"
       ]
      }
     ],
     "prompt_number": 63
    },
    {
     "cell_type": "code",
     "collapsed": false,
     "input": [
      "'''Make plotting loop into a function\n",
      "Make second function to prints all plots in line with name like in SC'''"
     ],
     "language": "python",
     "metadata": {},
     "outputs": [
      {
       "metadata": {},
       "output_type": "pyout",
       "prompt_number": 10,
       "text": [
        "'Make plotting loop into a function\\nMake second function to prints all plots in line with name like in SC'"
       ]
      }
     ],
     "prompt_number": 10
    },
    {
     "cell_type": "code",
     "collapsed": false,
     "input": [
      "'''Make a derivative and intergration of the data,\n",
      "and plot all files in rows of 3 (see SoftwareCap). \n",
      "This is for plotting DCS / SMG data'''"
     ],
     "language": "python",
     "metadata": {},
     "outputs": [
      {
       "metadata": {},
       "output_type": "pyout",
       "prompt_number": 1,
       "text": [
        "'Make a derivative and intergration of the data,\\nand plot all files in rows of 3 (see SoftwareCap). \\nThis is for plotting DCS / SMG data'"
       ]
      }
     ],
     "prompt_number": 1
    },
    {
     "cell_type": "code",
     "collapsed": false,
     "input": [],
     "language": "python",
     "metadata": {},
     "outputs": []
    },
    {
     "cell_type": "code",
     "collapsed": false,
     "input": [],
     "language": "python",
     "metadata": {},
     "outputs": []
    }
   ],
   "metadata": {}
  }
 ]
}