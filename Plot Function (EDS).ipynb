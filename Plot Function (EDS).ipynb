{
 "metadata": {
  "name": "",
  "signature": "sha256:8f2ff63db1b7d86989f30358aa13c70f375f99a4aa360a86828cd637583f681f"
 },
 "nbformat": 3,
 "nbformat_minor": 0,
 "worksheets": [
  {
   "cells": [
    {
     "cell_type": "code",
     "collapsed": false,
     "input": [
      "'''Code to plot EDS spectra anaylsis from a master .csv directory\n",
      "Code by Scott Gleason, University of New South Wales (UNSW), Australia \n",
      "S.Gleason@student.unsw.edu.au, April 2015'''"
     ],
     "language": "python",
     "metadata": {},
     "outputs": [
      {
       "metadata": {},
       "output_type": "pyout",
       "prompt_number": 107,
       "text": [
        "'Code to plot EDS spectra anaylsis from a master .csv directory\\nCode by Scott Gleason, University of New South Wales (UNSW), Australia \\nS.Gleason@student.unsw.edu.au, April 2015'"
       ]
      }
     ],
     "prompt_number": 107
    },
    {
     "cell_type": "code",
     "collapsed": false,
     "input": [
      "'''Imports numpy, matplotlib, and glob libaries \n",
      "numpy & matplotlib allow for complex math\n",
      "glob allows for pattern matching with * and ? wild cards\n",
      "    (note glob's only function is glob (i.e. glob.glob('search critrea')))'''\n",
      "\n",
      "import numpy as np\n",
      "import matplotlib.pyplot as plt\n",
      "import glob"
     ],
     "language": "python",
     "metadata": {},
     "outputs": [],
     "prompt_number": 108
    },
    {
     "cell_type": "code",
     "collapsed": false,
     "input": [
      "'Directs to head and sub directories'\n",
      "\n",
      "HeadFolder = 'C:\\Users\\z3492622\\Documents\\PhD Files\\Lab Work'\n",
      "SubFolder = '\\SEM\\SEM_T1235_070415\\EDS Spectra'"
     ],
     "language": "python",
     "metadata": {},
     "outputs": [],
     "prompt_number": 109
    },
    {
     "cell_type": "code",
     "collapsed": false,
     "input": [
      "'Directs to lower directory containing files to be anaylised'\n",
      "\n",
      "LowerFolder = '\\Python Code Test'\n",
      "\n",
      "'Assembles full directory path'\n",
      "\n",
      "Folder = HeadFolder + SubFolder + LowerFolder"
     ],
     "language": "python",
     "metadata": {},
     "outputs": [],
     "prompt_number": 110
    },
    {
     "cell_type": "code",
     "collapsed": false,
     "input": [
      "'glob list of *.filetype within directory'\n",
      "\n",
      "dataFiles = glob.glob(Folder + '\\*.csv')\n",
      "\n",
      "'set range of files to be analysed'\n",
      "dataFilesRange = dataFiles[0:3]\n",
      "\n",
      "print 'Files to be analysed:'\n",
      "print dataFilesRange"
     ],
     "language": "python",
     "metadata": {},
     "outputs": [
      {
       "output_type": "stream",
       "stream": "stdout",
       "text": [
        "Files to be analysed:\n",
        "['C:\\\\Users\\\\z3492622\\\\Documents\\\\PhD Files\\\\Lab Work\\\\SEM\\\\SEM_T1235_070415\\\\EDS Spectra\\\\Python Code Test\\\\TestCodeFile.csv', 'C:\\\\Users\\\\z3492622\\\\Documents\\\\PhD Files\\\\Lab Work\\\\SEM\\\\SEM_T1235_070415\\\\EDS Spectra\\\\Python Code Test\\\\TestCodeFile2.csv', 'C:\\\\Users\\\\z3492622\\\\Documents\\\\PhD Files\\\\Lab Work\\\\SEM\\\\SEM_T1235_070415\\\\EDS Spectra\\\\Python Code Test\\\\TestCodeFile3.csv']\n"
       ]
      }
     ],
     "prompt_number": 111
    },
    {
     "cell_type": "code",
     "collapsed": false,
     "input": [
      "def dataArray(filename, StartRow, LastColumn):\n",
      "    '''Creates an array of values from a file, and defines limits of the array\n",
      "    filename = file to anaylisied\n",
      "    StartRow = row data starts on\n",
      "    LastColumn = column data ends on'''\n",
      "\n",
      "    'Returns array of data, do not edit this string'\n",
      "    return np.loadtxt(filename, delimiter = ',',\n",
      "                      skiprows = StartRow - 1, \n",
      "                      usecols = range(0, LastColumn, 1))"
     ],
     "language": "python",
     "metadata": {},
     "outputs": [],
     "prompt_number": 112
    },
    {
     "cell_type": "code",
     "collapsed": false,
     "input": [
      "def getColumn(filename, column):\n",
      "    '''Specifes a column within a file\n",
      "    filename = file to anaylisied\n",
      "    column = specified column'''\n",
      "    \n",
      "    '''Returns column from the dataArray() function above\n",
      "    This is done by storing it as a variable in loop further down'''\n",
      "    return [result[column] for result in dataToPlot]"
     ],
     "language": "python",
     "metadata": {},
     "outputs": [],
     "prompt_number": 113
    },
    {
     "cell_type": "code",
     "collapsed": false,
     "input": [
      "def plotFile(filename):\n",
      "    '''Generates a plot of data from a file, and formates chart layout\n",
      "    filename = file to anaylisied'''\n",
      "\n",
      "    'Define X & Y axis data to be ploted'\n",
      "    xAxisData = getColumn(filename, 1)\n",
      "    yAxisData = getColumn(filename, 2)\n",
      "\n",
      "    'Define Plot layout, axis lables, legends, etc'\n",
      "    plt.figure(\"Spectra Counts\")\n",
      "    plt.title(\"Counts/keV\", fontsize = 22)\n",
      "    AxisFontSize = 14\n",
      "    plt.xlabel(\"keV\", fontsize = AxisFontSize)\n",
      "    plt.ylabel(\"Counts\", fontsize = AxisFontSize)\n",
      "    LineColourType = 'r'\n",
      "\n",
      "    'Sets axis upper limits'\n",
      "    xMax = 20\n",
      "    yMax = 7000\n",
      "\n",
      "    'Generates the plot'\n",
      "    plt.plot(xAxisData, yAxisData, LineColourType, linewidth = 1.8)\n",
      "    plt.axis([0, xMax, 0, yMax])\n",
      "    plt.show()"
     ],
     "language": "python",
     "metadata": {},
     "outputs": [],
     "prompt_number": 114
    },
    {
     "cell_type": "code",
     "collapsed": false,
     "input": [
      "'''For loop to print dataFileAna\n",
      "Prints filepath of each file anaylisied\n",
      "Uses dataArray() and plotFile() functions to print each csv file'''\n",
      "\n",
      "for files in dataFilesAna:\n",
      "    print files\n",
      "    \n",
      "    '''dataArray takes 3 arrguments, filename, start row, and end column\n",
      "    The variable dataArray is stored as MUST match the getColumn Function'''\n",
      "    dataToPlot = dataArray(files, 26, 3)\n",
      "    plotFile(dataToPlot)"
     ],
     "language": "python",
     "metadata": {},
     "outputs": [
      {
       "output_type": "stream",
       "stream": "stdout",
       "text": [
        "C:\\Users\\z3492622\\Documents\\PhD Files\\Lab Work\\SEM\\SEM_T1235_070415\\EDS Spectra\\Python Code Test\\TestCodeFile.csv\n",
        "C:\\Users\\z3492622\\Documents\\PhD Files\\Lab Work\\SEM\\SEM_T1235_070415\\EDS Spectra\\Python Code Test\\TestCodeFile2.csv"
       ]
      },
      {
       "output_type": "stream",
       "stream": "stdout",
       "text": [
        "\n",
        "C:\\Users\\z3492622\\Documents\\PhD Files\\Lab Work\\SEM\\SEM_T1235_070415\\EDS Spectra\\Python Code Test\\TestCodeFile3.csv"
       ]
      },
      {
       "output_type": "stream",
       "stream": "stdout",
       "text": [
        "\n"
       ]
      }
     ],
     "prompt_number": 115
    },
    {
     "cell_type": "code",
     "collapsed": false,
     "input": [
      "'''make two plotting functions, one as is above\n",
      "the other for printing with name like in the SC examples\n",
      "\n",
      "Can probably print Matrix data check with a similar loop'''"
     ],
     "language": "python",
     "metadata": {},
     "outputs": [
      {
       "metadata": {},
       "output_type": "pyout",
       "prompt_number": 77,
       "text": [
        "'make two plotting functions, one as is above\\nthe other for printing with name like in the SC examples\\n\\nCan probably print Matrix data check with a similar loop'"
       ]
      }
     ],
     "prompt_number": 77
    },
    {
     "cell_type": "code",
     "collapsed": false,
     "input": [],
     "language": "python",
     "metadata": {},
     "outputs": []
    }
   ],
   "metadata": {}
  }
 ]
}