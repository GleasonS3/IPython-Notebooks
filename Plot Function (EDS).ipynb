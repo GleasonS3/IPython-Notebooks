{
 "cells": [
  {
   "cell_type": "code",
   "execution_count": 1,
   "metadata": {
    "collapsed": false
   },
   "outputs": [
    {
     "data": {
      "text/plain": [
       "'Future Devlopment - Make a derivative and intergration of the dataMatrix,\\nand plot all 3 Matrixs in a row for each file (see SoftwareCap). \\nThis will be for plotting DSC / SMG data'"
      ]
     },
     "execution_count": 1,
     "metadata": {},
     "output_type": "execute_result"
    }
   ],
   "source": [
    "'''Code to plot EDS spectra anaylsis from a master .csv or .txt directory\n",
    "Code by Scott Gleason, University of New South Wales (UNSW), Australia \n",
    "S.Gleason@student.unsw.edu.au, April 2015'''\n",
    "\n",
    "'''Future Devlopment - Make a derivative and intergration of the dataMatrix,\n",
    "and plot all 3 Matrixs in a row for each file (see SoftwareCap). \n",
    "This will be for plotting DSC / SMG data'''"
   ]
  },
  {
   "cell_type": "code",
   "execution_count": 2,
   "metadata": {
    "collapsed": false
   },
   "outputs": [],
   "source": [
    "'''Imports numpy, matplotlib, and glob libaries \n",
    "numpy & matplotlib allow for complex math\n",
    "glob allows for pattern matching with * and ? wild cards\n",
    "    (note glob's only function is glob (i.e. glob.glob('search critrea')))'''\n",
    "\n",
    "%matplotlib inline\n",
    "'Generates plots inline of the notebook. Commit out if want indivudual files'\n",
    "\n",
    "import numpy as np\n",
    "import matplotlib.pyplot as plt\n",
    "import glob"
   ]
  },
  {
   "cell_type": "code",
   "execution_count": 3,
   "metadata": {
    "collapsed": false
   },
   "outputs": [
    {
     "name": "stdout",
     "output_type": "stream",
     "text": [
      "C:\\Users\\z3492622\\Documents\\PhD Project\\Results\n"
     ]
    }
   ],
   "source": [
    "cd 'C:\\Users\\z3492622\\Documents\\PhD Project\\Results'"
   ]
  },
  {
   "cell_type": "code",
   "execution_count": 4,
   "metadata": {
    "collapsed": false
   },
   "outputs": [
    {
     "name": "stdout",
     "output_type": "stream",
     "text": [
      "C:\\Users\\z3492622\\Documents\\PhD Project\\Results\\SEM\\2015-04-04 (T2 3 5)\\EDS Anaylsis\n"
     ]
    }
   ],
   "source": [
    "cd 'SEM\\\\2015-04-04 (T2 3 5)\\EDS Anaylsis'"
   ]
  },
  {
   "cell_type": "code",
   "execution_count": 5,
   "metadata": {
    "collapsed": false
   },
   "outputs": [
    {
     "name": "stdout",
     "output_type": "stream",
     "text": [
      "Directory to be anaylised:\n",
      "Python Code Test\n"
     ]
    }
   ],
   "source": [
    "'Directs to directory containing files to be anaylised'\n",
    "\n",
    "Folder = 'Python Code Test'\n",
    "\n",
    "print 'Directory to be anaylised:'\n",
    "print Folder"
   ]
  },
  {
   "cell_type": "code",
   "execution_count": 6,
   "metadata": {
    "collapsed": false
   },
   "outputs": [],
   "source": [
    "def dataFilesRange(FileType, StartFile=0, EndFile=None):\n",
    "    '''Preforms a glob list of *.filetype within directory\n",
    "    FileType = csv, txt, etc\n",
    "    StartFile = Number of first file to be anaylsis from the glob\n",
    "        Defaulted to 0\n",
    "    EndFile = Number of last file to be anaylsis from the glob\n",
    "        Defaulted to None, as to return last value'''\n",
    "    \n",
    "    'assertion test for the function'\n",
    "    assert StartFile > -1, 'First file must be atleast 0'\n",
    "    if EndFile<>None:\n",
    "        assert EndFile > 0, 'Last file must be atleast 1'\n",
    "\n",
    "    dataFiles = glob.glob(Folder + '\\*.'+ FileType)\n",
    "\n",
    "    'set range of files to be analysed'\n",
    "    Range = dataFiles[StartFile:EndFile]\n",
    "\n",
    "    return Range"
   ]
  },
  {
   "cell_type": "code",
   "execution_count": 7,
   "metadata": {
    "collapsed": false
   },
   "outputs": [],
   "source": [
    "def dataArray(filename, Delimiter=',', StartRow=1, LastColumn=None):\n",
    "    '''Creates an array from an input file, and defines limits of the array\n",
    "    filename = file to anaylisied\n",
    "    Delimiter = data separator (defaulted to ',' for .csv)\n",
    "    StartRow = row data starts on (defaulted to 1)\n",
    "    LastColumn = column data ends on (defaulted to None)\n",
    "    Note: .txt use 'None' as Delimiter'''\n",
    "    \n",
    "    assert StartRow > 0, 'First row must be atleast 1'\n",
    "    \n",
    "    '''If condition determining the last column of the array\n",
    "    also contains assertion to ensure last column is valid'''\n",
    "    if LastColumn<>None:\n",
    "        Column = range(0, LastColumn, 1)\n",
    "        assert LastColumn > 0, 'Last column must be atleast 1'\n",
    "    else:\n",
    "        Column = None\n",
    "\n",
    "    'Returns array of data, do not edit this string'\n",
    "    return np.loadtxt(filename, delimiter = Delimiter,\n",
    "                      skiprows = StartRow - 1, \n",
    "                      usecols = Column)"
   ]
  },
  {
   "cell_type": "code",
   "execution_count": 8,
   "metadata": {
    "collapsed": false
   },
   "outputs": [],
   "source": [
    "def getColumn(filename, column):\n",
    "    '''Specifes a column within a file\n",
    "    filename = file to anaylisied\n",
    "    column = specified column'''\n",
    "    \n",
    "    '''Returns column from the dataArray() function above\n",
    "    This is done by storing dataArray() as a variable in loop further down'''\n",
    "    return [result[column] for result in dataToPlot]"
   ]
  },
  {
   "cell_type": "code",
   "execution_count": 9,
   "metadata": {
    "collapsed": false
   },
   "outputs": [],
   "source": [
    "def plotFile(filename, xAxis=1, yAxis=2):\n",
    "    '''Generates a plot of data from a file, and formates chart layout\n",
    "    filename = file to anaylisied\n",
    "    xAxis = Column of X-Axis Data (defaulted to 1st column)\n",
    "    yAxis = Column of Y-Axis Data (defaulted to 2nd column)'''\n",
    "    \n",
    "    'Assertion to ensure x and y axis are valid'\n",
    "    assert xAxis > 0, 'X Axis must be at least 1'\n",
    "    assert yAxis > 0, 'Y Axis must be at least 1'\n",
    "    \n",
    "    'Define X & Y axis data to be ploted'\n",
    "    xAxisData = getColumn(filename, xAxis-1)\n",
    "    yAxisData = getColumn(filename, yAxis-1)\n",
    "\n",
    "    'Define Plot layout, axis lables, legends, etc'\n",
    "    PlotLayout = {'fileName': 'Spectra Counts', # Plot filename \n",
    "                  'title': 'Counts/keV', # Title lable\n",
    "                  'titleFontSize': 22, # Title lable font size\n",
    "                  'X-Lable': 'keV', # X axis lable\n",
    "                  'Y-Lable': 'Counts', # Y axis lable\n",
    "                  'axisFontSize': 14, # X & Y axis lable font size\n",
    "                  'xAxisMax': 20, # upper scale limit for X axis\n",
    "                  'yAxisMax': 7000, # upper scale limit for y axis\n",
    "                  'lineColourType': 'r', # line colour and style\n",
    "                  'lineWeight': 1.8 # weight of line\n",
    "                  }\n",
    "    \n",
    "    'Add PlotLayout objects to plot'\n",
    "    plt.figure(PlotLayout['fileName'])\n",
    "    plt.title(PlotLayout['title'], fontsize = PlotLayout['titleFontSize'])\n",
    "    plt.xlabel(PlotLayout['X-Lable'], fontsize = PlotLayout['axisFontSize'])\n",
    "    plt.ylabel(PlotLayout['Y-Lable'], fontsize = PlotLayout['axisFontSize'])\n",
    "\n",
    "    'Generates the plot'\n",
    "    plt.plot(xAxisData, yAxisData,\n",
    "             PlotLayout['lineColourType'], \n",
    "             linewidth = PlotLayout['lineWeight'])\n",
    "    plt.axis([0, PlotLayout['xAxisMax'], 0, PlotLayout['yAxisMax']])\n",
    "    plt.show()"
   ]
  },
  {
   "cell_type": "code",
   "execution_count": 10,
   "metadata": {
    "collapsed": false
   },
   "outputs": [
    {
     "name": "stdout",
     "output_type": "stream",
     "text": [
      "['Python Code Test\\\\T2_F1.txt']\n"
     ]
    }
   ],
   "source": [
    "filesToPlot = dataFilesRange('txt', 0, 2)\n",
    "print filesToPlot"
   ]
  },
  {
   "cell_type": "code",
   "execution_count": 11,
   "metadata": {
    "collapsed": false
   },
   "outputs": [
    {
     "name": "stdout",
     "output_type": "stream",
     "text": [
      "Python Code Test\\T2_F1.txt\n",
      "[[  0.00000000e+00  -4.76102385e-01   0.00000000e+00]\n",
      " [  1.00000000e+00  -4.71102885e-01   0.00000000e+00]\n",
      " [  2.00000000e+00  -4.66103385e-01   0.00000000e+00]\n",
      " ..., \n",
      " [  4.09300000e+03   1.99868511e+01   0.00000000e+00]\n",
      " [  4.09400000e+03   1.99918506e+01   0.00000000e+00]\n",
      " [  4.09500000e+03   1.99968501e+01   0.00000000e+00]]\n"
     ]
    },
    {
     "data": {
      "image/png": "[encoded data removed]",
      "text/plain": [
       "<matplotlib.figure.Figure at 0x4160a20>"
      ]
     },
     "metadata": {},
     "output_type": "display_data"
    }
   ],
   "source": [
    "'''For loop to print dataFileRange\n",
    "Prints filepath of each *.filetype file anaylisied \n",
    "Uses dataArray() function to print matrix of each file\n",
    "Uses dataArray() and plotFile() functions to print each file'''\n",
    "\n",
    "for files in filesToPlot:\n",
    "    print files #Prints files\n",
    "    \n",
    "    '''dataArray takes 4 arrguments; filename, Delimiter, StartRow, and LastColumn\n",
    "    Note1: For .csv Delimiter = ',' and for .txt Delimiter = None\n",
    "    Note2: The variable dataArray is stored as MUST match the getColumn Function'''\n",
    "    dataToPlot = dataArray(files, None, 26, 3) #Defines data and limits\n",
    "    print dataToPlot #Prints matrix\n",
    "    plotFile(dataToPlot, 2, 3) #Generates plot"
   ]
  },
  {
   "cell_type": "code",
   "execution_count": null,
   "metadata": {
    "collapsed": false
   },
   "outputs": [],
   "source": []
  }
 ],
 "metadata": {
  "kernelspec": {
   "display_name": "Python 2",
   "language": "python",
   "name": "python2"
  },
  "language_info": {
   "codemirror_mode": {
    "name": "ipython",
    "version": 2
   },
   "file_extension": ".py",
   "mimetype": "text/x-python",
   "name": "python",
   "nbconvert_exporter": "python",
   "pygments_lexer": "ipython2",
   "version": "2.7.8"
  }
 },
 "nbformat": 4,
 "nbformat_minor": 0
}
