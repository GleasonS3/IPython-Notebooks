{
 "metadata": {
  "name": "",
  "signature": "sha256:0f1fa201f22b3a5653fa25e6037433cf98303336e12b4828ebb937958777e564"
 },
 "nbformat": 3,
 "nbformat_minor": 0,
 "worksheets": [
  {
   "cells": [
    {
     "cell_type": "code",
     "collapsed": false,
     "input": [
      "'''Code to plot an EDS spectra anaylsis from a master csv file\n",
      "Code by Scott Gleason, University of New South Wales (UNSW), Australia \n",
      "S.Gleason@student.unsw.edu.au, April 2015'''"
     ],
     "language": "python",
     "metadata": {},
     "outputs": [
      {
       "metadata": {},
       "output_type": "pyout",
       "prompt_number": 1,
       "text": [
        "'Code to plot an EDS spectra anaylsis from a master csv file\\nCode by Scott Gleason, University of New South Wales (UNSW), Australia \\nS.Gleason@student.unsw.edu.au, April 2015'"
       ]
      }
     ],
     "prompt_number": 1
    },
    {
     "cell_type": "code",
     "collapsed": false,
     "input": [
      "'''Imports numpy, matplotlib, and glob libaries \n",
      "numpy & matplotlib allow for complex math\n",
      "glob is for pattern matching with * and ? wild cards\n",
      "(note glob is only function (i.e. glob.glob('search critrea')))'''\n",
      "\n",
      "import numpy as np\n",
      "import matplotlib.pyplot as plt\n",
      "import glob"
     ],
     "language": "python",
     "metadata": {},
     "outputs": [],
     "prompt_number": 2
    },
    {
     "cell_type": "code",
     "collapsed": false,
     "input": [
      "'Directs to head and sub directories'\n",
      "\n",
      "HeadFolder = 'C:\\Users\\z3492622\\Documents\\PhD Files\\Lab Work'\n",
      "SubFolder = '\\SEM\\SEM_T1235_070415\\EDS Spectra'"
     ],
     "language": "python",
     "metadata": {},
     "outputs": [],
     "prompt_number": 3
    },
    {
     "cell_type": "code",
     "collapsed": false,
     "input": [
      "'Directs to lower directory containing files to be anaylised'\n",
      "\n",
      "MainFolder = '\\Python Code Test'\n",
      "\n",
      "'Assembles full directory path'\n",
      "\n",
      "Folder = HeadFolder + SubFolder + MainFolder"
     ],
     "language": "python",
     "metadata": {},
     "outputs": [],
     "prompt_number": 4
    },
    {
     "cell_type": "code",
     "collapsed": false,
     "input": [
      "'glob list of *.filetype within directory'\n",
      "\n",
      "dataFiles = glob.glob(Folder + '\\*.csv')\n",
      "\n",
      "'set range of files to be analysed'\n",
      "dataFilesAna = dataFiles[0:3]\n",
      "\n",
      "print 'Files to be analysed:'\n",
      "print dataFilesAna"
     ],
     "language": "python",
     "metadata": {},
     "outputs": [
      {
       "output_type": "stream",
       "stream": "stdout",
       "text": [
        "Files to be analysed:\n",
        "['C:\\\\Users\\\\z3492622\\\\Documents\\\\PhD Files\\\\Lab Work\\\\SEM\\\\SEM_T1235_070415\\\\EDS Spectra\\\\Python Code Test\\\\TestCodeFile.csv', 'C:\\\\Users\\\\z3492622\\\\Documents\\\\PhD Files\\\\Lab Work\\\\SEM\\\\SEM_T1235_070415\\\\EDS Spectra\\\\Python Code Test\\\\TestCodeFile2.csv', 'C:\\\\Users\\\\z3492622\\\\Documents\\\\PhD Files\\\\Lab Work\\\\SEM\\\\SEM_T1235_070415\\\\EDS Spectra\\\\Python Code Test\\\\TestCodeFile3.csv']\n"
       ]
      }
     ],
     "prompt_number": 5
    },
    {
     "cell_type": "code",
     "collapsed": false,
     "input": [
      "def dataArray(Fname):\n",
      "    '''Loads full file path as a variable into numpy,\n",
      "    store as an array and prints it (as a check)'''\n",
      "\n",
      "    '''Define array limits\n",
      "    StartRow = row data starts on\n",
      "    LastColumn = column data ends on'''\n",
      "    StartRow = 26\n",
      "    LastColumn = 3\n",
      "\n",
      "    'Returns array of data, should not have to edit this string'\n",
      "    return np.loadtxt(Fname, delimiter = ',',\n",
      "                      skiprows = StartRow - 1, usecols = range(0, LastColumn, 1))"
     ],
     "language": "python",
     "metadata": {},
     "outputs": [],
     "prompt_number": 6
    },
    {
     "cell_type": "code",
     "collapsed": false,
     "input": [
      "def getColumn(filename, column):\n",
      "    '''Direct code to specific columns within data\n",
      "    Argument are the filename, and column'''\n",
      "    \n",
      "    data #This the array of the filename variable defined above'\n",
      "    return [result[column] for result in data]"
     ],
     "language": "python",
     "metadata": {},
     "outputs": [],
     "prompt_number": 7
    },
    {
     "cell_type": "code",
     "collapsed": false,
     "input": [
      "def plotFile(filename):\n",
      "    'Generates plot of a file, and formates chart layout'\n",
      "\n",
      "    'Define X & Y axis data to be ploted'\n",
      "    xAxisData = getColumn(filename, 1)\n",
      "    yAxisData = getColumn(filename, 2)\n",
      "\n",
      "    'Define Plot layout, axis lables, legends, etc'\n",
      "    plt.figure(\"Counts/keV\")\n",
      "    plt.title(\"Counts/keV\", fontsize = 22)\n",
      "    AxisFontSize = 14\n",
      "    plt.xlabel(\"keV\", fontsize = AxisFontSize)\n",
      "    plt.ylabel(\"Counts\", fontsize = AxisFontSize)\n",
      "    LineType = 'r'\n",
      "\n",
      "    'Sets axis upper limit'\n",
      "    xMax = 20\n",
      "    yMax = 7000\n",
      "\n",
      "    'Generates plot'\n",
      "    plt.plot(xAxisData, yAxisData, LineType, linewidth = 1.8)\n",
      "    plt.axis([0, xMax, 0, yMax])\n",
      "    plt.show()"
     ],
     "language": "python",
     "metadata": {},
     "outputs": [],
     "prompt_number": 8
    },
    {
     "cell_type": "code",
     "collapsed": false,
     "input": [
      "'''For loop to print all dataFileAna \n",
      "Code is working, but not pretty. Re-do Lesson 4 and 6 and try again'''\n",
      "\n",
      "for files in dataFilesAna:\n",
      "    print files\n",
      "    \n",
      "    data = dataArray(files)\n",
      "    plotFile(data)"
     ],
     "language": "python",
     "metadata": {},
     "outputs": [
      {
       "output_type": "stream",
       "stream": "stdout",
       "text": [
        "C:\\Users\\z3492622\\Documents\\PhD Files\\Lab Work\\SEM\\SEM_T1235_070415\\EDS Spectra\\Python Code Test\\TestCodeFile.csv\n",
        "C:\\Users\\z3492622\\Documents\\PhD Files\\Lab Work\\SEM\\SEM_T1235_070415\\EDS Spectra\\Python Code Test\\TestCodeFile2.csv"
       ]
      },
      {
       "output_type": "stream",
       "stream": "stdout",
       "text": [
        "\n",
        "C:\\Users\\z3492622\\Documents\\PhD Files\\Lab Work\\SEM\\SEM_T1235_070415\\EDS Spectra\\Python Code Test\\TestCodeFile3.csv"
       ]
      },
      {
       "output_type": "stream",
       "stream": "stdout",
       "text": [
        "\n"
       ]
      }
     ],
     "prompt_number": 12
    },
    {
     "cell_type": "code",
     "collapsed": false,
     "input": [],
     "language": "python",
     "metadata": {},
     "outputs": []
    }
   ],
   "metadata": {}
  }
 ]
}