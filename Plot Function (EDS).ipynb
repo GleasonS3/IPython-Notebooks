{
 "metadata": {
  "name": "",
  "signature": "sha256:3f2e1d6beba43478558e0173bdf4aea81ac897d02066f4e0f9ff691d273ca165"
 },
 "nbformat": 3,
 "nbformat_minor": 0,
 "worksheets": [
  {
   "cells": [
    {
     "cell_type": "code",
     "collapsed": false,
     "input": [
      "'''Code to plot EDS spectra anaylsis from a master .csv directory\n",
      "Code by Scott Gleason, University of New South Wales (UNSW), Australia \n",
      "S.Gleason@student.unsw.edu.au, April 2015'''"
     ],
     "language": "python",
     "metadata": {},
     "outputs": [
      {
       "metadata": {},
       "output_type": "pyout",
       "prompt_number": 14,
       "text": [
        "'Code to plot EDS spectra anaylsis from a master .csv directory\\nCode by Scott Gleason, University of New South Wales (UNSW), Australia \\nS.Gleason@student.unsw.edu.au, April 2015'"
       ]
      }
     ],
     "prompt_number": 14
    },
    {
     "cell_type": "code",
     "collapsed": false,
     "input": [
      "'''Imports numpy, matplotlib, and glob libaries \n",
      "numpy & matplotlib allow for complex math\n",
      "glob allows for pattern matching with * and ? wild cards\n",
      "    (note glob's only function is glob (i.e. glob.glob('search critrea')))'''\n",
      "\n",
      "import numpy as np\n",
      "import matplotlib.pyplot as plt\n",
      "import glob"
     ],
     "language": "python",
     "metadata": {},
     "outputs": [],
     "prompt_number": 15
    },
    {
     "cell_type": "code",
     "collapsed": false,
     "input": [
      "'Directs to head and sub directories'\n",
      "\n",
      "HeadFolder = 'C:\\Users\\z3492622\\Documents\\PhD Project\\Results'\n",
      "SubFolder = '\\SEM\\2015-04-04 [T2 3 5]\\EDS Anaylsis'"
     ],
     "language": "python",
     "metadata": {},
     "outputs": [],
     "prompt_number": 16
    },
    {
     "cell_type": "code",
     "collapsed": false,
     "input": [
      "'Directs to lower directory containing files to be anaylised'\n",
      "\n",
      "LowerFolder = '\\Python Code Test'\n",
      "\n",
      "'Assembles full directory path'\n",
      "\n",
      "Folder = HeadFolder + SubFolder + LowerFolder\n",
      "print Folder"
     ],
     "language": "python",
     "metadata": {},
     "outputs": [
      {
       "output_type": "stream",
       "stream": "stdout",
       "text": [
        "C:\\Users\\z3492622\\Documents\\PhD Project\\Results\\SEM\ufffd5-04-04 [T2 3 5]\\EDS Anaylsis\\Python Code Test\n"
       ]
      }
     ],
     "prompt_number": 17
    },
    {
     "cell_type": "code",
     "collapsed": false,
     "input": [
      "'glob list of *.filetype within directory'\n",
      "\n",
      "dataFiles = glob.glob(Folder + '\\*.csv')\n",
      "\n",
      "'set range of files to be analysed'\n",
      "dataFilesRange = dataFiles[0:2]\n",
      "\n",
      "print 'Files to be analysed:'\n",
      "print dataFilesRange"
     ],
     "language": "python",
     "metadata": {},
     "outputs": [
      {
       "output_type": "stream",
       "stream": "stdout",
       "text": [
        "Files to be analysed:\n",
        "[]\n"
       ]
      }
     ],
     "prompt_number": 18
    },
    {
     "cell_type": "code",
     "collapsed": false,
     "input": [
      "def dataArray(filename, StartRow, LastColumn):\n",
      "    '''Creates an array from an input file, and defines limits of the array\n",
      "    filename = file to anaylisied\n",
      "    StartRow = row data starts on\n",
      "    LastColumn = column data ends on'''\n",
      "\n",
      "    'Returns array of data, do not edit this string'\n",
      "    return np.loadtxt(filename, delimiter = ',',\n",
      "                      skiprows = StartRow - 1, \n",
      "                      usecols = range(0, LastColumn, 1))"
     ],
     "language": "python",
     "metadata": {},
     "outputs": [],
     "prompt_number": 19
    },
    {
     "cell_type": "code",
     "collapsed": false,
     "input": [
      "def getColumn(filename, column):\n",
      "    '''Specifes a column within a file\n",
      "    filename = file to anaylisied\n",
      "    column = specified column'''\n",
      "    \n",
      "    '''Returns column from the dataArray() function above\n",
      "    This is done by storing dataArray() as a variable in loop further down'''\n",
      "    return [result[column] for result in dataToPlot]"
     ],
     "language": "python",
     "metadata": {},
     "outputs": [],
     "prompt_number": 20
    },
    {
     "cell_type": "code",
     "collapsed": false,
     "input": [
      "def plotFile(filename):\n",
      "    '''Generates a plot of data from a file, and formates chart layout\n",
      "    filename = file to anaylisied'''\n",
      "\n",
      "    'Define X & Y axis data to be ploted'\n",
      "    xAxisData = getColumn(filename, 1)\n",
      "    yAxisData = getColumn(filename, 2)\n",
      "\n",
      "    'Define Plot layout, axis lables, legends, etc'\n",
      "    PlotLayout = {'fileName': 'Spectra Counts', # Plot filename \n",
      "                  'title': 'Counts/keV', # Title lable\n",
      "                  'titleFontSize': 22, # Title lable font size\n",
      "                  'X-Lable': 'keV', # X axis lable\n",
      "                  'Y-Lable': 'Counts', # Y axis lable\n",
      "                  'axisFontSize': 14, # X & Y axis lable font size\n",
      "                  'xAxisMax': 20, # upper scale limit for X axis\n",
      "                  'yAxisMax': 7000, # upper scale limit for y axis\n",
      "                  'lineColourType': 'r', # line colour and style\n",
      "                  'lineWeight': 1.8 # weight of line\n",
      "                  }\n",
      "    \n",
      "    'Add PlotLayout objects to plot'\n",
      "    plt.figure(PlotLayout['fileName'])\n",
      "    plt.title(PlotLayout['title'], fontsize = PlotLayout['titleFontSize'])\n",
      "    plt.xlabel(PlotLayout['X-Lable'], fontsize = PlotLayout['axisFontSize'])\n",
      "    plt.ylabel(PlotLayout['Y-Lable'], fontsize = PlotLayout['axisFontSize'])\n",
      "\n",
      "    'Generates the plot'\n",
      "    plt.plot(xAxisData, yAxisData,\n",
      "             PlotLayout['lineColourType'], \n",
      "             linewidth = PlotLayout['lineWeight'])\n",
      "    plt.axis([0, PlotLayout['xAxisMax'], 0, PlotLayout['yAxisMax']])\n",
      "    plt.show()"
     ],
     "language": "python",
     "metadata": {},
     "outputs": [],
     "prompt_number": 21
    },
    {
     "cell_type": "code",
     "collapsed": false,
     "input": [
      "'''For loop to print dataFileRange\n",
      "Prints filepath of each .csv file anaylisied \n",
      "Uses dataArray() function to print matrix of each file\n",
      "Uses dataArray() and plotFile() functions to print each file'''\n",
      "\n",
      "for files in dataFilesRange:\n",
      "    print files #Prints fill path\n",
      "    \n",
      "    '''dataArray takes 3 arrguments; filename, StartRow, and LastColumn\n",
      "    The variable dataArray is stored as, MUST match the getColumn Function'''\n",
      "    dataToPlot = dataArray(files, 26, 3) #Defines data and limits\n",
      "    print dataToPlot #Prints matrix\n",
      "    plotFile(dataToPlot) #Generates plot"
     ],
     "language": "python",
     "metadata": {},
     "outputs": [],
     "prompt_number": 22
    },
    {
     "cell_type": "code",
     "collapsed": false,
     "input": [
      "'''Make plotting loop into a function\n",
      "Make second function to prints all plots in line with name like in SC'''"
     ],
     "language": "python",
     "metadata": {},
     "outputs": [
      {
       "metadata": {},
       "output_type": "pyout",
       "prompt_number": 10,
       "text": [
        "'Make plotting loop into a function\\nMake second function to prints all plots in line with name like in SC'"
       ]
      }
     ],
     "prompt_number": 10
    },
    {
     "cell_type": "code",
     "collapsed": false,
     "input": [],
     "language": "python",
     "metadata": {},
     "outputs": []
    },
    {
     "cell_type": "code",
     "collapsed": false,
     "input": [],
     "language": "python",
     "metadata": {},
     "outputs": []
    }
   ],
   "metadata": {}
  }
 ]
}