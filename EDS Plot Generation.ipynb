{
 "metadata": {
  "name": "",
  "signature": "sha256:b4c8a8e626b9e47408519ab5b4fdfc78c3fb0840c3ceb403c08af600a1c0d6ea"
 },
 "nbformat": 3,
 "nbformat_minor": 0,
 "worksheets": [
  {
   "cells": [
    {
     "cell_type": "code",
     "collapsed": false,
     "input": [
      "\"\"\"Code to plot an EDS spectra anaylsis from a master csv file\n",
      "Code by Scott Gleason, University of New South Wales (UNSW), Australia \n",
      "S.Gleason@student.unsw.edu.au, April 2015\"\"\""
     ],
     "language": "python",
     "metadata": {},
     "outputs": [
      {
       "metadata": {},
       "output_type": "pyout",
       "prompt_number": 1,
       "text": [
        "'Code to plot an EDS spectra anaylsis from a master csv file\\nCode by Scott Gleason, University of New South Wales (UNSW), Australia \\nS.Gleason@student.unsw.edu.au, April 2015'"
       ]
      }
     ],
     "prompt_number": 1
    },
    {
     "cell_type": "code",
     "collapsed": false,
     "input": [
      "'imports numpy and matplotlib libaries into code'\n",
      "import numpy as np\n",
      "import matplotlib.pyplot as plt"
     ],
     "language": "python",
     "metadata": {},
     "outputs": [],
     "prompt_number": 2
    },
    {
     "cell_type": "code",
     "collapsed": false,
     "input": [
      "'Directs code to head file location on drive'\n",
      "HeadFile = 'C:\\Users\\z3492622\\Documents\\PhD Files\\Lab Work'\n",
      "SubFile = '\\SEM\\SEM_T1235_070415\\EDS Spectra'"
     ],
     "language": "python",
     "metadata": {},
     "outputs": [],
     "prompt_number": 3
    },
    {
     "cell_type": "code",
     "collapsed": false,
     "input": [
      "'Directs code to the file to be ploted'\n",
      "File = '\\Python Code Test\\TestCodeFile2.csv'\n",
      "\n",
      "'Assembles full file path as a variable for use within code'\n",
      "Fname = HeadFile + SubFile + File"
     ],
     "language": "python",
     "metadata": {},
     "outputs": [],
     "prompt_number": 4
    },
    {
     "cell_type": "code",
     "collapsed": false,
     "input": [
      "'''Loads full file path as a variable into numpy,\n",
      "stores it as a as an array and prints it (as a check)'''\n",
      "\n",
      "'''These variable define the array limits\n",
      "StartRow is the row data starts on\n",
      "LastColumn is the column data ends on\n",
      "(i.e. this cuts unneed instriment data, dates, etc)'''\n",
      "StartRow = 26\n",
      "LastColumn = 3\n",
      "\n",
      "'Creats data variable, should not have to edit this string'\n",
      "data = np.loadtxt(Fname, delimiter = ',', \n",
      "                  skiprows = StartRow - 1, usecols = range(0, LastColumn, 1))\n",
      "print data"
     ],
     "language": "python",
     "metadata": {},
     "outputs": [
      {
       "output_type": "stream",
       "stream": "stdout",
       "text": [
        "[[  0.00000000e+00  -4.74997495e-01   0.00000000e+00]\n",
        " [  1.00000000e+00  -4.69996995e-01   0.00000000e+00]\n",
        " [  2.00000000e+00  -4.64996495e-01   0.00000000e+00]\n",
        " ..., \n",
        " [  4.09300000e+03   1.99920490e+01   0.00000000e+00]\n",
        " [  4.09400000e+03   1.99970495e+01   0.00000000e+00]\n",
        " [  4.09500000e+03   2.00020500e+01   0.00000000e+00]]\n"
       ]
      }
     ],
     "prompt_number": 5
    },
    {
     "cell_type": "code",
     "collapsed": false,
     "input": [
      "'Defines function to direct code to specific columns within data'\n",
      "'First argument is the filename, second argument is the column'\n",
      "def getColumn(filename, column):\n",
      "    'This is the array of the filename variable defined above'\n",
      "    data\n",
      "    return [result[column] for result in data]"
     ],
     "language": "python",
     "metadata": {},
     "outputs": [],
     "prompt_number": 6
    },
    {
     "cell_type": "code",
     "collapsed": false,
     "input": [
      "'Define X & Y axis data to be ploted'\n",
      "xAxisData = getColumn(Fname, 1)\n",
      "yAxisData = getColumn(Fname, 2)"
     ],
     "language": "python",
     "metadata": {},
     "outputs": [],
     "prompt_number": 7
    },
    {
     "cell_type": "code",
     "collapsed": false,
     "input": [
      "'Generates plot of data, and chart layout'\n",
      "\n",
      "'Define Plot layout, axis lables, legends, etc'\n",
      "plt.figure(\"Counts/keV\")\n",
      "plt.title(\"Counts/keV\", fontsize = 22)\n",
      "AxisFontSize = 14\n",
      "plt.xlabel(\"keV\", fontsize = AxisFontSize)\n",
      "plt.ylabel(\"Counts\", fontsize = AxisFontSize)\n",
      "LineType = 'g'\n",
      "\n",
      "'Sets axis upper limit'\n",
      "xMax = 20\n",
      "yMax = 7000\n",
      "\n",
      "'Generates plot'\n",
      "plt.plot(xAxisData, yAxisData, LineType, linewidth = 1.8)\n",
      "plt.axis([0, xMax, 0, yMax])\n",
      "plt.show()"
     ],
     "language": "python",
     "metadata": {},
     "outputs": [],
     "prompt_number": 8
    },
    {
     "cell_type": "code",
     "collapsed": false,
     "input": [],
     "language": "python",
     "metadata": {},
     "outputs": []
    }
   ],
   "metadata": {}
  }
 ]
}