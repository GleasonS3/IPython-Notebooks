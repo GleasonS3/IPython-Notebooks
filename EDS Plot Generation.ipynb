{
 "cells": [
  {
   "cell_type": "code",
   "execution_count": 1,
   "metadata": {
    "collapsed": false
   },
   "outputs": [
    {
     "data": {
      "text/plain": [
       "'Make a plot function (lesson 6), run it trough a loop (lesson 4), \\nadd glob libary for searching\\nalways add COMMENTS within function so help(function) command can be used'"
      ]
     },
     "execution_count": 1,
     "metadata": {},
     "output_type": "execute_result"
    }
   ],
   "source": [
    "'''Code to plot an EDS spectra anaylsis from a master csv file\n",
    "Code by Scott Gleason, University of New South Wales (UNSW), Australia \n",
    "S.Gleason@student.unsw.edu.au, April 2015'''\n",
    "\n",
    "'''Make a plot function (lesson 6), run it trough a loop (lesson 4), \n",
    "add glob libary for searching\n",
    "always add COMMENTS within function so help(function) command can be used'''"
   ]
  },
  {
   "cell_type": "code",
   "execution_count": 2,
   "metadata": {
    "collapsed": false
   },
   "outputs": [],
   "source": [
    "'imports numpy and matplotlib libaries into code'\n",
    "import numpy as np\n",
    "import matplotlib.pyplot as plt"
   ]
  },
  {
   "cell_type": "code",
   "execution_count": 3,
   "metadata": {
    "collapsed": false
   },
   "outputs": [
    {
     "name": "stdout",
     "output_type": "stream",
     "text": [
      "C:\\Users\\z3492622\\Documents\\PhD Project\\Results\n"
     ]
    }
   ],
   "source": [
    "cd 'C:\\Users\\z3492622\\Documents\\PhD Project\\Results'"
   ]
  },
  {
   "cell_type": "code",
   "execution_count": 4,
   "metadata": {
    "collapsed": false
   },
   "outputs": [
    {
     "name": "stdout",
     "output_type": "stream",
     "text": [
      "C:\\Users\\z3492622\\Documents\\PhD Project\\Results\\SEM\\2015-04-04 (T2 3 5)\\EDS Anaylsis\\Python Code Test\n"
     ]
    }
   ],
   "source": [
    "cd 'SEM\\\\2015-04-04 (T2 3 5)\\EDS Anaylsis\\Python Code Test'"
   ]
  },
  {
   "cell_type": "code",
   "execution_count": 5,
   "metadata": {
    "collapsed": false
   },
   "outputs": [
    {
     "name": "stdout",
     "output_type": "stream",
     "text": [
      "File is:\n",
      "TestCodeFile2.csv\n"
     ]
    }
   ],
   "source": [
    "'File to be ploted stored as a variable and printed'\n",
    "Fname = 'TestCodeFile2.csv'\n",
    "\n",
    "print 'File is:'\n",
    "print Fname"
   ]
  },
  {
   "cell_type": "code",
   "execution_count": 6,
   "metadata": {
    "collapsed": false
   },
   "outputs": [
    {
     "name": "stdout",
     "output_type": "stream",
     "text": [
      "[[  0.00000000e+00  -4.74997495e-01   0.00000000e+00]\n",
      " [  1.00000000e+00  -4.69996995e-01   0.00000000e+00]\n",
      " [  2.00000000e+00  -4.64996495e-01   0.00000000e+00]\n",
      " ..., \n",
      " [  4.09300000e+03   1.99920490e+01   0.00000000e+00]\n",
      " [  4.09400000e+03   1.99970495e+01   0.00000000e+00]\n",
      " [  4.09500000e+03   2.00020500e+01   0.00000000e+00]]\n"
     ]
    }
   ],
   "source": [
    "'''Loads file as a variable into numpy,\n",
    "stores it as a as an array and prints it (as a check)'''\n",
    "\n",
    "'''These variable define the array limits\n",
    "StartRow is the row data starts on\n",
    "LastColumn is the column data ends on\n",
    "(i.e. this cuts unneed instriment data, dates, etc)'''\n",
    "StartRow = 26\n",
    "LastColumn = 3\n",
    "\n",
    "'Creats data variable, should not have to edit this string'\n",
    "dataMatrix = np.loadtxt(Fname, delimiter = ',', \n",
    "                  skiprows = StartRow - 1, usecols = range(0, LastColumn, 1))\n",
    "print dataMatrix"
   ]
  },
  {
   "cell_type": "code",
   "execution_count": 7,
   "metadata": {
    "collapsed": false
   },
   "outputs": [],
   "source": [
    "def getColumn(filename, column):\n",
    "    '''Defines function to direct code to specific columns within data\n",
    "    First argument is the filename, second argument is the column'''\n",
    "    \n",
    "    'Uses dataMatrix path defined above'\n",
    "    return [result[column] for result in dataMatrix]"
   ]
  },
  {
   "cell_type": "code",
   "execution_count": 8,
   "metadata": {
    "collapsed": false
   },
   "outputs": [],
   "source": [
    "'Define X & Y axis data to be ploted'\n",
    "xAxisData = getColumn(Fname, 1)\n",
    "yAxisData = getColumn(Fname, 2)"
   ]
  },
  {
   "cell_type": "code",
   "execution_count": 9,
   "metadata": {
    "collapsed": false
   },
   "outputs": [],
   "source": [
    "'Generates plot of data, and chart layout'\n",
    "\n",
    "'Define Plot layout, axis lables, legends, etc'\n",
    "plt.figure(\"Counts/keV\")\n",
    "plt.title(\"Counts/keV\", fontsize = 22)\n",
    "AxisFontSize = 14\n",
    "plt.xlabel(\"keV\", fontsize = AxisFontSize)\n",
    "plt.ylabel(\"Counts\", fontsize = AxisFontSize)\n",
    "LineType = 'g'\n",
    "\n",
    "'Sets axis upper limit'\n",
    "xMax = 20\n",
    "yMax = 7000\n",
    "\n",
    "'Generates plot'\n",
    "plt.plot(xAxisData, yAxisData, LineType, linewidth = 1.8)\n",
    "plt.axis([0, xMax, 0, yMax])\n",
    "plt.show()"
   ]
  },
  {
   "cell_type": "code",
   "execution_count": null,
   "metadata": {
    "collapsed": false
   },
   "outputs": [],
   "source": []
  }
 ],
 "metadata": {
  "kernelspec": {
   "display_name": "Python 2",
   "language": "python",
   "name": "python2"
  },
  "language_info": {
   "codemirror_mode": {
    "name": "ipython",
    "version": 2
   },
   "file_extension": ".py",
   "mimetype": "text/x-python",
   "name": "python",
   "nbconvert_exporter": "python",
   "pygments_lexer": "ipython2",
   "version": "2.7.8"
  }
 },
 "nbformat": 4,
 "nbformat_minor": 0
}
