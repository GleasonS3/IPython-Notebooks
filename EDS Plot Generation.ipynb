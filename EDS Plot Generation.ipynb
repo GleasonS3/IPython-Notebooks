{
 "metadata": {
  "name": "",
  "signature": "sha256:c9be4dd1cdde19c3e50f745f32b752b8e4c42c844bf5fc77c798c77558c73791"
 },
 "nbformat": 3,
 "nbformat_minor": 0,
 "worksheets": [
  {
   "cells": [
    {
     "cell_type": "code",
     "collapsed": false,
     "input": [
      "'''Code to plot an EDS spectra anaylsis from a master csv file\n",
      "Code by Scott Gleason, University of New South Wales (UNSW), Australia \n",
      "S.Gleason@student.unsw.edu.au, April 2015'''\n",
      "\n",
      "'''Make a plot function (lesson 6), run it trough a loop (lesson 4), \n",
      "add glob libary for searching\n",
      "always add COMMENTS within function so help(function) command can be used'''"
     ],
     "language": "python",
     "metadata": {},
     "outputs": [
      {
       "metadata": {},
       "output_type": "pyout",
       "prompt_number": 10,
       "text": [
        "'Make a plot function (lesson 6), run it trough a loop (lesson 4), \\nadd glob libary for searching\\nalways add COMMENTS within function so help(function) command can be used'"
       ]
      }
     ],
     "prompt_number": 10
    },
    {
     "cell_type": "code",
     "collapsed": false,
     "input": [
      "'imports numpy and matplotlib libaries into code'\n",
      "import numpy as np\n",
      "import matplotlib.pyplot as plt"
     ],
     "language": "python",
     "metadata": {},
     "outputs": [],
     "prompt_number": 11
    },
    {
     "cell_type": "code",
     "collapsed": false,
     "input": [
      "'Directs code to head file location on drive'\n",
      "HeadFile = 'C:\\Users\\z3492622\\Documents\\PhD Project\\Results'\n",
      "SubFile = '\\SEM\\X2015-04-04 [T2 3 5]\\EDS Anaylsis'"
     ],
     "language": "python",
     "metadata": {},
     "outputs": [],
     "prompt_number": 18
    },
    {
     "cell_type": "code",
     "collapsed": false,
     "input": [
      "'Directs code to the file to be ploted'\n",
      "File = '\\Python Code Test\\TestCodeFile2.csv'\n",
      "\n",
      "'Assembles full file path as a variable for use within code'\n",
      "Fname = HeadFile + SubFile + File\n",
      "print Fname"
     ],
     "language": "python",
     "metadata": {},
     "outputs": [
      {
       "output_type": "stream",
       "stream": "stdout",
       "text": [
        "C:\\Users\\z3492622\\Documents\\PhD Project\\Results\\SEM\\X2015-04-04 [T2 3 5]\\EDS Anaylsis\\Python Code Test\\TestCodeFile2.csv\n"
       ]
      }
     ],
     "prompt_number": 19
    },
    {
     "cell_type": "code",
     "collapsed": false,
     "input": [
      "'''Loads full file path as a variable into numpy,\n",
      "stores it as a as an array and prints it (as a check)'''\n",
      "\n",
      "'''These variable define the array limits\n",
      "StartRow is the row data starts on\n",
      "LastColumn is the column data ends on\n",
      "(i.e. this cuts unneed instriment data, dates, etc)'''\n",
      "StartRow = 26\n",
      "LastColumn = 3\n",
      "\n",
      "'Creats data variable, should not have to edit this string'\n",
      "dataMatrix = np.loadtxt(Fname, delimiter = ',', \n",
      "                  skiprows = StartRow - 1, usecols = range(0, LastColumn, 1))\n",
      "print dataMatrix"
     ],
     "language": "python",
     "metadata": {},
     "outputs": [
      {
       "output_type": "stream",
       "stream": "stdout",
       "text": [
        "[[  0.00000000e+00  -4.74997495e-01   0.00000000e+00]\n",
        " [  1.00000000e+00  -4.69996995e-01   0.00000000e+00]\n",
        " [  2.00000000e+00  -4.64996495e-01   0.00000000e+00]\n",
        " ..., \n",
        " [  4.09300000e+03   1.99920490e+01   0.00000000e+00]\n",
        " [  4.09400000e+03   1.99970495e+01   0.00000000e+00]\n",
        " [  4.09500000e+03   2.00020500e+01   0.00000000e+00]]\n"
       ]
      }
     ],
     "prompt_number": 20
    },
    {
     "cell_type": "code",
     "collapsed": false,
     "input": [
      "def getColumn(filename, column):\n",
      "    '''Defines function to direct code to specific columns within data\n",
      "    First argument is the filename, second argument is the column'''\n",
      "    \n",
      "    'Uses dataMatrix path defined above'\n",
      "    return [result[column] for result in dataMatrix]"
     ],
     "language": "python",
     "metadata": {},
     "outputs": [],
     "prompt_number": 21
    },
    {
     "cell_type": "code",
     "collapsed": false,
     "input": [
      "'Define X & Y axis data to be ploted'\n",
      "xAxisData = getColumn(Fname, 1)\n",
      "yAxisData = getColumn(Fname, 2)"
     ],
     "language": "python",
     "metadata": {},
     "outputs": [],
     "prompt_number": 22
    },
    {
     "cell_type": "code",
     "collapsed": false,
     "input": [
      "'Generates plot of data, and chart layout'\n",
      "\n",
      "'Define Plot layout, axis lables, legends, etc'\n",
      "plt.figure(\"Counts/keV\")\n",
      "plt.title(\"Counts/keV\", fontsize = 22)\n",
      "AxisFontSize = 14\n",
      "plt.xlabel(\"keV\", fontsize = AxisFontSize)\n",
      "plt.ylabel(\"Counts\", fontsize = AxisFontSize)\n",
      "LineType = 'g'\n",
      "\n",
      "'Sets axis upper limit'\n",
      "xMax = 20\n",
      "yMax = 7000\n",
      "\n",
      "'Generates plot'\n",
      "plt.plot(xAxisData, yAxisData, LineType, linewidth = 1.8)\n",
      "plt.axis([0, xMax, 0, yMax])\n",
      "plt.show()"
     ],
     "language": "python",
     "metadata": {},
     "outputs": [],
     "prompt_number": 23
    },
    {
     "cell_type": "code",
     "collapsed": false,
     "input": [],
     "language": "python",
     "metadata": {},
     "outputs": []
    }
   ],
   "metadata": {}
  }
 ]
}