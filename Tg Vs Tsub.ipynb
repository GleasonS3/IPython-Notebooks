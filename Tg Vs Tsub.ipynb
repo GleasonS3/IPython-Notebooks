{
 "cells": [
  {
   "cell_type": "code",
   "execution_count": 1,
   "metadata": {
    "collapsed": false
   },
   "outputs": [
    {
     "data": {
      "text/plain": [
       "'Code to plot Tg Vs Tsub at RT from .txt directory\\nCode by Scott Gleason, University of New South Wales (UNSW), Australia \\nS.Gleason@student.unsw.edu.au, November 2015'"
      ]
     },
     "execution_count": 1,
     "metadata": {},
     "output_type": "execute_result"
    }
   ],
   "source": [
    "'''Code to plot Tg Vs Tsub at RT from .txt directory\n",
    "Code by Scott Gleason, University of New South Wales (UNSW), Australia \n",
    "S.Gleason@student.unsw.edu.au, November 2015'''"
   ]
  },
  {
   "cell_type": "code",
   "execution_count": 2,
   "metadata": {
    "collapsed": false
   },
   "outputs": [],
   "source": [
    "'''Imports numpy, matplotlib, and glob libaries \n",
    "numpy & matplotlib allow for complex math\n",
    "glob allows for pattern matching with * and ? wild cards\n",
    "    (note glob's only function is glob (i.e. glob.glob('search critrea')))'''\n",
    "\n",
    "'%matplotlib inline'\n",
    "'Generates plots inline of the notebook. Commit out if want indivudual files'\n",
    "\n",
    "import numpy as np\n",
    "import matplotlib.pyplot as plt\n",
    "from matplotlib.ticker import AutoMinorLocator #Used for minor axis ticks\n",
    "import glob"
   ]
  },
  {
   "cell_type": "code",
   "execution_count": 3,
   "metadata": {
    "collapsed": false
   },
   "outputs": [
    {
     "name": "stdout",
     "output_type": "stream",
     "text": [
      "C:\\Users\\z3492622\\Documents\\PhD Project\\Results\n"
     ]
    }
   ],
   "source": [
    "cd 'C:\\\\Users\\\\z3492622\\\\Documents\\\\PhD Project\\\\Results'"
   ]
  },
  {
   "cell_type": "code",
   "execution_count": 4,
   "metadata": {
    "collapsed": false
   },
   "outputs": [
    {
     "name": "stdout",
     "output_type": "stream",
     "text": [
      "C:\\Users\\z3492622\\Documents\\PhD Project\\Results\\Modelling\n"
     ]
    }
   ],
   "source": [
    "cd 'Modelling\\\\'"
   ]
  },
  {
   "cell_type": "code",
   "execution_count": 5,
   "metadata": {
    "collapsed": false
   },
   "outputs": [
    {
     "name": "stdout",
     "output_type": "stream",
     "text": [
      "Directory to be anaylised:\n",
      "USGs\n"
     ]
    }
   ],
   "source": [
    "'Directs to directory containing files to be anaylised'\n",
    "\n",
    "Folder = 'USGs'\n",
    "\n",
    "print 'Directory to be anaylised:'\n",
    "print Folder"
   ]
  },
  {
   "cell_type": "code",
   "execution_count": 6,
   "metadata": {
    "collapsed": false
   },
   "outputs": [],
   "source": [
    "def dataFilesRange(FileType, StartFile = 0, EndFile = None):\n",
    "    '''Preforms a glob list of *.filetype within directory\n",
    "    FileType = csv, txt, etc\n",
    "    StartFile = Number of first file to be anaylsis from the glob\n",
    "        Defaulted to 0\n",
    "    EndFile = Number of last file to be anaylsis from the glob\n",
    "        Defaulted to None, as to return last value'''\n",
    "    \n",
    "    'assertion test for the function'\n",
    "    assert StartFile > -1, 'First file must be atleast 0'\n",
    "    if EndFile<>None:\n",
    "        assert EndFile > 0, 'Last file must be atleast 1'\n",
    "\n",
    "    dataFiles = glob.glob(Folder + '\\\\*.'+ FileType)\n",
    "\n",
    "    'set range of files to be analysed'\n",
    "    Range = dataFiles[StartFile:EndFile]\n",
    "\n",
    "    return Range"
   ]
  },
  {
   "cell_type": "code",
   "execution_count": 7,
   "metadata": {
    "collapsed": false
   },
   "outputs": [],
   "source": [
    "def dataArray(filename, Delimiter = ',', StartRow = 1, LastColumn = None):\n",
    "    '''Creates an array from an input file, and defines limits of the array\n",
    "    filename = file to anaylisied\n",
    "    Delimiter = data separator (defaulted to ',' for .csv)\n",
    "    StartRow = row data starts on (defaulted to 1)\n",
    "    LastColumn = column data ends on (defaulted to None)\n",
    "    Note: .txt use 'None' as Delimiter'''\n",
    "    \n",
    "    assert StartRow > 0, 'First row must be atleast 1'\n",
    "    \n",
    "    '''If condition determining the last column of the array\n",
    "    also contains assertion to ensure last column is valid'''\n",
    "    if LastColumn<>None:\n",
    "        assert LastColumn > 0, 'Last column must be atleast 1'\n",
    "        Column = range(0, LastColumn, 1)\n",
    "    else:\n",
    "        Column = None\n",
    "\n",
    "    'Returns array of data, do not edit this string'\n",
    "    return np.loadtxt(filename, delimiter = Delimiter,\n",
    "                      skiprows = StartRow - 1, \n",
    "                      usecols = Column)"
   ]
  },
  {
   "cell_type": "code",
   "execution_count": 8,
   "metadata": {
    "collapsed": false
   },
   "outputs": [],
   "source": [
    "def plotFile(filename, title, xAxis=1, yAxis=2):\n",
    "    '''Generates a plot of data from a file, and formates chart layout\n",
    "    filename = file to anaylisied\n",
    "    title = tile of the plot\n",
    "    xAxis = Column of X-Axis Data (defaulted to 1st column)\n",
    "    yAxis = Column of Y-Axis Data (defaulted to 2nd column)'''\n",
    "    \n",
    "    'Assertion to ensure x and y axis are valid'\n",
    "    assert xAxis > 0, 'X Axis must be at least 1'\n",
    "    assert yAxis > 0, 'Y Axis must be at least 1'\n",
    "    \n",
    "    'Defines the columns X & Y axis data come from in filename array'\n",
    "    xAxisData = filename[:, xAxis-1]\n",
    "    Y1 = filename[:, yAxis-1]\n",
    "    Y2 = filename[:, yAxis]\n",
    "    Y3 = filename[:, yAxis+1]\n",
    "    Y4 = filename[:, yAxis+2]\n",
    "    \n",
    "    'Define Plot layout, axis lables, legends, etc'\n",
    "    PlotLayout = {'fileName': title, # Plot filename \n",
    "                  'title': title, # Title lable\n",
    "                  'titleFontSize': 25, # Title lable font size\n",
    "                  'X-Lable': '$T_{g}$  $(^{\\circ}C)$', # X axis lable\n",
    "                  'Y-Lable': '$T_{sub}$  $(^{\\circ}C)$', # Y axis lable\n",
    "                  'axisFontSize': 18, # X & Y axis lable font size\n",
    "                  'xAxisMin': 90, # lower scale limit for x axis\n",
    "                  'xAxisMax': 180, # upper scale limit for X axis\n",
    "                  'yAxisMin': -20, # lower scale limit for y axis\n",
    "                  'yAxisMax': 90, # upper scale limit for y axis\n",
    "                  'lineColourType': 'b', # line colour and style\n",
    "                  'lineWeight': 1.2 # weight of line\n",
    "                  }\n",
    "    \n",
    "    'Add PlotLayout objects to plot'\n",
    "    plt.figure(PlotLayout['fileName'])\n",
    "    plt.title(PlotLayout['title'], fontsize = PlotLayout['titleFontSize'])\n",
    "    plt.xlabel(PlotLayout['X-Lable'], fontsize = PlotLayout['axisFontSize'])\n",
    "    plt.ylabel(PlotLayout['Y-Lable'], fontsize = PlotLayout['axisFontSize'])\n",
    "    \n",
    "    \n",
    "    'LIMIT LINES NOT WORKING!!!'\n",
    "    'Add Tg Limit Lines'\n",
    "    r = np.linspace(0,50,10000) # linearly spaced numbers\n",
    "    TgL = 20 + r*0 #\n",
    "    TgH = 40 + r*0 #\n",
    "     \n",
    "    TgLimitLines = [\n",
    "    {'xAxis': r, 'yAxis': TgL, 'colour': 'black', 'line': ':'},\n",
    "    {'xAxis': r, 'yAxis': TgH, 'colour': 'black', 'line': ':'}]\n",
    "    \n",
    "    for i in TgLimitLines:\n",
    "        plt.plot(i['xAxis'], i['yAxis'], \n",
    "            color=i['colour'], linestyle=i['line'], \n",
    "            linewidth=PlotLayout['lineWeight'])\n",
    "    \n",
    "    \n",
    "    'Turns on minor axis ticks'\n",
    "    plt.minorticks_on()\n",
    "\n",
    "    'Generates the plot'\n",
    "    plt.hold(True) \n",
    "    plt.plot(xAxisData, Y1, linewidth = PlotLayout['lineWeight'],\n",
    "            label='$0.7 T_{g}$', linestyle= '--')\n",
    "    plt.plot(xAxisData, Y2, linewidth = PlotLayout['lineWeight'],\n",
    "            label='$0.8 T_{g}$', linestyle= '--')\n",
    "    plt.plot(xAxisData, Y3, linewidth = PlotLayout['lineWeight'],\n",
    "            label='$0.7 T_{g}$ (Plasma)', linestyle= ':')\n",
    "    plt.plot(xAxisData, Y4, linewidth = PlotLayout['lineWeight'],\n",
    "            label='$0.8 T_{g}$ (Plasma)', linestyle= ':')\n",
    "    plt.axis([PlotLayout['xAxisMin'], PlotLayout['xAxisMax'], \n",
    "             PlotLayout['yAxisMin'], PlotLayout['yAxisMax']])    \n",
    "    plt.legend(loc = 'best')\n",
    "    plt.show()"
   ]
  },
  {
   "cell_type": "code",
   "execution_count": 9,
   "metadata": {
    "collapsed": false
   },
   "outputs": [
    {
     "name": "stdout",
     "output_type": "stream",
     "text": [
      "['USGs\\\\Tg_TSub_RawData.csv']\n"
     ]
    }
   ],
   "source": [
    "filesToPlot = dataFilesRange('csv', 0, 1)\n",
    "print filesToPlot"
   ]
  },
  {
   "cell_type": "code",
   "execution_count": 10,
   "metadata": {
    "collapsed": true
   },
   "outputs": [],
   "source": [
    "def PlotFile(filename, title):\n",
    "    '''Plot a .txt or .csv file with a title\n",
    "    Prints filepath of each *.filetype file anaylisied \n",
    "    Uses dataArray() function to print matrix of each file\n",
    "    Uses dataArray() and plotFile() functions to plot each file'''\n",
    "\n",
    "    print filename #Prints files\n",
    "    '''dataArray takes 4 arrguments; filename, Delimiter, StartRow, and LastColumn\n",
    "    Note1: For .csv Delimiter = ',' and for .txt Delimiter = None'''\n",
    "    dataToPlot = dataArray(filename, ',', 2, None) #Defines data and limits\n",
    "    print dataToPlot #Prints matrix\n",
    "    'plotfile requires the X & Y axis be specified'\n",
    "    plotFile(dataToPlot, title, 1, 2) #Generates plot"
   ]
  },
  {
   "cell_type": "code",
   "execution_count": 11,
   "metadata": {
    "collapsed": false
   },
   "outputs": [
    {
     "name": "stdout",
     "output_type": "stream",
     "text": [
      "USGs\\Tg_TSub_RawData.csv\n",
      "[[  93.   -16.8   19.8    0.     0. ]\n",
      " [  94.   -16.1   20.6    0.     0. ]\n",
      " [  95.   -15.4   21.4    0.     0. ]\n",
      " [  96.   -14.7   22.2    0.     0. ]\n",
      " [  97.   -14.    23.     0.     0. ]\n",
      " [  98.   -13.3   23.8    0.     0. ]\n",
      " [  99.   -12.6   24.6    0.     0. ]\n",
      " [ 100.   -11.9   25.4    0.     0. ]\n",
      " [ 101.   -11.2   26.2    0.     0. ]\n",
      " [ 102.   -10.5   27.     0.     0. ]\n",
      " [ 103.    -9.8   27.8    0.     0. ]\n",
      " [ 104.    -9.1   28.6    0.     0. ]\n",
      " [ 105.    -8.4   29.4    0.     0. ]\n",
      " [ 106.    -7.7   30.2    0.     0. ]\n",
      " [ 107.    -7.    31.     0.     0. ]\n",
      " [ 108.    -6.3   31.8    0.     0. ]\n",
      " [ 109.    -5.6   32.6    0.     0. ]\n",
      " [ 110.    -4.9   33.4    0.     0. ]\n",
      " [ 111.    -4.2   34.2    0.     0. ]\n",
      " [ 112.    -3.5   35.     0.     0. ]\n",
      " [ 113.    -2.8   35.8    0.     0. ]\n",
      " [ 114.    -2.1   36.6    0.     0. ]\n",
      " [ 115.    -1.4   37.4    0.     0. ]\n",
      " [ 116.    -0.7   38.2    0.     0. ]\n",
      " [ 117.     0.    39.     0.     0. ]\n",
      " [ 118.     0.7   39.8    0.7   39.8]\n",
      " [ 119.     1.4   40.6    1.4   40.6]\n",
      " [ 120.     2.1   41.4    2.1   41.4]\n",
      " [ 121.     2.8   42.2    2.8   42.2]\n",
      " [ 122.     3.5   43.     3.5   43. ]\n",
      " [ 123.     4.2   43.8    4.2   43.8]\n",
      " [ 124.     4.9   44.6    4.9   44.6]\n",
      " [ 125.     5.6   45.4    5.6   45.4]\n",
      " [ 126.     6.3   46.2    6.3   46.2]\n",
      " [ 127.     7.    47.     7.    47. ]\n",
      " [ 128.     7.7   47.8    7.7   47.8]\n",
      " [ 129.     8.4   48.6    8.4   48.6]\n",
      " [ 130.     9.1   49.4    9.1   49.4]\n",
      " [ 131.     9.8   50.2    9.8   50.2]\n",
      " [ 132.    10.5   51.    10.5   51. ]\n",
      " [ 133.    11.2   51.8   11.2   51.8]\n",
      " [ 134.    11.9   52.6   11.9   52.6]\n",
      " [ 135.    12.6   53.4   12.6   53.4]\n",
      " [ 136.    13.3   54.2   13.3   54.2]\n",
      " [ 137.    14.    55.    14.    55. ]\n",
      " [ 138.    14.7   55.8   14.7   55.8]\n",
      " [ 139.    15.4   56.6   15.4   56.6]\n",
      " [ 140.    16.1   57.4   16.1   57.4]\n",
      " [ 141.    16.8   58.2   16.8   58.2]\n",
      " [ 142.    17.5   59.    17.5   59. ]\n",
      " [ 143.    18.2   59.8   18.2   59.8]\n",
      " [ 144.    18.9   60.6   18.9   60.6]\n",
      " [ 145.    19.6   61.4   19.6   61.4]\n",
      " [ 146.     0.     0.    20.3   62.2]\n",
      " [ 147.     0.     0.    21.    63. ]\n",
      " [ 148.     0.     0.    21.7   63.8]\n",
      " [ 149.     0.     0.    22.4   64.6]\n",
      " [ 150.     0.     0.    23.1   65.4]\n",
      " [ 151.     0.     0.    23.8   66.2]\n",
      " [ 152.     0.     0.    24.5   67. ]\n",
      " [ 153.     0.     0.    25.2   67.8]\n",
      " [ 154.     0.     0.    25.9   68.6]\n",
      " [ 155.     0.     0.    26.6   69.4]\n",
      " [ 156.     0.     0.    27.3   70.2]\n",
      " [ 157.     0.     0.    28.    71. ]\n",
      " [ 158.     0.     0.    28.7   71.8]\n",
      " [ 159.     0.     0.    29.4   72.6]\n",
      " [ 160.     0.     0.    30.1   73.4]\n",
      " [ 161.     0.     0.    30.8   74.2]\n",
      " [ 162.     0.     0.    31.5   75. ]\n",
      " [ 163.     0.     0.    32.2   75.8]\n",
      " [ 164.     0.     0.    32.9   76.6]\n",
      " [ 165.     0.     0.    33.6   77.4]\n",
      " [ 166.     0.     0.    34.3   78.2]\n",
      " [ 167.     0.     0.    35.    79. ]\n",
      " [ 168.     0.     0.    35.7   79.8]\n",
      " [ 169.     0.     0.    36.4   80.6]\n",
      " [ 170.     0.     0.    37.1   81.4]\n",
      " [ 171.     0.     0.    37.8   82.2]\n",
      " [ 172.     0.     0.    38.5   83. ]\n",
      " [ 173.     0.     0.    39.2   83.8]\n",
      " [ 174.     0.     0.    39.9   84.6]]\n"
     ]
    }
   ],
   "source": [
    "PlotFile(filesToPlot[0], '$T_{g}$ Vs $T_{sub}$')"
   ]
  },
  {
   "cell_type": "code",
   "execution_count": null,
   "metadata": {
    "collapsed": true
   },
   "outputs": [],
   "source": []
  }
 ],
 "metadata": {
  "kernelspec": {
   "display_name": "Python 2",
   "language": "python",
   "name": "python2"
  },
  "language_info": {
   "codemirror_mode": {
    "name": "ipython",
    "version": 2
   },
   "file_extension": ".py",
   "mimetype": "text/x-python",
   "name": "python",
   "nbconvert_exporter": "python",
   "pygments_lexer": "ipython2",
   "version": "2.7.8"
  }
 },
 "nbformat": 4,
 "nbformat_minor": 0
}
