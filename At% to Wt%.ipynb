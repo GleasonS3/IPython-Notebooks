{
 "metadata": {
  "name": "",
  "signature": "sha256:9cc3cb26cf0fd2fd7a7de4ebb4bdcf56e1387d76464d122288dd4fe55b197d6d"
 },
 "nbformat": 3,
 "nbformat_minor": 0,
 "worksheets": [
  {
   "cells": [
    {
     "cell_type": "code",
     "collapsed": false,
     "input": [
      "'''Code for converting from At% to Wt% of an alloy\n",
      "Code by Scott Gleason, University of New South Wales (UNSW), Australia \n",
      "S.Gleason@student.unsw.edu.au, April 2015'''"
     ],
     "language": "python",
     "metadata": {},
     "outputs": []
    },
    {
     "cell_type": "code",
     "collapsed": false,
     "input": [
      "/* Takes an At% alloy and converts to Wt% for elements\n",
      "Element properties are entered as an array object\n",
      "Creat function that takes total weight as an input\n",
      "Print alloy in At%, Wt%, wt of each element, and total wt. \n",
      "*/\n",
      "\n",
      "//Stores periodic elements as an array containings an object of each element\n",
      "var elements = [\n",
      "    {name: 'Mg', \n",
      "    atomicPercent: 65, //alloy atomic percent\n",
      "    atomicWeight: 24.305, //amu\n",
      "    density: 1.738}, //g/cm3\n",
      "    \n",
      "    {name: 'Zn', \n",
      "    atomicPercent: 30, //alloy atomic percent\n",
      "    atomicWeight: 65.382, //amu\n",
      "    density: 7.14}, //g/cm3\n",
      "    \n",
      "    {name: 'Ca', \n",
      "    atomicPercent: 5, //alloy atomic percent\n",
      "    atomicWeight: 40.078, //amu\n",
      "    density: 1.55} //g/cm3\n",
      "];\n",
      "\n",
      "fill(179, 46, 79);\n",
      "textSize(13);\n",
      "\n",
      "//Returns alloy name and atomic composition. \n",
      "text('For an alloy of   ' + elements[0].name + elements[0].atomicPercent + elements[1].name + elements[1].atomicPercent + elements[2].name + elements[2].atomicPercent + '   the weight percent of:', 50, 30); \n",
      "\n",
      "//Returns total sum of atomic percent times atomic weight of alloy\n",
      "var totalPercentTimesWeight = elements[0].atomicPercent * elements[0].atomicWeight + elements[1].atomicPercent * elements[1].atomicWeight + elements[2].atomicPercent * elements[2].atomicWeight;\n",
      "\n",
      "//Loop to calculate weight percent of alloy elements from atomic percent\n",
      "for (var i = 0; i < elements.length; i++) {\n",
      "    var percentTimesWeight = elements[i].atomicPercent * elements[i].atomicWeight;\n",
      "    var percentWeight = 100*percentTimesWeight/totalPercentTimesWeight;\n",
      "    text(elements[i].name + ' is ' + percentWeight + ' %', 90, i*30+60);\n",
      "}"
     ],
     "language": "python",
     "metadata": {},
     "outputs": []
    },
    {
     "cell_type": "code",
     "collapsed": false,
     "input": [
      "'''Convert wt% to at%\n",
      "C1' = C1*A2*A3 / (C1*A2*A3 + C2*A1*A3 + C3*A1*A2)\n",
      "\n",
      "Convert at% to wt% \n",
      "C1 = C1'*A1 / (C1'*A1 + ... + Cn'*An)\n",
      "\n",
      "Where Cn = wt%, Cn' = at%, An = atomic weight'''"
     ],
     "language": "python",
     "metadata": {},
     "outputs": []
    },
    {
     "cell_type": "code",
     "collapsed": false,
     "input": [
      "'''Stores periodic elements as an array \n",
      "containings an object of each element'''\n",
      "elements = [\n",
      "    {'name': 'Mg', \n",
      "    'atomicPercent': 65, #alloy atomic percent\n",
      "    'atomicWeight': 24.305, #amu\n",
      "    'density': 1.738}, #g/cm3\n",
      "    \n",
      "    {'name': 'Zn', \n",
      "    'atomicPercent': 30, #alloy atomic percent\n",
      "    'atomicWeight': 65.382, #amu\n",
      "    'density': 7.14}, #g/cm3\n",
      "    \n",
      "    {'name': 'Ca', \n",
      "    'atomicPercent': 5, #alloy atomic percent\n",
      "    'atomicWeight': 40.078, #amu\n",
      "    'density': 1.55} #g/cm3\n",
      "]"
     ],
     "language": "python",
     "metadata": {},
     "outputs": []
    },
    {
     "cell_type": "code",
     "collapsed": false,
     "input": [
      "'Test print of an object within the array'\n",
      "print elements[1]['density']"
     ],
     "language": "python",
     "metadata": {},
     "outputs": []
    }
   ],
   "metadata": {}
  }
 ]
}