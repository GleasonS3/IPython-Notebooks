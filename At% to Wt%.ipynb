{
 "metadata": {
  "name": "",
  "signature": "sha256:785cc43895d338b3e0dd9117f190f1b3db5756666d1c6f898fe52584275aa025"
 },
 "nbformat": 3,
 "nbformat_minor": 0,
 "worksheets": [
  {
   "cells": [
    {
     "cell_type": "code",
     "collapsed": false,
     "input": [
      "'''Code for converting from At% to Wt% of an alloy\n",
      "Code by Scott Gleason, University of New South Wales (UNSW), Australia \n",
      "S.Gleason@student.unsw.edu.au, April 2015'''\n",
      "\n",
      "'''Takes an At% alloy and converts to Wt% for elements\n",
      "Element properties are entered as an array object\n",
      "Creat function that takes total weight as an input\n",
      "Print alloy in At%, Wt%, wt of each element, and total wt.'''"
     ],
     "language": "python",
     "metadata": {},
     "outputs": [
      {
       "metadata": {},
       "output_type": "pyout",
       "prompt_number": 1,
       "text": [
        "'Takes an At% alloy and converts to Wt% for elements\\nElement properties are entered as an array object\\nCreat function that takes total weight as an input\\nPrint alloy in At%, Wt%, wt of each element, and total wt.'"
       ]
      }
     ],
     "prompt_number": 1
    },
    {
     "cell_type": "code",
     "collapsed": false,
     "input": [
      "'''Convert at% to wt% \n",
      "C1 = C1'*A1 / (C1'*A1 + ... + Cn'*An)\n",
      "\n",
      "Convert wt% to at%\n",
      "C1' = C1*A2*A3 / (C1*A2*A3 + C2*A1*A3 + C3*A1*A2)\n",
      "\n",
      "Where Cn = wt%, Cn' = at%, An = atomic weight'''"
     ],
     "language": "python",
     "metadata": {},
     "outputs": [
      {
       "metadata": {},
       "output_type": "pyout",
       "prompt_number": 2,
       "text": [
        "\"Convert at% to wt% \\nC1 = C1'*A1 / (C1'*A1 + ... + Cn'*An)\\n\\nConvert wt% to at%\\nC1' = C1*A2*A3 / (C1*A2*A3 + C2*A1*A3 + C3*A1*A2)\\n\\nWhere Cn = wt%, Cn' = at%, An = atomic weight\""
       ]
      }
     ],
     "prompt_number": 2
    },
    {
     "cell_type": "code",
     "collapsed": false,
     "input": [
      "'''Stores periodic elements as an array \n",
      "containings an object of each element'''\n",
      "elements = [\n",
      "    {'name': 'Mg', \n",
      "    'atomicPercent': 65., #alloy atomic percent\n",
      "    'atomicWeight': 24.305, #amu\n",
      "    'density': 1.738}, #g/cm3\n",
      "    \n",
      "    {'name': 'Zn', \n",
      "    'atomicPercent': 30., #alloy atomic percent\n",
      "    'atomicWeight': 65.382, #amu\n",
      "    'density': 7.14}, #g/cm3\n",
      "    \n",
      "    {'name': 'Ca', \n",
      "    'atomicPercent': 5., #alloy atomic percent\n",
      "    'atomicWeight': 40.078, #amu\n",
      "    'density': 1.55} #g/cm3\n",
      "]"
     ],
     "language": "python",
     "metadata": {},
     "outputs": [],
     "prompt_number": 3
    },
    {
     "cell_type": "code",
     "collapsed": false,
     "input": [
      "'Returns alloy name and atomic composition.'\n",
      "Com1 = elements[0]['name'], elements[0]['atomicPercent']\n",
      "Com2 = elements[1]['name'], elements[1]['atomicPercent']\n",
      "Com3 = elements[2]['name'], elements[2]['atomicPercent']\n",
      "\n",
      "print 'For an at% alloy of ', Com1 + Com2 + Com3, ' the weight percent of:'"
     ],
     "language": "python",
     "metadata": {},
     "outputs": [
      {
       "output_type": "stream",
       "stream": "stdout",
       "text": [
        "For an at% alloy of  ('Mg', 65.0, 'Zn', 30.0, 'Ca', 5.0)  the weight percent of:\n"
       ]
      }
     ],
     "prompt_number": 4
    },
    {
     "cell_type": "code",
     "collapsed": false,
     "input": [
      "'''Returns At% to Wt% denominator of \n",
      "total sum of atomic percent times atomic weight of alloy\n",
      "i.e. C1'*A1 + ... + Cn'*An'''\n",
      "\n",
      "totalAtxAMU = (elements[0]['atomicPercent'] * elements[0]['atomicWeight'] + \n",
      "elements[1]['atomicPercent'] * elements[1]['atomicWeight'] + \n",
      "elements[2]['atomicPercent'] * elements[2]['atomicWeight'])"
     ],
     "language": "python",
     "metadata": {},
     "outputs": [],
     "prompt_number": 5
    },
    {
     "cell_type": "code",
     "collapsed": false,
     "input": [
      "'Loop to calculate weight percent of alloy elements from atomic percent'\n",
      "for i in elements:\n",
      "    AtxAMU = i['atomicPercent'] * i['atomicWeight']\n",
      "    wt = 100 * AtxAMU / totalAtxAMU\n",
      "    wtRound = round(wt, 3)\n",
      "    print i['name'], i['atomicPercent'], 'at% is ', wtRound, 'wt%'"
     ],
     "language": "python",
     "metadata": {},
     "outputs": [
      {
       "output_type": "stream",
       "stream": "stdout",
       "text": [
        "Mg 65.0 at% is  42.222 wt%\n",
        "Zn 30.0 at% is  52.422 wt%\n",
        "Ca 5.0 at% is  5.356 wt%\n"
       ]
      }
     ],
     "prompt_number": 7
    },
    {
     "cell_type": "code",
     "collapsed": false,
     "input": [],
     "language": "python",
     "metadata": {},
     "outputs": []
    }
   ],
   "metadata": {}
  }
 ]
}