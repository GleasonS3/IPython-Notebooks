{
 "metadata": {
  "name": "",
  "signature": "sha256:76ea6e3174cb2b962ed8edcd43f123bb1bbf8bf6fb051358e7b168e3bb96220b"
 },
 "nbformat": 3,
 "nbformat_minor": 0,
 "worksheets": [
  {
   "cells": [
    {
     "cell_type": "code",
     "collapsed": false,
     "input": [
      "'''Code for converting from At% to Wt% of an alloy\n",
      "Code by Scott Gleason, University of New South Wales (UNSW), Australia \n",
      "S.Gleason@student.unsw.edu.au, April 2015'''\n",
      "\n",
      "'''Takes an At% alloy and converts to Wt% for elements\n",
      "Element properties are entered as an array object\n",
      "Creat function that takes total weight as an input\n",
      "Print alloy in At%, Wt%, wt of each element, and total wt.'''"
     ],
     "language": "python",
     "metadata": {},
     "outputs": [
      {
       "metadata": {},
       "output_type": "pyout",
       "prompt_number": 1,
       "text": [
        "'Takes an At% alloy and converts to Wt% for elements\\nElement properties are entered as an array object\\nCreat function that takes total weight as an input\\nPrint alloy in At%, Wt%, wt of each element, and total wt.'"
       ]
      }
     ],
     "prompt_number": 1
    },
    {
     "cell_type": "code",
     "collapsed": false,
     "input": [
      "'''Convert wt% to at%\n",
      "C1' = C1*A2*A3 / (C1*A2*A3 + C2*A1*A3 + C3*A1*A2)\n",
      "\n",
      "Convert at% to wt% \n",
      "C1 = C1'*A1 / (C1'*A1 + ... + Cn'*An)\n",
      "\n",
      "Where Cn = wt%, Cn' = at%, An = atomic weight'''"
     ],
     "language": "python",
     "metadata": {},
     "outputs": [
      {
       "metadata": {},
       "output_type": "pyout",
       "prompt_number": 2,
       "text": [
        "\"Convert wt% to at%\\nC1' = C1*A2*A3 / (C1*A2*A3 + C2*A1*A3 + C3*A1*A2)\\n\\nConvert at% to wt% \\nC1 = C1'*A1 / (C1'*A1 + ... + Cn'*An)\\n\\nWhere Cn = wt%, Cn' = at%, An = atomic weight\""
       ]
      }
     ],
     "prompt_number": 2
    },
    {
     "cell_type": "code",
     "collapsed": false,
     "input": [
      "'''Stores periodic elements as an array \n",
      "containings an object of each element'''\n",
      "elements = [\n",
      "    {'name': 'Mg', \n",
      "    'atomicPercent': 65, #alloy atomic percent\n",
      "    'atomicWeight': 24.305, #amu\n",
      "    'density': 1.738}, #g/cm3\n",
      "    \n",
      "    {'name': 'Zn', \n",
      "    'atomicPercent': 30, #alloy atomic percent\n",
      "    'atomicWeight': 65.382, #amu\n",
      "    'density': 7.14}, #g/cm3\n",
      "    \n",
      "    {'name': 'Ca', \n",
      "    'atomicPercent': 5, #alloy atomic percent\n",
      "    'atomicWeight': 40.078, #amu\n",
      "    'density': 1.55} #g/cm3\n",
      "]"
     ],
     "language": "python",
     "metadata": {},
     "outputs": [],
     "prompt_number": 3
    },
    {
     "cell_type": "code",
     "collapsed": false,
     "input": [
      "'Returns alloy name and atomic composition.' \n",
      "print 'For an alloy of ', \n",
      "       elements[0]['name'], elements[0]['atomicPercent'], \n",
      "       elements[1]['name'], elements[1]['atomicPercent'], \n",
      "       elements[2]['name'], elements[2]['atomicPercent'], \n",
      "       ' the weight percent of:'"
     ],
     "language": "python",
     "metadata": {},
     "outputs": [
      {
       "ename": "IndentationError",
       "evalue": "unexpected indent (<ipython-input-31-54deb15a3b16>, line 3)",
       "output_type": "pyerr",
       "traceback": [
        "\u001b[1;36m  File \u001b[1;32m\"<ipython-input-31-54deb15a3b16>\"\u001b[1;36m, line \u001b[1;32m3\u001b[0m\n\u001b[1;33m    elements[0]['name'], elements[0]['atomicPercent'],\u001b[0m\n\u001b[1;37m    ^\u001b[0m\n\u001b[1;31mIndentationError\u001b[0m\u001b[1;31m:\u001b[0m unexpected indent\n"
       ]
      }
     ],
     "prompt_number": 31
    },
    {
     "cell_type": "code",
     "collapsed": false,
     "input": [
      "'Returns total sum of atomic percent times atomic weight of alloy'\n",
      "totalPercentTimesWeight = \n",
      "elements[0]['atomicPercent'] * elements[0]['atomicWeight'] + \n",
      "elements[1]['atomicPercent'] * elements[1]['atomicWeight'] + \n",
      "elements[2]['atomicPercent'] * elements[2]['atomicWeight']"
     ],
     "language": "python",
     "metadata": {},
     "outputs": [
      {
       "ename": "SyntaxError",
       "evalue": "invalid syntax (<ipython-input-36-c8236ed12b93>, line 2)",
       "output_type": "pyerr",
       "traceback": [
        "\u001b[1;36m  File \u001b[1;32m\"<ipython-input-36-c8236ed12b93>\"\u001b[1;36m, line \u001b[1;32m2\u001b[0m\n\u001b[1;33m    totalPercentTimesWeight =\u001b[0m\n\u001b[1;37m                              ^\u001b[0m\n\u001b[1;31mSyntaxError\u001b[0m\u001b[1;31m:\u001b[0m invalid syntax\n"
       ]
      }
     ],
     "prompt_number": 36
    },
    {
     "cell_type": "code",
     "collapsed": false,
     "input": [
      "totalPercentTimesWeight"
     ],
     "language": "python",
     "metadata": {},
     "outputs": [
      {
       "metadata": {},
       "output_type": "pyout",
       "prompt_number": 35,
       "text": [
        "3741.6749999999997"
       ]
      }
     ],
     "prompt_number": 35
    },
    {
     "cell_type": "code",
     "collapsed": false,
     "input": [
      "//Loop to calculate weight percent of alloy elements from atomic percent\n",
      "for (var i = 0; i < elements.length; i++) {\n",
      "    var percentTimesWeight = elements[i].atomicPercent * elements[i].atomicWeight;\n",
      "    var percentWeight = 100*percentTimesWeight/totalPercentTimesWeight;\n",
      "    text(elements[i].name + ' is ' + percentWeight + ' %', 90, i*30+60);\n",
      "}"
     ],
     "language": "python",
     "metadata": {},
     "outputs": []
    }
   ],
   "metadata": {}
  }
 ]
}